{
 "cells": [
  {
   "cell_type": "markdown",
   "id": "1cd3d546",
   "metadata": {},
   "source": [
    "## Deep Dive into Sentiment Analysis of Twitter Data "
   ]
  },
  {
   "cell_type": "markdown",
   "id": "48e87c18",
   "metadata": {},
   "source": [
    "### Notebook 1:- Data Visualization and Cleaning"
   ]
  },
  {
   "cell_type": "markdown",
   "id": "b62ff0db",
   "metadata": {},
   "source": []
  },
  {
   "cell_type": "markdown",
   "id": "261b991a",
   "metadata": {},
   "source": []
  },
  {
   "cell_type": "markdown",
   "id": "9b8918fa",
   "metadata": {},
   "source": []
  },
  {
   "cell_type": "markdown",
   "id": "63a5e0ab",
   "metadata": {},
   "source": [
    "#### Importing Libraries "
   ]
  },
  {
   "cell_type": "code",
   "execution_count": 1,
   "id": "f4b17b42",
   "metadata": {},
   "outputs": [],
   "source": [
    "# importing necessary libraries and packages\n",
    "\n",
    "\n",
    "#Basic libraries\n",
    "import pandas as pd\n",
    "import numpy as np\n",
    "import seaborn as sns\n",
    "import matplotlib.pyplot as plt\n",
    "%matplotlib inline\n",
    "\n",
    "# NLP related libraries and packages\n",
    "\n",
    "\n",
    "\n",
    "#\n"
   ]
  },
  {
   "cell_type": "code",
   "execution_count": 2,
   "id": "83fd6bf8",
   "metadata": {},
   "outputs": [],
   "source": [
    "# new libraries that needs to be imported \n",
    "\n"
   ]
  },
  {
   "cell_type": "markdown",
   "id": "21ff227e",
   "metadata": {},
   "source": [
    "#### Data Loading"
   ]
  },
  {
   "cell_type": "code",
   "execution_count": null,
   "id": "cfe67c76",
   "metadata": {},
   "outputs": [],
   "source": [
    "# import "
   ]
  }
 ],
 "metadata": {
  "kernelspec": {
   "display_name": "Python 3 (ipykernel)",
   "language": "python",
   "name": "python3"
  },
  "language_info": {
   "codemirror_mode": {
    "name": "ipython",
    "version": 3
   },
   "file_extension": ".py",
   "mimetype": "text/x-python",
   "name": "python",
   "nbconvert_exporter": "python",
   "pygments_lexer": "ipython3",
   "version": "3.10.9"
  }
 },
 "nbformat": 4,
 "nbformat_minor": 5
}
