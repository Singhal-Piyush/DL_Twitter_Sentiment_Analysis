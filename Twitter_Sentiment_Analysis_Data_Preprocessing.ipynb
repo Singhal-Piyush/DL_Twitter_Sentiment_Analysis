{
 "cells": [
  {
   "cell_type": "markdown",
   "id": "d2123c3a",
   "metadata": {},
   "source": [
    "## Deep Dive into Sentiment Analysis of Twitter Data "
   ]
  },
  {
   "cell_type": "markdown",
   "id": "674f94fc",
   "metadata": {},
   "source": [
    "### Notebook 1:- Data Visualization and Cleaning"
   ]
  },
  {
   "cell_type": "markdown",
   "id": "869f61e7",
   "metadata": {},
   "source": []
  },
  {
   "cell_type": "markdown",
   "id": "5a279361",
   "metadata": {},
   "source": []
  },
  {
   "cell_type": "markdown",
   "id": "7265dc56",
   "metadata": {},
   "source": []
  },
  {
   "cell_type": "markdown",
   "id": "4b4f09cb",
   "metadata": {},
   "source": [
    "#### Importing Libraries "
   ]
  },
  {
   "cell_type": "code",
   "execution_count": 1,
   "id": "bff1c4a6",
   "metadata": {},
   "outputs": [],
   "source": [
    "# importing necessary libraries and packages\n",
    "\n",
    "\n",
    "#Basic libraries\n",
    "import pandas as pd\n",
    "import numpy as np\n",
    "import seaborn as sns\n",
    "import matplotlib.pyplot as plt\n",
    "%matplotlib inline\n",
    "\n",
    "# NLP related libraries and packages\n",
    "import nltk\n",
    "\n",
    "\n",
    "#\n"
   ]
  },
  {
   "cell_type": "code",
   "execution_count": 3,
   "id": "76b605fd",
   "metadata": {},
   "outputs": [],
   "source": [
    "# new libraries that needs to be imported \n",
    "import nltk\n"
   ]
  },
  {
   "cell_type": "markdown",
   "id": "4c5338b3",
   "metadata": {},
   "source": [
    "#### Data Loading"
   ]
  },
  {
   "cell_type": "markdown",
   "id": "b206d4b5",
   "metadata": {},
   "source": [
    "Following data has been downloaded from [Kaggle](https://www.kaggle.com/datasets/kazanova/sentiment140/data)"
   ]
  },
  {
   "cell_type": "code",
   "execution_count": 8,
   "id": "c0df2798",
   "metadata": {},
   "outputs": [
    {
     "data": {
      "text/html": [
       "<div>\n",
       "<style scoped>\n",
       "    .dataframe tbody tr th:only-of-type {\n",
       "        vertical-align: middle;\n",
       "    }\n",
       "\n",
       "    .dataframe tbody tr th {\n",
       "        vertical-align: top;\n",
       "    }\n",
       "\n",
       "    .dataframe thead th {\n",
       "        text-align: right;\n",
       "    }\n",
       "</style>\n",
       "<table border=\"1\" class=\"dataframe\">\n",
       "  <thead>\n",
       "    <tr style=\"text-align: right;\">\n",
       "      <th></th>\n",
       "      <th>target</th>\n",
       "      <th>ids</th>\n",
       "      <th>date</th>\n",
       "      <th>flag</th>\n",
       "      <th>user</th>\n",
       "      <th>text</th>\n",
       "    </tr>\n",
       "  </thead>\n",
       "  <tbody>\n",
       "    <tr>\n",
       "      <th>792233</th>\n",
       "      <td>0</td>\n",
       "      <td>2326215527</td>\n",
       "      <td>Thu Jun 25 06:43:22 PDT 2009</td>\n",
       "      <td>NO_QUERY</td>\n",
       "      <td>annalovesyou345</td>\n",
       "      <td>no more coffee.</td>\n",
       "    </tr>\n",
       "    <tr>\n",
       "      <th>1260835</th>\n",
       "      <td>4</td>\n",
       "      <td>1998453861</td>\n",
       "      <td>Mon Jun 01 18:34:28 PDT 2009</td>\n",
       "      <td>NO_QUERY</td>\n",
       "      <td>emilyboldrin</td>\n",
       "      <td>catching up on everything! feeling a little be...</td>\n",
       "    </tr>\n",
       "    <tr>\n",
       "      <th>622167</th>\n",
       "      <td>0</td>\n",
       "      <td>2229093899</td>\n",
       "      <td>Thu Jun 18 15:16:27 PDT 2009</td>\n",
       "      <td>NO_QUERY</td>\n",
       "      <td>WaDuRosario</td>\n",
       "      <td>@omelet_805 OMg you did it again! NOOOO!!! Ahh...</td>\n",
       "    </tr>\n",
       "    <tr>\n",
       "      <th>344602</th>\n",
       "      <td>0</td>\n",
       "      <td>2015703550</td>\n",
       "      <td>Wed Jun 03 05:19:29 PDT 2009</td>\n",
       "      <td>NO_QUERY</td>\n",
       "      <td>ROYISOK</td>\n",
       "      <td>I have a friend I've never seen, he hides his ...</td>\n",
       "    </tr>\n",
       "    <tr>\n",
       "      <th>178384</th>\n",
       "      <td>0</td>\n",
       "      <td>1965954306</td>\n",
       "      <td>Fri May 29 16:51:07 PDT 2009</td>\n",
       "      <td>NO_QUERY</td>\n",
       "      <td>BillieTheWriter</td>\n",
       "      <td>Am listening to Darren Hayes's Spin. Am talkin...</td>\n",
       "    </tr>\n",
       "    <tr>\n",
       "      <th>1495570</th>\n",
       "      <td>4</td>\n",
       "      <td>2069955920</td>\n",
       "      <td>Sun Jun 07 16:50:23 PDT 2009</td>\n",
       "      <td>NO_QUERY</td>\n",
       "      <td>beingmyself</td>\n",
       "      <td>@coolhands hey hey</td>\n",
       "    </tr>\n",
       "    <tr>\n",
       "      <th>1547310</th>\n",
       "      <td>4</td>\n",
       "      <td>2182705442</td>\n",
       "      <td>Mon Jun 15 13:31:35 PDT 2009</td>\n",
       "      <td>NO_QUERY</td>\n",
       "      <td>frankiestarr</td>\n",
       "      <td>Eating healthy is good! Just have to do it eve...</td>\n",
       "    </tr>\n",
       "    <tr>\n",
       "      <th>557571</th>\n",
       "      <td>0</td>\n",
       "      <td>2204547834</td>\n",
       "      <td>Wed Jun 17 02:30:16 PDT 2009</td>\n",
       "      <td>NO_QUERY</td>\n",
       "      <td>starjamgirl</td>\n",
       "      <td>The Creepshow for Soundwave, but no 3EB  I hop...</td>\n",
       "    </tr>\n",
       "    <tr>\n",
       "      <th>522640</th>\n",
       "      <td>0</td>\n",
       "      <td>2192827933</td>\n",
       "      <td>Tue Jun 16 07:36:30 PDT 2009</td>\n",
       "      <td>NO_QUERY</td>\n",
       "      <td>ricardozedan</td>\n",
       "      <td>Working on a new TIM solution, moving to Madal...</td>\n",
       "    </tr>\n",
       "    <tr>\n",
       "      <th>484226</th>\n",
       "      <td>0</td>\n",
       "      <td>2180692535</td>\n",
       "      <td>Mon Jun 15 10:48:55 PDT 2009</td>\n",
       "      <td>NO_QUERY</td>\n",
       "      <td>SaraahPcd</td>\n",
       "      <td>@MissChriis about the dolls 'cause i can see t...</td>\n",
       "    </tr>\n",
       "    <tr>\n",
       "      <th>1548401</th>\n",
       "      <td>4</td>\n",
       "      <td>2183021131</td>\n",
       "      <td>Mon Jun 15 13:56:34 PDT 2009</td>\n",
       "      <td>NO_QUERY</td>\n",
       "      <td>Matthieu77</td>\n",
       "      <td>who got a Netherdrake? That's right, I did. Ne...</td>\n",
       "    </tr>\n",
       "    <tr>\n",
       "      <th>19130</th>\n",
       "      <td>0</td>\n",
       "      <td>1556777130</td>\n",
       "      <td>Sun Apr 19 00:17:44 PDT 2009</td>\n",
       "      <td>NO_QUERY</td>\n",
       "      <td>renee101</td>\n",
       "      <td>Ugh still awake</td>\n",
       "    </tr>\n",
       "    <tr>\n",
       "      <th>892509</th>\n",
       "      <td>4</td>\n",
       "      <td>1691234206</td>\n",
       "      <td>Sun May 03 17:24:09 PDT 2009</td>\n",
       "      <td>NO_QUERY</td>\n",
       "      <td>dmvega</td>\n",
       "      <td>Had a BLAST at Tony's party last night!! Every...</td>\n",
       "    </tr>\n",
       "    <tr>\n",
       "      <th>1059281</th>\n",
       "      <td>4</td>\n",
       "      <td>1963177074</td>\n",
       "      <td>Fri May 29 12:19:21 PDT 2009</td>\n",
       "      <td>NO_QUERY</td>\n",
       "      <td>JohnnyLion</td>\n",
       "      <td>@islandprincess2  Get away from anything that ...</td>\n",
       "    </tr>\n",
       "    <tr>\n",
       "      <th>1480325</th>\n",
       "      <td>4</td>\n",
       "      <td>2066846273</td>\n",
       "      <td>Sun Jun 07 11:16:43 PDT 2009</td>\n",
       "      <td>NO_QUERY</td>\n",
       "      <td>Reneegotupagain</td>\n",
       "      <td>Haha cause i have cowboy boots</td>\n",
       "    </tr>\n",
       "    <tr>\n",
       "      <th>1103029</th>\n",
       "      <td>4</td>\n",
       "      <td>1970994899</td>\n",
       "      <td>Sat May 30 05:54:10 PDT 2009</td>\n",
       "      <td>NO_QUERY</td>\n",
       "      <td>beckyhope</td>\n",
       "      <td>@Jo_Saunders09 s'alright</td>\n",
       "    </tr>\n",
       "    <tr>\n",
       "      <th>780766</th>\n",
       "      <td>0</td>\n",
       "      <td>2323253592</td>\n",
       "      <td>Thu Jun 25 00:14:05 PDT 2009</td>\n",
       "      <td>NO_QUERY</td>\n",
       "      <td>DHarris_Sweetie</td>\n",
       "      <td>@AubreyODay For Danity Kane to perform 1 last ...</td>\n",
       "    </tr>\n",
       "    <tr>\n",
       "      <th>2452</th>\n",
       "      <td>0</td>\n",
       "      <td>1468380624</td>\n",
       "      <td>Tue Apr 07 01:19:07 PDT 2009</td>\n",
       "      <td>NO_QUERY</td>\n",
       "      <td>trpennington</td>\n",
       "      <td>Ahhh!! The Drafthouse had a surprise world pre...</td>\n",
       "    </tr>\n",
       "    <tr>\n",
       "      <th>263491</th>\n",
       "      <td>0</td>\n",
       "      <td>1986556793</td>\n",
       "      <td>Sun May 31 19:00:02 PDT 2009</td>\n",
       "      <td>NO_QUERY</td>\n",
       "      <td>WormsAreFunny</td>\n",
       "      <td>@CharlesGokey Yummmm...  I had a salad with dr...</td>\n",
       "    </tr>\n",
       "    <tr>\n",
       "      <th>211281</th>\n",
       "      <td>0</td>\n",
       "      <td>1974450840</td>\n",
       "      <td>Sat May 30 13:09:45 PDT 2009</td>\n",
       "      <td>NO_QUERY</td>\n",
       "      <td>Jillianpx</td>\n",
       "      <td>@Pink gonna miss your october show in belfast ...</td>\n",
       "    </tr>\n",
       "  </tbody>\n",
       "</table>\n",
       "</div>"
      ],
      "text/plain": [
       "         target         ids                          date      flag  \\\n",
       "792233        0  2326215527  Thu Jun 25 06:43:22 PDT 2009  NO_QUERY   \n",
       "1260835       4  1998453861  Mon Jun 01 18:34:28 PDT 2009  NO_QUERY   \n",
       "622167        0  2229093899  Thu Jun 18 15:16:27 PDT 2009  NO_QUERY   \n",
       "344602        0  2015703550  Wed Jun 03 05:19:29 PDT 2009  NO_QUERY   \n",
       "178384        0  1965954306  Fri May 29 16:51:07 PDT 2009  NO_QUERY   \n",
       "1495570       4  2069955920  Sun Jun 07 16:50:23 PDT 2009  NO_QUERY   \n",
       "1547310       4  2182705442  Mon Jun 15 13:31:35 PDT 2009  NO_QUERY   \n",
       "557571        0  2204547834  Wed Jun 17 02:30:16 PDT 2009  NO_QUERY   \n",
       "522640        0  2192827933  Tue Jun 16 07:36:30 PDT 2009  NO_QUERY   \n",
       "484226        0  2180692535  Mon Jun 15 10:48:55 PDT 2009  NO_QUERY   \n",
       "1548401       4  2183021131  Mon Jun 15 13:56:34 PDT 2009  NO_QUERY   \n",
       "19130         0  1556777130  Sun Apr 19 00:17:44 PDT 2009  NO_QUERY   \n",
       "892509        4  1691234206  Sun May 03 17:24:09 PDT 2009  NO_QUERY   \n",
       "1059281       4  1963177074  Fri May 29 12:19:21 PDT 2009  NO_QUERY   \n",
       "1480325       4  2066846273  Sun Jun 07 11:16:43 PDT 2009  NO_QUERY   \n",
       "1103029       4  1970994899  Sat May 30 05:54:10 PDT 2009  NO_QUERY   \n",
       "780766        0  2323253592  Thu Jun 25 00:14:05 PDT 2009  NO_QUERY   \n",
       "2452          0  1468380624  Tue Apr 07 01:19:07 PDT 2009  NO_QUERY   \n",
       "263491        0  1986556793  Sun May 31 19:00:02 PDT 2009  NO_QUERY   \n",
       "211281        0  1974450840  Sat May 30 13:09:45 PDT 2009  NO_QUERY   \n",
       "\n",
       "                    user                                               text  \n",
       "792233   annalovesyou345                                   no more coffee.   \n",
       "1260835     emilyboldrin  catching up on everything! feeling a little be...  \n",
       "622167       WaDuRosario  @omelet_805 OMg you did it again! NOOOO!!! Ahh...  \n",
       "344602           ROYISOK  I have a friend I've never seen, he hides his ...  \n",
       "178384   BillieTheWriter  Am listening to Darren Hayes's Spin. Am talkin...  \n",
       "1495570      beingmyself                                @coolhands hey hey   \n",
       "1547310     frankiestarr  Eating healthy is good! Just have to do it eve...  \n",
       "557571       starjamgirl  The Creepshow for Soundwave, but no 3EB  I hop...  \n",
       "522640      ricardozedan  Working on a new TIM solution, moving to Madal...  \n",
       "484226         SaraahPcd  @MissChriis about the dolls 'cause i can see t...  \n",
       "1548401       Matthieu77  who got a Netherdrake? That's right, I did. Ne...  \n",
       "19130           renee101                                   Ugh still awake   \n",
       "892509            dmvega  Had a BLAST at Tony's party last night!! Every...  \n",
       "1059281       JohnnyLion  @islandprincess2  Get away from anything that ...  \n",
       "1480325  Reneegotupagain                    Haha cause i have cowboy boots   \n",
       "1103029        beckyhope                          @Jo_Saunders09 s'alright   \n",
       "780766   DHarris_Sweetie  @AubreyODay For Danity Kane to perform 1 last ...  \n",
       "2452        trpennington  Ahhh!! The Drafthouse had a surprise world pre...  \n",
       "263491     WormsAreFunny  @CharlesGokey Yummmm...  I had a salad with dr...  \n",
       "211281         Jillianpx  @Pink gonna miss your october show in belfast ...  "
      ]
     },
     "execution_count": 8,
     "metadata": {},
     "output_type": "execute_result"
    }
   ],
   "source": [
    "# import dataset from kaggle\n",
    "dataset_tweets = pd.read_csv(\"./dataset/training.1600000.processed.noemoticon.csv\",encoding = 'ISO-8859-1', header=None, names=['target', 'ids', 'date', 'flag','user', 'text'])\n",
    "\n",
    "#Viewing 20 samples of the dataset_tweets\n",
    "dataset_tweets.sample(20)b"
   ]
  },
  {
   "cell_type": "code",
   "execution_count": 9,
   "id": "c906667a",
   "metadata": {},
   "outputs": [
    {
     "data": {
      "text/plain": [
       "array(['NO_QUERY'], dtype=object)"
      ]
     },
     "execution_count": 9,
     "metadata": {},
     "output_type": "execute_result"
    }
   ],
   "source": [
    "# viewing unique values in flag\n",
    "dataset_tweets['flag'].unique()"
   ]
  },
  {
   "cell_type": "code",
   "execution_count": 10,
   "id": "9aabbb21",
   "metadata": {},
   "outputs": [
    {
     "data": {
      "text/plain": [
       "target    0\n",
       "ids       0\n",
       "date      0\n",
       "flag      0\n",
       "user      0\n",
       "text      0\n",
       "dtype: int64"
      ]
     },
     "execution_count": 10,
     "metadata": {},
     "output_type": "execute_result"
    }
   ],
   "source": [
    "# checking for null values in the dataset_tweets\n",
    "dataset_tweets.isnull().sum()"
   ]
  },
  {
   "cell_type": "code",
   "execution_count": 11,
   "id": "c894bc72",
   "metadata": {},
   "outputs": [
    {
     "name": "stdout",
     "output_type": "stream",
     "text": [
      "<class 'pandas.core.frame.DataFrame'>\n",
      "RangeIndex: 1600000 entries, 0 to 1599999\n",
      "Data columns (total 6 columns):\n",
      " #   Column  Non-Null Count    Dtype \n",
      "---  ------  --------------    ----- \n",
      " 0   target  1600000 non-null  int64 \n",
      " 1   ids     1600000 non-null  int64 \n",
      " 2   date    1600000 non-null  object\n",
      " 3   flag    1600000 non-null  object\n",
      " 4   user    1600000 non-null  object\n",
      " 5   text    1600000 non-null  object\n",
      "dtypes: int64(2), object(4)\n",
      "memory usage: 73.2+ MB\n"
     ]
    }
   ],
   "source": [
    "# get the complete meta data info about the dataset_tweets\n",
    "dataset_tweets.info()"
   ]
  },
  {
   "cell_type": "markdown",
   "id": "e414ddf8",
   "metadata": {},
   "source": [
    "Data regarding the tweets currently have following 7 columns (target, ids, date, flag, user, text) with no null values present. In total we have 1600000 entries or different tweets observation in the dataset for the analysis."
   ]
  },
  {
   "cell_type": "markdown",
   "id": "2243f085",
   "metadata": {},
   "source": [
    "#### Dropping Unnecessary columns/ Data Cleaning\n",
    "\n",
    "Currently we only need tweets in text column and target column to train and analyze the dataset. Hence, we will be removing other columns from the dataset_tweets. "
   ]
  },
  {
   "cell_type": "code",
   "execution_count": 14,
   "id": "82580daa",
   "metadata": {},
   "outputs": [],
   "source": [
    "# remove unnecessary columns\n",
    "dataset_tweets.drop(labels =['ids', 'date', 'flag', 'user'], axis = 1, inplace = True)\n",
    "dataset_tweets.head(5)"
   ]
  },
  {
   "cell_type": "code",
   "execution_count": 21,
   "id": "54b8fcda",
   "metadata": {},
   "outputs": [
    {
     "name": "stdout",
     "output_type": "stream",
     "text": [
      "[0 4]\n",
      "2\n"
     ]
    }
   ],
   "source": [
    "# Checking for unique values in target column\n",
    "print(dataset_tweets.target.unique())\n",
    "print(dataset_tweets.target.nunique())"
   ]
  },
  {
   "cell_type": "markdown",
   "id": "77164127",
   "metadata": {},
   "source": [
    "We only have 2 unique values in target column that is 0-> Negative and 4-> Positive. We will replace 4 with 1 for ease of understanding and working with the dataset."
   ]
  },
  {
   "cell_type": "code",
   "execution_count": 22,
   "id": "73a9066c",
   "metadata": {},
   "outputs": [
    {
     "name": "stdout",
     "output_type": "stream",
     "text": [
      "[0 1]\n"
     ]
    }
   ],
   "source": [
    "dataset_tweets['target'] = dataset_tweets['target'].replace(4,1)\n",
    "print(dataset_tweets.target.unique())"
   ]
  },
  {
   "cell_type": "code",
   "execution_count": 29,
   "id": "bd3d6e37",
   "metadata": {},
   "outputs": [
    {
     "data": {
      "text/plain": [
       "332225                   We missed you @maggieofthemoon!!! \n",
       "260479    i should be studying for finals...but i'm just...\n",
       "355981    @THEORACLE2 yea girl I did! Still don't have a...\n",
       "517171    Workin it at #GNC till 4 THEN #American Eagle ...\n",
       "585804                 @Itsmeraych but your company smellZ \n",
       "411081    @ryanscene is print screening me on webcam  an...\n",
       "51496                  i never got to sleep  lets hang out \n",
       "180007                        @zerpes You should be here!  \n",
       "537426    McFly+Jb don't believe :O McFlt +Pcd ? Don't b...\n",
       "514171    ahhhh i need tickets to see limp bizkit in lon...\n",
       "604051       @smolFry Better than Thang? A B C's got THANG \n",
       "505531                            @quotetheselines oh boo, \n",
       "666936                                   Working out hurts \n",
       "729438    Guess what I'm doing? Socialising of course. B...\n",
       "280397                  Ugh. Doc wants my wisdom teeth out \n",
       "174425    I was expecting the sun to come out today. I g...\n",
       "722905                       @KaylaO wow that's just great \n",
       "40048     @LeighFrancis Poor you, but once they kick in ...\n",
       "75070       It's Monday again  I have a BNI meeting at 8am.\n",
       "660630    If you got the wrong doer to pay the overdraft...\n",
       "Name: text, dtype: object"
      ]
     },
     "execution_count": 29,
     "metadata": {},
     "output_type": "execute_result"
    }
   ],
   "source": [
    "# Viewing target == 0 i.e Negative Tweets\n",
    "dataset_tweets[dataset_tweets['target']==0].text.sample(20)"
   ]
  },
  {
   "cell_type": "code",
   "execution_count": 28,
   "id": "0f7e996b",
   "metadata": {},
   "outputs": [
    {
     "data": {
      "text/plain": [
       "1375935                  Jason is going to sing me to sleep \n",
       "1382605    otw to pim with @iwettt for a new haircut &amp...\n",
       "1368381    cool.  watching scary movie with my family.hah...\n",
       "1514377           @NobyMetcalf I'm going in! And thank you! \n",
       "1441995                    what a beautiful day for airsoft \n",
       "834214     @bekaaahx gooddd blesssedd the brokeenn roaaad...\n",
       "1175037    @chriscornell WTF? Weird... I don't know what ...\n",
       "887766                         Is loving the wolverine game \n",
       "1338687           Watching back repeat of Robin Hood series \n",
       "1114220    Hey @backstreetboys hi guys... PERU GUYS IS WA...\n",
       "930511                                just arrived in dubai \n",
       "1358312    lazy day yay!  omg so sleepy! and those guys a...\n",
       "1218273               @joe_wiley ei man is that your nissan \n",
       "909932               @savagetaylor next year will be sweeet \n",
       "1555292     Gonna take my doggie to get her staples removed \n",
       "1232553    Good morning lovlies...   How was the weekend?...\n",
       "1031914    I hv this frnd who told me to remove Vista fro...\n",
       "1011921    @markbaars Good Afternoon to you and Happy #fu...\n",
       "1161241    @JackAllTimeLow if I could see straight I'd be...\n",
       "1142928    officially 5 more days to go  best thing is a ...\n",
       "Name: text, dtype: object"
      ]
     },
     "execution_count": 28,
     "metadata": {},
     "output_type": "execute_result"
    }
   ],
   "source": [
    "# Similarly viewing target ==1 i.e Positive tweets\n",
    "dataset_tweets[dataset_tweets['target']==1].text.sample(20)"
   ]
  },
  {
   "cell_type": "code",
   "execution_count": 31,
   "id": "51ee0b2c",
   "metadata": {},
   "outputs": [
    {
     "data": {
      "text/plain": [
       "0    800000\n",
       "1    800000\n",
       "Name: target, dtype: int64"
      ]
     },
     "execution_count": 31,
     "metadata": {},
     "output_type": "execute_result"
    }
   ],
   "source": [
    "# Count the occurance of Negative and Positive tweets in dataset_tweets\n",
    "dataset_tweets.target.value_counts()"
   ]
  },
  {
   "cell_type": "code",
   "execution_count": null,
   "id": "2df284a8",
   "metadata": {},
   "outputs": [],
   "source": []
  },
  {
   "cell_type": "code",
   "execution_count": null,
   "id": "c8983431",
   "metadata": {},
   "outputs": [],
   "source": []
  },
  {
   "cell_type": "code",
   "execution_count": null,
   "id": "8c21b0d2",
   "metadata": {},
   "outputs": [],
   "source": []
  },
  {
   "cell_type": "code",
   "execution_count": null,
   "id": "466a9fe5",
   "metadata": {},
   "outputs": [],
   "source": []
  }
 ],
 "metadata": {
  "kernelspec": {
   "display_name": "Python 3 (ipykernel)",
   "language": "python",
   "name": "python3"
  },
  "language_info": {
   "codemirror_mode": {
    "name": "ipython",
    "version": 3
   },
   "file_extension": ".py",
   "mimetype": "text/x-python",
   "name": "python",
   "nbconvert_exporter": "python",
   "pygments_lexer": "ipython3",
   "version": "3.10.9"
  }
 },
 "nbformat": 4,
 "nbformat_minor": 5
}
