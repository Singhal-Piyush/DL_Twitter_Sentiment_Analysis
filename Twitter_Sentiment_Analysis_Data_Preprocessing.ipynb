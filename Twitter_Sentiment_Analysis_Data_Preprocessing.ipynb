{
 "cells": [
  {
   "cell_type": "markdown",
   "id": "3491b465",
   "metadata": {},
   "source": [
    "## Sentiment Analysis from Scratch: Comprehensive Study of Twitter Dataset"
   ]
  },
  {
   "cell_type": "code",
   "execution_count": null,
   "id": "c47e96d0",
   "metadata": {},
   "outputs": [],
   "source": []
  },
  {
   "cell_type": "markdown",
   "id": "0056733f",
   "metadata": {},
   "source": [
    "### Notebook 1:- Data Visualization and Cleaning"
   ]
  },
  {
   "cell_type": "markdown",
   "id": "f6f36c38",
   "metadata": {},
   "source": []
  },
  {
   "cell_type": "markdown",
   "id": "ef502a8b",
   "metadata": {},
   "source": []
  },
  {
   "cell_type": "markdown",
   "id": "2882ddd4",
   "metadata": {},
   "source": []
  },
  {
   "cell_type": "markdown",
   "id": "5e9c1969",
   "metadata": {},
   "source": [
    "#### Importing Libraries "
   ]
  },
  {
   "cell_type": "code",
   "execution_count": 4,
   "id": "e10f08fc",
   "metadata": {},
   "outputs": [
    {
     "name": "stdout",
     "output_type": "stream",
     "text": [
      "Requirement already satisfied: emot in c:\\users\\piyush\\anaconda3\\lib\\site-packages (3.1)\n"
     ]
    },
    {
     "name": "stderr",
     "output_type": "stream",
     "text": [
      "WARNING: There was an error checking the latest version of pip.\n"
     ]
    },
    {
     "name": "stdout",
     "output_type": "stream",
     "text": [
      "Requirement already satisfied: unidecode in c:\\users\\piyush\\anaconda3\\lib\\site-packages (1.2.0)\n"
     ]
    },
    {
     "name": "stderr",
     "output_type": "stream",
     "text": [
      "WARNING: There was an error checking the latest version of pip.\n"
     ]
    },
    {
     "name": "stdout",
     "output_type": "stream",
     "text": [
      "Requirement already satisfied: Unidecode in c:\\users\\piyush\\anaconda3\\lib\\site-packages (1.2.0)\n"
     ]
    },
    {
     "name": "stderr",
     "output_type": "stream",
     "text": [
      "WARNING: There was an error checking the latest version of pip.\n"
     ]
    }
   ],
   "source": [
    "# Downloading new libraries\n",
    "!pip install emot\n",
    "!pip install unidecode\n",
    "!pip install Unidecode"
   ]
  },
  {
   "cell_type": "code",
   "execution_count": 3,
   "id": "eaa38041",
   "metadata": {},
   "outputs": [],
   "source": [
    "# importing necessary libraries and packages\n",
    "\n",
    "# Libraries to handle os related operations\n",
    "import os \n",
    "import time\n",
    "import warnings\n",
    "warnings.filterwarnings('ignore')\n",
    "\n",
    "#Basic libraries\n",
    "import pandas as pd\n",
    "import numpy as np\n",
    "import seaborn as sns\n",
    "import matplotlib.pyplot as plt\n",
    "%matplotlib inline\n",
    "\n",
    "# libraries to work wtih text processing\n",
    "import re\n",
    "import emot\n",
    "from emot.emo_unicode import EMOTICONS_EMO\n",
    "from string import punctuation\n",
    "import html\n",
    "import unidecode\n",
    "\n",
    "# NLP related libraries and packages\n",
    "import nltk\n",
    "from nltk.corpus import stopwords\n",
    "from nltk.tokenize import WordPunctTokenizer\n",
    "from nltk.stem import WordNetLemmatizer\n"
   ]
  },
  {
   "cell_type": "code",
   "execution_count": 5,
   "id": "b20126af",
   "metadata": {},
   "outputs": [
    {
     "name": "stderr",
     "output_type": "stream",
     "text": [
      "[nltk_data] Downloading package stopwords to\n",
      "[nltk_data]     C:\\Users\\Piyush\\AppData\\Roaming\\nltk_data...\n",
      "[nltk_data]   Package stopwords is already up-to-date!\n",
      "[nltk_data] Downloading package wordnet to\n",
      "[nltk_data]     C:\\Users\\Piyush\\AppData\\Roaming\\nltk_data...\n",
      "[nltk_data]   Package wordnet is already up-to-date!\n"
     ]
    },
    {
     "data": {
      "text/plain": [
       "True"
      ]
     },
     "execution_count": 5,
     "metadata": {},
     "output_type": "execute_result"
    }
   ],
   "source": [
    "# Download resources for nltk\n",
    "nltk.download('stopwords')\n",
    "nltk.download('wordnet')"
   ]
  },
  {
   "cell_type": "code",
   "execution_count": 6,
   "id": "487c7681",
   "metadata": {},
   "outputs": [],
   "source": [
    "# new libraries that needs to be imported \n"
   ]
  },
  {
   "cell_type": "markdown",
   "id": "84671e40",
   "metadata": {},
   "source": [
    "#### Data Loading"
   ]
  },
  {
   "cell_type": "markdown",
   "id": "168707d1",
   "metadata": {},
   "source": [
    "Following data has been downloaded from [Kaggle](https://www.kaggle.com/datasets/kazanova/sentiment140/data)"
   ]
  },
  {
   "cell_type": "code",
   "execution_count": 7,
   "id": "0d7e4ae0",
   "metadata": {},
   "outputs": [
    {
     "data": {
      "text/html": [
       "<div>\n",
       "<style scoped>\n",
       "    .dataframe tbody tr th:only-of-type {\n",
       "        vertical-align: middle;\n",
       "    }\n",
       "\n",
       "    .dataframe tbody tr th {\n",
       "        vertical-align: top;\n",
       "    }\n",
       "\n",
       "    .dataframe thead th {\n",
       "        text-align: right;\n",
       "    }\n",
       "</style>\n",
       "<table border=\"1\" class=\"dataframe\">\n",
       "  <thead>\n",
       "    <tr style=\"text-align: right;\">\n",
       "      <th></th>\n",
       "      <th>target</th>\n",
       "      <th>ids</th>\n",
       "      <th>date</th>\n",
       "      <th>flag</th>\n",
       "      <th>user</th>\n",
       "      <th>text</th>\n",
       "    </tr>\n",
       "  </thead>\n",
       "  <tbody>\n",
       "    <tr>\n",
       "      <th>11823</th>\n",
       "      <td>0</td>\n",
       "      <td>1551542948</td>\n",
       "      <td>Sat Apr 18 09:20:03 PDT 2009</td>\n",
       "      <td>NO_QUERY</td>\n",
       "      <td>John77</td>\n",
       "      <td>is at home nursing his cold...  My friend call...</td>\n",
       "    </tr>\n",
       "    <tr>\n",
       "      <th>656914</th>\n",
       "      <td>0</td>\n",
       "      <td>2240769726</td>\n",
       "      <td>Fri Jun 19 10:08:28 PDT 2009</td>\n",
       "      <td>NO_QUERY</td>\n",
       "      <td>NeilAdam</td>\n",
       "      <td>@dawnhallybone really sorry to hear that</td>\n",
       "    </tr>\n",
       "    <tr>\n",
       "      <th>124276</th>\n",
       "      <td>0</td>\n",
       "      <td>1834079298</td>\n",
       "      <td>Mon May 18 01:32:55 PDT 2009</td>\n",
       "      <td>NO_QUERY</td>\n",
       "      <td>lanajabar</td>\n",
       "      <td>math was effin hard!!  i hav a bad feeling abo...</td>\n",
       "    </tr>\n",
       "    <tr>\n",
       "      <th>169226</th>\n",
       "      <td>0</td>\n",
       "      <td>1962463620</td>\n",
       "      <td>Fri May 29 11:05:08 PDT 2009</td>\n",
       "      <td>NO_QUERY</td>\n",
       "      <td>maydaycaptain</td>\n",
       "      <td>@tsa4string Have fun at the show tonight... wi...</td>\n",
       "    </tr>\n",
       "    <tr>\n",
       "      <th>523470</th>\n",
       "      <td>0</td>\n",
       "      <td>2193143932</td>\n",
       "      <td>Tue Jun 16 08:03:22 PDT 2009</td>\n",
       "      <td>NO_QUERY</td>\n",
       "      <td>kye_loves_spurs</td>\n",
       "      <td>just paid me phone bill, the buggers turned me...</td>\n",
       "    </tr>\n",
       "    <tr>\n",
       "      <th>631729</th>\n",
       "      <td>0</td>\n",
       "      <td>2232425895</td>\n",
       "      <td>Thu Jun 18 19:53:48 PDT 2009</td>\n",
       "      <td>NO_QUERY</td>\n",
       "      <td>BlessedBy3Kids</td>\n",
       "      <td>Thinks my cell phone just died!!! Not battery ...</td>\n",
       "    </tr>\n",
       "    <tr>\n",
       "      <th>1250357</th>\n",
       "      <td>4</td>\n",
       "      <td>1996276647</td>\n",
       "      <td>Mon Jun 01 14:49:05 PDT 2009</td>\n",
       "      <td>NO_QUERY</td>\n",
       "      <td>hezitros</td>\n",
       "      <td>graaaa... i have dried super glue all over my ...</td>\n",
       "    </tr>\n",
       "    <tr>\n",
       "      <th>668660</th>\n",
       "      <td>0</td>\n",
       "      <td>2246012048</td>\n",
       "      <td>Fri Jun 19 16:58:07 PDT 2009</td>\n",
       "      <td>NO_QUERY</td>\n",
       "      <td>yahoomonk</td>\n",
       "      <td>The next city is Chicago; I wish I could be th...</td>\n",
       "    </tr>\n",
       "    <tr>\n",
       "      <th>1500365</th>\n",
       "      <td>4</td>\n",
       "      <td>2071137877</td>\n",
       "      <td>Sun Jun 07 18:53:55 PDT 2009</td>\n",
       "      <td>NO_QUERY</td>\n",
       "      <td>justkappa</td>\n",
       "      <td>Of course I'm listening to the wifey..  -- Kie...</td>\n",
       "    </tr>\n",
       "    <tr>\n",
       "      <th>1134795</th>\n",
       "      <td>4</td>\n",
       "      <td>1976394646</td>\n",
       "      <td>Sat May 30 17:14:00 PDT 2009</td>\n",
       "      <td>NO_QUERY</td>\n",
       "      <td>DancNQu33n</td>\n",
       "      <td>@ladygee22208 hahaha u funny my always been to...</td>\n",
       "    </tr>\n",
       "  </tbody>\n",
       "</table>\n",
       "</div>"
      ],
      "text/plain": [
       "         target         ids                          date      flag  \\\n",
       "11823         0  1551542948  Sat Apr 18 09:20:03 PDT 2009  NO_QUERY   \n",
       "656914        0  2240769726  Fri Jun 19 10:08:28 PDT 2009  NO_QUERY   \n",
       "124276        0  1834079298  Mon May 18 01:32:55 PDT 2009  NO_QUERY   \n",
       "169226        0  1962463620  Fri May 29 11:05:08 PDT 2009  NO_QUERY   \n",
       "523470        0  2193143932  Tue Jun 16 08:03:22 PDT 2009  NO_QUERY   \n",
       "631729        0  2232425895  Thu Jun 18 19:53:48 PDT 2009  NO_QUERY   \n",
       "1250357       4  1996276647  Mon Jun 01 14:49:05 PDT 2009  NO_QUERY   \n",
       "668660        0  2246012048  Fri Jun 19 16:58:07 PDT 2009  NO_QUERY   \n",
       "1500365       4  2071137877  Sun Jun 07 18:53:55 PDT 2009  NO_QUERY   \n",
       "1134795       4  1976394646  Sat May 30 17:14:00 PDT 2009  NO_QUERY   \n",
       "\n",
       "                    user                                               text  \n",
       "11823             John77  is at home nursing his cold...  My friend call...  \n",
       "656914          NeilAdam          @dawnhallybone really sorry to hear that   \n",
       "124276         lanajabar  math was effin hard!!  i hav a bad feeling abo...  \n",
       "169226     maydaycaptain  @tsa4string Have fun at the show tonight... wi...  \n",
       "523470   kye_loves_spurs  just paid me phone bill, the buggers turned me...  \n",
       "631729    BlessedBy3Kids  Thinks my cell phone just died!!! Not battery ...  \n",
       "1250357         hezitros  graaaa... i have dried super glue all over my ...  \n",
       "668660         yahoomonk  The next city is Chicago; I wish I could be th...  \n",
       "1500365        justkappa  Of course I'm listening to the wifey..  -- Kie...  \n",
       "1134795       DancNQu33n  @ladygee22208 hahaha u funny my always been to...  "
      ]
     },
     "execution_count": 7,
     "metadata": {},
     "output_type": "execute_result"
    }
   ],
   "source": [
    "# import dataset from kaggle\n",
    "dataset_tweets = pd.read_csv(\"./dataset/training.1600000.processed.noemoticon.csv\",encoding = 'ISO-8859-1',\n",
    "                             names=['target', 'ids', 'date', 'flag','user', 'text'])\n",
    "\n",
    "#Viewing 20 samples of the dataset_tweets\n",
    "dataset_tweets.sample(10)"
   ]
  },
  {
   "cell_type": "code",
   "execution_count": 9,
   "id": "c3f84c5b",
   "metadata": {},
   "outputs": [
    {
     "data": {
      "text/plain": [
       "target    0\n",
       "ids       0\n",
       "date      0\n",
       "flag      0\n",
       "user      0\n",
       "text      0\n",
       "dtype: int64"
      ]
     },
     "execution_count": 9,
     "metadata": {},
     "output_type": "execute_result"
    }
   ],
   "source": [
    "# checking for null values in the dataset_tweets\n",
    "dataset_tweets.isnull().sum()"
   ]
  },
  {
   "cell_type": "code",
   "execution_count": 10,
   "id": "91e0af0d",
   "metadata": {},
   "outputs": [
    {
     "name": "stdout",
     "output_type": "stream",
     "text": [
      "<class 'pandas.core.frame.DataFrame'>\n",
      "RangeIndex: 1600000 entries, 0 to 1599999\n",
      "Data columns (total 6 columns):\n",
      " #   Column  Non-Null Count    Dtype \n",
      "---  ------  --------------    ----- \n",
      " 0   target  1600000 non-null  int64 \n",
      " 1   ids     1600000 non-null  int64 \n",
      " 2   date    1600000 non-null  object\n",
      " 3   flag    1600000 non-null  object\n",
      " 4   user    1600000 non-null  object\n",
      " 5   text    1600000 non-null  object\n",
      "dtypes: int64(2), object(4)\n",
      "memory usage: 556.1 MB\n"
     ]
    }
   ],
   "source": [
    "# get the complete meta data info about the dataset_tweets\n",
    "dataset_tweets.info(memory_usage = 'deep')"
   ]
  },
  {
   "cell_type": "markdown",
   "id": "4c506fdc",
   "metadata": {},
   "source": [
    "Data regarding the tweets currently have following 6 columns (target, ids, date, flag, user, text) with no null values present. In total we have 1600000 entries or different tweets observation in the dataset for the analysis."
   ]
  },
  {
   "cell_type": "markdown",
   "id": "9fdcba43",
   "metadata": {},
   "source": [
    "#### Dropping Unnecessary columns/ Data Cleaning\n",
    "\n",
    "Currently we only need tweets in text column and target column to train and analyze the dataset. Hence, we will be removing other columns from the dataset_tweets. "
   ]
  },
  {
   "cell_type": "code",
   "execution_count": 11,
   "id": "7c563215",
   "metadata": {},
   "outputs": [
    {
     "data": {
      "text/html": [
       "<div>\n",
       "<style scoped>\n",
       "    .dataframe tbody tr th:only-of-type {\n",
       "        vertical-align: middle;\n",
       "    }\n",
       "\n",
       "    .dataframe tbody tr th {\n",
       "        vertical-align: top;\n",
       "    }\n",
       "\n",
       "    .dataframe thead th {\n",
       "        text-align: right;\n",
       "    }\n",
       "</style>\n",
       "<table border=\"1\" class=\"dataframe\">\n",
       "  <thead>\n",
       "    <tr style=\"text-align: right;\">\n",
       "      <th></th>\n",
       "      <th>target</th>\n",
       "      <th>text</th>\n",
       "    </tr>\n",
       "  </thead>\n",
       "  <tbody>\n",
       "    <tr>\n",
       "      <th>0</th>\n",
       "      <td>0</td>\n",
       "      <td>@switchfoot http://twitpic.com/2y1zl - Awww, t...</td>\n",
       "    </tr>\n",
       "    <tr>\n",
       "      <th>1</th>\n",
       "      <td>0</td>\n",
       "      <td>is upset that he can't update his Facebook by ...</td>\n",
       "    </tr>\n",
       "    <tr>\n",
       "      <th>2</th>\n",
       "      <td>0</td>\n",
       "      <td>@Kenichan I dived many times for the ball. Man...</td>\n",
       "    </tr>\n",
       "    <tr>\n",
       "      <th>3</th>\n",
       "      <td>0</td>\n",
       "      <td>my whole body feels itchy and like its on fire</td>\n",
       "    </tr>\n",
       "    <tr>\n",
       "      <th>4</th>\n",
       "      <td>0</td>\n",
       "      <td>@nationwideclass no, it's not behaving at all....</td>\n",
       "    </tr>\n",
       "  </tbody>\n",
       "</table>\n",
       "</div>"
      ],
      "text/plain": [
       "   target                                               text\n",
       "0       0  @switchfoot http://twitpic.com/2y1zl - Awww, t...\n",
       "1       0  is upset that he can't update his Facebook by ...\n",
       "2       0  @Kenichan I dived many times for the ball. Man...\n",
       "3       0    my whole body feels itchy and like its on fire \n",
       "4       0  @nationwideclass no, it's not behaving at all...."
      ]
     },
     "execution_count": 11,
     "metadata": {},
     "output_type": "execute_result"
    }
   ],
   "source": [
    "# remove unnecessary columns\n",
    "dataset_tweets.drop(labels =['ids', 'date', 'flag', 'user'], axis = 1, inplace = True)\n",
    "dataset_tweets.head(5)"
   ]
  },
  {
   "cell_type": "code",
   "execution_count": 12,
   "id": "cf5ca966",
   "metadata": {},
   "outputs": [
    {
     "name": "stdout",
     "output_type": "stream",
     "text": [
      "[0 4]\n",
      "2\n"
     ]
    }
   ],
   "source": [
    "# Checking for unique values in target column\n",
    "print(dataset_tweets.target.unique())\n",
    "print(dataset_tweets.target.nunique())"
   ]
  },
  {
   "cell_type": "markdown",
   "id": "8a6eeacb",
   "metadata": {},
   "source": [
    "We only have 2 unique values in target column that is 0-> Negative and 4-> Positive. We will replace 4 with 1 for ease of understanding and working with the dataset."
   ]
  },
  {
   "cell_type": "code",
   "execution_count": 13,
   "id": "90eced10",
   "metadata": {},
   "outputs": [
    {
     "name": "stdout",
     "output_type": "stream",
     "text": [
      "[0 1]\n"
     ]
    }
   ],
   "source": [
    "dataset_tweets['target'] = dataset_tweets['target'].replace(4,1)\n",
    "print(dataset_tweets.target.unique())"
   ]
  },
  {
   "cell_type": "code",
   "execution_count": 14,
   "id": "a0b20165",
   "metadata": {},
   "outputs": [
    {
     "data": {
      "text/plain": [
       "722070    - Still can't believe he is gone, a person who...\n",
       "417947    So bummed  got called in to work cause i forgo...\n",
       "403078    So itchy....peeling  tan vanishing...all that ...\n",
       "67208                                     need. to. study. \n",
       "774842    @Tire_Man  guy at Belle said there was nothing...\n",
       "Name: text, dtype: object"
      ]
     },
     "execution_count": 14,
     "metadata": {},
     "output_type": "execute_result"
    }
   ],
   "source": [
    "# Viewing target == 0 i.e Negative Tweets\n",
    "dataset_tweets[dataset_tweets['target']==0].text.sample(5)"
   ]
  },
  {
   "cell_type": "code",
   "execution_count": 15,
   "id": "5228f61d",
   "metadata": {},
   "outputs": [
    {
     "data": {
      "text/plain": [
       "1372103    @heisedwin Hey you! nothing much, how've you b...\n",
       "1115594    Been to town today with Alex, bought a new rin...\n",
       "1352894    Thanks @nickyyates of @charitywater for the fo...\n",
       "967181     @JasonBradbury What's your PS3 ID I'll give yo...\n",
       "1049026                                   Its all sunny now \n",
       "Name: text, dtype: object"
      ]
     },
     "execution_count": 15,
     "metadata": {},
     "output_type": "execute_result"
    }
   ],
   "source": [
    "# Similarly viewing target ==1 i.e Positive tweets\n",
    "dataset_tweets[dataset_tweets['target']==1].text.sample(5)"
   ]
  },
  {
   "cell_type": "code",
   "execution_count": 16,
   "id": "79aad818",
   "metadata": {},
   "outputs": [
    {
     "data": {
      "text/plain": [
       "0    800000\n",
       "1    800000\n",
       "Name: target, dtype: int64"
      ]
     },
     "execution_count": 16,
     "metadata": {},
     "output_type": "execute_result"
    }
   ],
   "source": [
    "# Count the occurance of Negative and Positive tweets in dataset_tweets\n",
    "dataset_tweets.target.value_counts()"
   ]
  },
  {
   "cell_type": "markdown",
   "id": "e52e8baa",
   "metadata": {},
   "source": [
    "We have equal occurance of each Positive and Negative Tweets in the dataset."
   ]
  },
  {
   "cell_type": "code",
   "execution_count": 21,
   "id": "4296ae17",
   "metadata": {},
   "outputs": [
    {
     "data": {
      "text/plain": [
       "[]"
      ]
     },
     "execution_count": 21,
     "metadata": {},
     "output_type": "execute_result"
    },
    {
     "data": {
      "image/png": "[encoded data removed]",
      "text/plain": [
       "<Figure size 1300x500 with 1 Axes>"
      ]
     },
     "metadata": {},
     "output_type": "display_data"
    }
   ],
   "source": [
    "# work on this visualization \n",
    "###### Pending\n",
    "\n",
    "plt.figure(figsize = (13,5))\n",
    "sns.countplot(x='target', data = dataset_tweets, label = ['positive','negative'])\n",
    "plt.xticks()\n",
    "plt.legend(loc = 'upper center')\n",
    "plt.title(\"Negatives and Positives Tweets\",fontsize =15)\n",
    "plt.plot()"
   ]
  },
  {
   "cell_type": "markdown",
   "id": "c20d0180",
   "metadata": {},
   "source": [
    "### Preprocessing the data "
   ]
  },
  {
   "cell_type": "code",
   "execution_count": 22,
   "id": "a198c831",
   "metadata": {},
   "outputs": [],
   "source": [
    "def remove_username(text):\n",
    "    text = re.sub(r\"@\\w+\",\"\",text)\n",
    "    return text\n",
    "\n",
    "def remove_links(text):\n",
    "    text = re.sub(r\"\\shttp\\S+\",\"\",text)\n",
    "    return text\n",
    "\n",
    "def convert_htmlentities(text):\n",
    "    text = html.unescape(text)\n",
    "    return text\n",
    "\n",
    "def convert_emoticon(text):\n",
    "    text = text.split()\n",
    "    temp = []\n",
    "    for i in text:\n",
    "        if i in  EMOTICONS_EMO.keys():\n",
    "            i =  EMOTICONS_EMO[i]\n",
    "        temp.append(i)\n",
    "    return  \" \".join(temp)\n",
    "\n",
    "def remove_unidecode_words(text):\n",
    "    words = text.split()\n",
    "    filtered_words = [word for word in words if unidecode.unidecode(word) == word]\n",
    "    return ' '.join(filtered_words)\n",
    "\n",
    "def remove_nonalpha(text):\n",
    "    text = text.split()\n",
    "    temp_text = []\n",
    "    for word in text:\n",
    "        if word.isalpha():\n",
    "            temp_text.append(word)\n",
    "    return \" \".join(temp_text)\n",
    "\n",
    "\n",
    "def text_processing(text):\n",
    "    text = remove_username(text)\n",
    "    text = remove_links(text)\n",
    "    text = convert_htmlentities(text)\n",
    "    text = convert_emoticon(text)\n",
    "    text = remove_unidecode_words(text)\n",
    "    return text"
   ]
  },
  {
   "cell_type": "code",
   "execution_count": 24,
   "id": "44043dbe",
   "metadata": {},
   "outputs": [],
   "source": [
    "# import stopwards to remove stopwords from tweets\n",
    "from nltk.tokenize import WordPunctTokenizer\n",
    "from nltk.corpus import stopwords\n",
    "from nltk.stem import WordNetLemmatizer\n",
    "\n",
    "# initiate stopwords with 'english'\n",
    "stop_words = stopwords.words('english')\n",
    "\n",
    "# initiate a punctuation list to store all the punctuations\n",
    "punct_list = []\n",
    "\n",
    "for i in punctuation:\n",
    "    punct_list.append(i)\n",
    "\n",
    "# combine stopwords and punctuation to remove them at once\n",
    "stopwords_2 = stop_words+punct_list\n",
    "\n",
    "# Initiate WordPunctTokenizer\n",
    "word_tokenizer = WordPunctTokenizer()\n",
    "\n",
    "# initiate the lemmatizer\n",
    "lemmatizer = WordNetLemmatizer()"
   ]
  },
  {
   "cell_type": "code",
   "execution_count": 25,
   "id": "5d0029e6",
   "metadata": {},
   "outputs": [
    {
     "name": "stdout",
     "output_type": "stream",
     "text": [
      "Data Preprocessing completed. Elapsed time is 455.63364267349243 secs\n"
     ]
    }
   ],
   "source": [
    "# Start text preprocessing to get clean text\n",
    "start_time = time.time()\n",
    "new_tweets = []\n",
    "for sent in dataset_tweets['text']:\n",
    "    sent = text_processing(sent)\n",
    "    sent = remove_nonalpha(sent)\n",
    "    sent = word_tokenizer.tokenize(sent)\n",
    "    words = [lemmatizer.lemmatize(word.lower()) for word in sent if word not in stopwords_2]\n",
    "    sent = \" \".join(words)\n",
    "    new_tweets.append(sent)\n",
    "print(f'Data Preprocessing completed. Elapsed time is {time.time()-start_time} secs')"
   ]
  },
  {
   "cell_type": "code",
   "execution_count": 26,
   "id": "e3cb5d23",
   "metadata": {},
   "outputs": [],
   "source": [
    "# Save the processed tweets to the dataset\n",
    "dataset_tweets['text'] = new_tweets\n",
    "dataset_tweets.smaple(10)"
   ]
  },
  {
   "cell_type": "code",
   "execution_count": null,
   "id": "221bfd73",
   "metadata": {},
   "outputs": [],
   "source": [
    "# saving the processed dataset \n",
    "dataset_tweets.to_csv(\"./Dataset/training_processed_data_1.csv\", index = False, sep= ',')"
   ]
  },
  {
   "cell_type": "code",
   "execution_count": null,
   "id": "786e575b",
   "metadata": {},
   "outputs": [],
   "source": []
  },
  {
   "cell_type": "code",
   "execution_count": null,
   "id": "8690a4e4",
   "metadata": {},
   "outputs": [],
   "source": []
  },
  {
   "cell_type": "markdown",
   "id": "c56c645d",
   "metadata": {},
   "source": [
    "# Experiments"
   ]
  },
  {
   "cell_type": "code",
   "execution_count": null,
   "id": "15a85c50",
   "metadata": {},
   "outputs": [],
   "source": []
  },
  {
   "cell_type": "code",
   "execution_count": 90,
   "id": "0667fcf4",
   "metadata": {},
   "outputs": [],
   "source": [
    "def remove_username(text):\n",
    "    text = re.sub(r\"@\\w+\",\"\",text)\n",
    "    text = re.sub(r\"&\\w+\",\"\",text)\n",
    "    text = re.sub(r\"\\shttp\\S+\",\"\",text)\n",
    "    return text"
   ]
  },
  {
   "cell_type": "code",
   "execution_count": 91,
   "id": "506b63ee",
   "metadata": {},
   "outputs": [
    {
     "name": "stdout",
     "output_type": "stream",
     "text": [
      "@switchfoot http://twitpic.com/2y1zl - Awww, that's a bummer.  You shoulda got David Carr of Third Day to do it. ;D\n"
     ]
    }
   ],
   "source": [
    "# Tokenization experiment\n",
    "text_1 = dataset_tweets['text'][0]\n",
    "print(text_1)"
   ]
  },
  {
   "cell_type": "code",
   "execution_count": 92,
   "id": "b8b871d4",
   "metadata": {},
   "outputs": [
    {
     "name": "stdout",
     "output_type": "stream",
     "text": [
      " - Awww, that's a bummer.  You shoulda got David Carr of Third Day to do it. ;D\n"
     ]
    }
   ],
   "source": [
    "print(remove_username(text_1))"
   ]
  },
  {
   "cell_type": "code",
   "execution_count": null,
   "id": "d15e8942",
   "metadata": {},
   "outputs": [],
   "source": []
  }
 ],
 "metadata": {
  "kernelspec": {
   "display_name": "Python 3 (ipykernel)",
   "language": "python",
   "name": "python3"
  },
  "language_info": {
   "codemirror_mode": {
    "name": "ipython",
    "version": 3
   },
   "file_extension": ".py",
   "mimetype": "text/x-python",
   "name": "python",
   "nbconvert_exporter": "python",
   "pygments_lexer": "ipython3",
   "version": "3.10.9"
  }
 },
 "nbformat": 4,
 "nbformat_minor": 5
}
