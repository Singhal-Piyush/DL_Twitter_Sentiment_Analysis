{
 "cells": [
  {
   "cell_type": "markdown",
   "id": "3491b465",
   "metadata": {},
   "source": [
    "## Deep Dive into Sentiment Analysis of Twitter Data "
   ]
  },
  {
   "cell_type": "markdown",
   "id": "0056733f",
   "metadata": {},
   "source": [
    "### Notebook 1:- Data Visualization and Cleaning"
   ]
  },
  {
   "cell_type": "markdown",
   "id": "f6f36c38",
   "metadata": {},
   "source": []
  },
  {
   "cell_type": "markdown",
   "id": "ef502a8b",
   "metadata": {},
   "source": []
  },
  {
   "cell_type": "markdown",
   "id": "2882ddd4",
   "metadata": {},
   "source": []
  },
  {
   "cell_type": "markdown",
   "id": "5e9c1969",
   "metadata": {},
   "source": [
    "#### Importing Libraries "
   ]
  },
  {
   "cell_type": "code",
   "execution_count": 1,
   "id": "eaa38041",
   "metadata": {},
   "outputs": [],
   "source": [
    "# importing necessary libraries and packages\n",
    "\n",
    "\n",
    "#Basic libraries\n",
    "import pandas as pd\n",
    "import numpy as np\n",
    "import seaborn as sns\n",
    "import matplotlib.pyplot as plt\n",
    "%matplotlib inline\n",
    "\n",
    "# libraries to work with regular expression\n",
    "import re\n",
    "import \n",
    "\n",
    "# NLP related libraries and packages\n",
    "import nltk\n",
    "\n",
    "\n",
    "#\n"
   ]
  },
  {
   "cell_type": "code",
   "execution_count": 3,
   "id": "487c7681",
   "metadata": {},
   "outputs": [],
   "source": [
    "# new libraries that needs to be imported \n",
    "import nltk\n"
   ]
  },
  {
   "cell_type": "markdown",
   "id": "84671e40",
   "metadata": {},
   "source": [
    "#### Data Loading"
   ]
  },
  {
   "cell_type": "markdown",
   "id": "168707d1",
   "metadata": {},
   "source": [
    "Following data has been downloaded from [Kaggle](https://www.kaggle.com/datasets/kazanova/sentiment140/data)"
   ]
  },
  {
   "cell_type": "code",
   "execution_count": 4,
   "id": "0d7e4ae0",
   "metadata": {},
   "outputs": [
    {
     "data": {
      "text/html": [
       "<div>\n",
       "<style scoped>\n",
       "    .dataframe tbody tr th:only-of-type {\n",
       "        vertical-align: middle;\n",
       "    }\n",
       "\n",
       "    .dataframe tbody tr th {\n",
       "        vertical-align: top;\n",
       "    }\n",
       "\n",
       "    .dataframe thead th {\n",
       "        text-align: right;\n",
       "    }\n",
       "</style>\n",
       "<table border=\"1\" class=\"dataframe\">\n",
       "  <thead>\n",
       "    <tr style=\"text-align: right;\">\n",
       "      <th></th>\n",
       "      <th>target</th>\n",
       "      <th>ids</th>\n",
       "      <th>date</th>\n",
       "      <th>flag</th>\n",
       "      <th>user</th>\n",
       "      <th>text</th>\n",
       "    </tr>\n",
       "  </thead>\n",
       "  <tbody>\n",
       "    <tr>\n",
       "      <th>951585</th>\n",
       "      <td>4</td>\n",
       "      <td>1824268802</td>\n",
       "      <td>Sun May 17 00:40:42 PDT 2009</td>\n",
       "      <td>NO_QUERY</td>\n",
       "      <td>ianthemalenurse</td>\n",
       "      <td>&amp;quot;Tonight I will be miss Saigon&amp;quot; from...</td>\n",
       "    </tr>\n",
       "    <tr>\n",
       "      <th>1054109</th>\n",
       "      <td>4</td>\n",
       "      <td>1961864114</td>\n",
       "      <td>Fri May 29 10:09:34 PDT 2009</td>\n",
       "      <td>NO_QUERY</td>\n",
       "      <td>quarksome</td>\n",
       "      <td>done for my lectures tomorrow at PAS monthly m...</td>\n",
       "    </tr>\n",
       "    <tr>\n",
       "      <th>419666</th>\n",
       "      <td>0</td>\n",
       "      <td>2062039397</td>\n",
       "      <td>Sat Jun 06 22:11:17 PDT 2009</td>\n",
       "      <td>NO_QUERY</td>\n",
       "      <td>smoothhead1</td>\n",
       "      <td>@donlemoncnn Sitting at home watching your rer...</td>\n",
       "    </tr>\n",
       "    <tr>\n",
       "      <th>552458</th>\n",
       "      <td>0</td>\n",
       "      <td>2203404732</td>\n",
       "      <td>Tue Jun 16 23:40:02 PDT 2009</td>\n",
       "      <td>NO_QUERY</td>\n",
       "      <td>babyblizz</td>\n",
       "      <td>Wonder when there's gonna be some decent weath...</td>\n",
       "    </tr>\n",
       "    <tr>\n",
       "      <th>868560</th>\n",
       "      <td>4</td>\n",
       "      <td>1677959697</td>\n",
       "      <td>Sat May 02 04:52:21 PDT 2009</td>\n",
       "      <td>NO_QUERY</td>\n",
       "      <td>barbarosa1</td>\n",
       "      <td>@ebuzz7090 Thanks again! Have a great WE!</td>\n",
       "    </tr>\n",
       "    <tr>\n",
       "      <th>624140</th>\n",
       "      <td>0</td>\n",
       "      <td>2229796725</td>\n",
       "      <td>Thu Jun 18 16:13:09 PDT 2009</td>\n",
       "      <td>NO_QUERY</td>\n",
       "      <td>mrf7985</td>\n",
       "      <td>O no! The movie theater lost power and we're t...</td>\n",
       "    </tr>\n",
       "    <tr>\n",
       "      <th>40275</th>\n",
       "      <td>0</td>\n",
       "      <td>1573745833</td>\n",
       "      <td>Tue Apr 21 02:39:36 PDT 2009</td>\n",
       "      <td>NO_QUERY</td>\n",
       "      <td>pezholio</td>\n",
       "      <td>Just created my first valid bit of JSON. Hurra...</td>\n",
       "    </tr>\n",
       "    <tr>\n",
       "      <th>1436483</th>\n",
       "      <td>4</td>\n",
       "      <td>2060994649</td>\n",
       "      <td>Sat Jun 06 19:58:43 PDT 2009</td>\n",
       "      <td>NO_QUERY</td>\n",
       "      <td>aielen</td>\n",
       "      <td>nice to see pgpg on twitter cos i love her ver...</td>\n",
       "    </tr>\n",
       "    <tr>\n",
       "      <th>1405255</th>\n",
       "      <td>4</td>\n",
       "      <td>2055165613</td>\n",
       "      <td>Sat Jun 06 08:49:20 PDT 2009</td>\n",
       "      <td>NO_QUERY</td>\n",
       "      <td>kelimorris</td>\n",
       "      <td>@weddingtidbits Thanks</td>\n",
       "    </tr>\n",
       "    <tr>\n",
       "      <th>124597</th>\n",
       "      <td>0</td>\n",
       "      <td>1834139774</td>\n",
       "      <td>Mon May 18 01:46:57 PDT 2009</td>\n",
       "      <td>NO_QUERY</td>\n",
       "      <td>sherrie_cake</td>\n",
       "      <td>@Boo2AGoose piercings. nopeeee,  i havent been...</td>\n",
       "    </tr>\n",
       "    <tr>\n",
       "      <th>853078</th>\n",
       "      <td>4</td>\n",
       "      <td>1573110301</td>\n",
       "      <td>Mon Apr 20 23:45:42 PDT 2009</td>\n",
       "      <td>NO_QUERY</td>\n",
       "      <td>Dynomania</td>\n",
       "      <td>LMAO Damn I started somethin</td>\n",
       "    </tr>\n",
       "    <tr>\n",
       "      <th>135810</th>\n",
       "      <td>0</td>\n",
       "      <td>1879969761</td>\n",
       "      <td>Thu May 21 23:41:27 PDT 2009</td>\n",
       "      <td>NO_QUERY</td>\n",
       "      <td>Fat_kev</td>\n",
       "      <td>Don't think iPhone will last the day, seems to...</td>\n",
       "    </tr>\n",
       "    <tr>\n",
       "      <th>609309</th>\n",
       "      <td>0</td>\n",
       "      <td>2223659913</td>\n",
       "      <td>Thu Jun 18 08:33:15 PDT 2009</td>\n",
       "      <td>NO_QUERY</td>\n",
       "      <td>lucyjasmine_</td>\n",
       "      <td>Annoying children singing on the bus</td>\n",
       "    </tr>\n",
       "    <tr>\n",
       "      <th>457564</th>\n",
       "      <td>0</td>\n",
       "      <td>2071623509</td>\n",
       "      <td>Sun Jun 07 19:41:01 PDT 2009</td>\n",
       "      <td>NO_QUERY</td>\n",
       "      <td>sethrh</td>\n",
       "      <td>my quadra 605 doesn't seem to work anymore</td>\n",
       "    </tr>\n",
       "    <tr>\n",
       "      <th>1559149</th>\n",
       "      <td>4</td>\n",
       "      <td>2186010822</td>\n",
       "      <td>Mon Jun 15 18:13:40 PDT 2009</td>\n",
       "      <td>NO_QUERY</td>\n",
       "      <td>daveybarker</td>\n",
       "      <td>@namallanka Thankya very much  What's new in y...</td>\n",
       "    </tr>\n",
       "    <tr>\n",
       "      <th>1446430</th>\n",
       "      <td>4</td>\n",
       "      <td>2062504471</td>\n",
       "      <td>Sat Jun 06 23:25:32 PDT 2009</td>\n",
       "      <td>NO_QUERY</td>\n",
       "      <td>iMeunsol</td>\n",
       "      <td>Bought a kite.Flew the kite.Shoes ruined.Boyfr...</td>\n",
       "    </tr>\n",
       "    <tr>\n",
       "      <th>1208645</th>\n",
       "      <td>4</td>\n",
       "      <td>1988841649</td>\n",
       "      <td>Sun May 31 23:31:58 PDT 2009</td>\n",
       "      <td>NO_QUERY</td>\n",
       "      <td>MissShonah</td>\n",
       "      <td>@whitsundays oh!They messy little things aren'...</td>\n",
       "    </tr>\n",
       "    <tr>\n",
       "      <th>62444</th>\n",
       "      <td>0</td>\n",
       "      <td>1687097712</td>\n",
       "      <td>Sun May 03 07:45:30 PDT 2009</td>\n",
       "      <td>NO_QUERY</td>\n",
       "      <td>Kpepperz</td>\n",
       "      <td>is missing her hubby and dreading the root can...</td>\n",
       "    </tr>\n",
       "    <tr>\n",
       "      <th>1472619</th>\n",
       "      <td>4</td>\n",
       "      <td>2065412631</td>\n",
       "      <td>Sun Jun 07 08:32:35 PDT 2009</td>\n",
       "      <td>NO_QUERY</td>\n",
       "      <td>jessicatsang</td>\n",
       "      <td>@jennytsang haha lol the funny thing in tennis...</td>\n",
       "    </tr>\n",
       "    <tr>\n",
       "      <th>338491</th>\n",
       "      <td>0</td>\n",
       "      <td>2014438973</td>\n",
       "      <td>Wed Jun 03 01:31:57 PDT 2009</td>\n",
       "      <td>NO_QUERY</td>\n",
       "      <td>therealMilie</td>\n",
       "      <td>Phoning today, nobody to answer me... I think ...</td>\n",
       "    </tr>\n",
       "  </tbody>\n",
       "</table>\n",
       "</div>"
      ],
      "text/plain": [
       "         target         ids                          date      flag  \\\n",
       "951585        4  1824268802  Sun May 17 00:40:42 PDT 2009  NO_QUERY   \n",
       "1054109       4  1961864114  Fri May 29 10:09:34 PDT 2009  NO_QUERY   \n",
       "419666        0  2062039397  Sat Jun 06 22:11:17 PDT 2009  NO_QUERY   \n",
       "552458        0  2203404732  Tue Jun 16 23:40:02 PDT 2009  NO_QUERY   \n",
       "868560        4  1677959697  Sat May 02 04:52:21 PDT 2009  NO_QUERY   \n",
       "624140        0  2229796725  Thu Jun 18 16:13:09 PDT 2009  NO_QUERY   \n",
       "40275         0  1573745833  Tue Apr 21 02:39:36 PDT 2009  NO_QUERY   \n",
       "1436483       4  2060994649  Sat Jun 06 19:58:43 PDT 2009  NO_QUERY   \n",
       "1405255       4  2055165613  Sat Jun 06 08:49:20 PDT 2009  NO_QUERY   \n",
       "124597        0  1834139774  Mon May 18 01:46:57 PDT 2009  NO_QUERY   \n",
       "853078        4  1573110301  Mon Apr 20 23:45:42 PDT 2009  NO_QUERY   \n",
       "135810        0  1879969761  Thu May 21 23:41:27 PDT 2009  NO_QUERY   \n",
       "609309        0  2223659913  Thu Jun 18 08:33:15 PDT 2009  NO_QUERY   \n",
       "457564        0  2071623509  Sun Jun 07 19:41:01 PDT 2009  NO_QUERY   \n",
       "1559149       4  2186010822  Mon Jun 15 18:13:40 PDT 2009  NO_QUERY   \n",
       "1446430       4  2062504471  Sat Jun 06 23:25:32 PDT 2009  NO_QUERY   \n",
       "1208645       4  1988841649  Sun May 31 23:31:58 PDT 2009  NO_QUERY   \n",
       "62444         0  1687097712  Sun May 03 07:45:30 PDT 2009  NO_QUERY   \n",
       "1472619       4  2065412631  Sun Jun 07 08:32:35 PDT 2009  NO_QUERY   \n",
       "338491        0  2014438973  Wed Jun 03 01:31:57 PDT 2009  NO_QUERY   \n",
       "\n",
       "                    user                                               text  \n",
       "951585   ianthemalenurse  &quot;Tonight I will be miss Saigon&quot; from...  \n",
       "1054109        quarksome  done for my lectures tomorrow at PAS monthly m...  \n",
       "419666       smoothhead1  @donlemoncnn Sitting at home watching your rer...  \n",
       "552458         babyblizz  Wonder when there's gonna be some decent weath...  \n",
       "868560        barbarosa1         @ebuzz7090 Thanks again! Have a great WE!   \n",
       "624140           mrf7985  O no! The movie theater lost power and we're t...  \n",
       "40275           pezholio  Just created my first valid bit of JSON. Hurra...  \n",
       "1436483           aielen  nice to see pgpg on twitter cos i love her ver...  \n",
       "1405255       kelimorris                            @weddingtidbits Thanks   \n",
       "124597      sherrie_cake  @Boo2AGoose piercings. nopeeee,  i havent been...  \n",
       "853078         Dynomania                      LMAO Damn I started somethin   \n",
       "135810           Fat_kev  Don't think iPhone will last the day, seems to...  \n",
       "609309      lucyjasmine_              Annoying children singing on the bus   \n",
       "457564            sethrh        my quadra 605 doesn't seem to work anymore   \n",
       "1559149      daveybarker  @namallanka Thankya very much  What's new in y...  \n",
       "1446430         iMeunsol  Bought a kite.Flew the kite.Shoes ruined.Boyfr...  \n",
       "1208645       MissShonah  @whitsundays oh!They messy little things aren'...  \n",
       "62444           Kpepperz  is missing her hubby and dreading the root can...  \n",
       "1472619     jessicatsang  @jennytsang haha lol the funny thing in tennis...  \n",
       "338491      therealMilie  Phoning today, nobody to answer me... I think ...  "
      ]
     },
     "execution_count": 4,
     "metadata": {},
     "output_type": "execute_result"
    }
   ],
   "source": [
    "# import dataset from kaggle\n",
    "dataset_tweets = pd.read_csv(\"./dataset/training.1600000.processed.noemoticon.csv\",encoding = 'ISO-8859-1',\n",
    "                             names=['target', 'ids', 'date', 'flag','user', 'text'])\n",
    "\n",
    "#Viewing 20 samples of the dataset_tweets\n",
    "dataset_tweets.sample(20)"
   ]
  },
  {
   "cell_type": "code",
   "execution_count": 10,
   "id": "c3f84c5b",
   "metadata": {},
   "outputs": [
    {
     "data": {
      "text/plain": [
       "target    0\n",
       "ids       0\n",
       "date      0\n",
       "flag      0\n",
       "user      0\n",
       "text      0\n",
       "dtype: int64"
      ]
     },
     "execution_count": 10,
     "metadata": {},
     "output_type": "execute_result"
    }
   ],
   "source": [
    "# checking for null values in the dataset_tweets\n",
    "dataset_tweets.isnull().sum()"
   ]
  },
  {
   "cell_type": "code",
   "execution_count": 5,
   "id": "91e0af0d",
   "metadata": {},
   "outputs": [
    {
     "name": "stdout",
     "output_type": "stream",
     "text": [
      "<class 'pandas.core.frame.DataFrame'>\n",
      "RangeIndex: 1600000 entries, 0 to 1599999\n",
      "Data columns (total 6 columns):\n",
      " #   Column  Non-Null Count    Dtype \n",
      "---  ------  --------------    ----- \n",
      " 0   target  1600000 non-null  int64 \n",
      " 1   ids     1600000 non-null  int64 \n",
      " 2   date    1600000 non-null  object\n",
      " 3   flag    1600000 non-null  object\n",
      " 4   user    1600000 non-null  object\n",
      " 5   text    1600000 non-null  object\n",
      "dtypes: int64(2), object(4)\n",
      "memory usage: 556.1 MB\n"
     ]
    }
   ],
   "source": [
    "# get the complete meta data info about the dataset_tweets\n",
    "dataset_tweets.info(memory_usage = 'deep')"
   ]
  },
  {
   "cell_type": "markdown",
   "id": "4c506fdc",
   "metadata": {},
   "source": [
    "Data regarding the tweets currently have following 6 columns (target, ids, date, flag, user, text) with no null values present. In total we have 1600000 entries or different tweets observation in the dataset for the analysis."
   ]
  },
  {
   "cell_type": "markdown",
   "id": "9fdcba43",
   "metadata": {},
   "source": [
    "#### Dropping Unnecessary columns/ Data Cleaning\n",
    "\n",
    "Currently we only need tweets in text column and target column to train and analyze the dataset. Hence, we will be removing other columns from the dataset_tweets. "
   ]
  },
  {
   "cell_type": "code",
   "execution_count": 6,
   "id": "7c563215",
   "metadata": {},
   "outputs": [
    {
     "data": {
      "text/html": [
       "<div>\n",
       "<style scoped>\n",
       "    .dataframe tbody tr th:only-of-type {\n",
       "        vertical-align: middle;\n",
       "    }\n",
       "\n",
       "    .dataframe tbody tr th {\n",
       "        vertical-align: top;\n",
       "    }\n",
       "\n",
       "    .dataframe thead th {\n",
       "        text-align: right;\n",
       "    }\n",
       "</style>\n",
       "<table border=\"1\" class=\"dataframe\">\n",
       "  <thead>\n",
       "    <tr style=\"text-align: right;\">\n",
       "      <th></th>\n",
       "      <th>target</th>\n",
       "      <th>text</th>\n",
       "    </tr>\n",
       "  </thead>\n",
       "  <tbody>\n",
       "    <tr>\n",
       "      <th>0</th>\n",
       "      <td>0</td>\n",
       "      <td>@switchfoot http://twitpic.com/2y1zl - Awww, t...</td>\n",
       "    </tr>\n",
       "    <tr>\n",
       "      <th>1</th>\n",
       "      <td>0</td>\n",
       "      <td>is upset that he can't update his Facebook by ...</td>\n",
       "    </tr>\n",
       "    <tr>\n",
       "      <th>2</th>\n",
       "      <td>0</td>\n",
       "      <td>@Kenichan I dived many times for the ball. Man...</td>\n",
       "    </tr>\n",
       "    <tr>\n",
       "      <th>3</th>\n",
       "      <td>0</td>\n",
       "      <td>my whole body feels itchy and like its on fire</td>\n",
       "    </tr>\n",
       "    <tr>\n",
       "      <th>4</th>\n",
       "      <td>0</td>\n",
       "      <td>@nationwideclass no, it's not behaving at all....</td>\n",
       "    </tr>\n",
       "  </tbody>\n",
       "</table>\n",
       "</div>"
      ],
      "text/plain": [
       "   target                                               text\n",
       "0       0  @switchfoot http://twitpic.com/2y1zl - Awww, t...\n",
       "1       0  is upset that he can't update his Facebook by ...\n",
       "2       0  @Kenichan I dived many times for the ball. Man...\n",
       "3       0    my whole body feels itchy and like its on fire \n",
       "4       0  @nationwideclass no, it's not behaving at all...."
      ]
     },
     "execution_count": 6,
     "metadata": {},
     "output_type": "execute_result"
    }
   ],
   "source": [
    "# remove unnecessary columns\n",
    "dataset_tweets.drop(labels =['ids', 'date', 'flag', 'user'], axis = 1, inplace = True)\n",
    "dataset_tweets.head(5)"
   ]
  },
  {
   "cell_type": "code",
   "execution_count": 7,
   "id": "cf5ca966",
   "metadata": {},
   "outputs": [
    {
     "name": "stdout",
     "output_type": "stream",
     "text": [
      "[0 4]\n",
      "2\n"
     ]
    }
   ],
   "source": [
    "# Checking for unique values in target column\n",
    "print(dataset_tweets.target.unique())\n",
    "print(dataset_tweets.target.nunique())"
   ]
  },
  {
   "cell_type": "markdown",
   "id": "8a6eeacb",
   "metadata": {},
   "source": [
    "We only have 2 unique values in target column that is 0-> Negative and 4-> Positive. We will replace 4 with 1 for ease of understanding and working with the dataset."
   ]
  },
  {
   "cell_type": "code",
   "execution_count": 8,
   "id": "90eced10",
   "metadata": {},
   "outputs": [
    {
     "name": "stdout",
     "output_type": "stream",
     "text": [
      "[0 1]\n"
     ]
    }
   ],
   "source": [
    "dataset_tweets['target'] = dataset_tweets['target'].replace(4,1)\n",
    "print(dataset_tweets.target.unique())"
   ]
  },
  {
   "cell_type": "code",
   "execution_count": 9,
   "id": "a0b20165",
   "metadata": {},
   "outputs": [
    {
     "data": {
      "text/plain": [
       "695488    NICE! the 3.0 jailbreak is out (mac only) too ...\n",
       "287741    @digital_idiot Sony's gonna suck.  MS's announ...\n",
       "388707      @jasmc1 je or cc, more likely je tho  *JohnnyV*\n",
       "170203    @Xaan I'm having trouble viewing it as well on...\n",
       "358659    i want to go home and sleep in my warm bed... ...\n",
       "Name: text, dtype: object"
      ]
     },
     "execution_count": 9,
     "metadata": {},
     "output_type": "execute_result"
    }
   ],
   "source": [
    "# Viewing target == 0 i.e Negative Tweets\n",
    "dataset_tweets[dataset_tweets['target']==0].text.sample(5)"
   ]
  },
  {
   "cell_type": "code",
   "execution_count": 10,
   "id": "5228f61d",
   "metadata": {},
   "outputs": [
    {
     "data": {
      "text/plain": [
       "1219123    @childrensjewell thanks for following me back,...\n",
       "913222     only got 22.90 in tips last night.. (N) but he...\n",
       "1547754    Just saw the Dantes Inferno Developer Diary Tr...\n",
       "949209     @v_cub LOL... That's so cute!!!! CONGRATULATIO...\n",
       "1542261    @JonathanAB HUGELY!!!! lol  &amp; @GrantNash s...\n",
       "Name: text, dtype: object"
      ]
     },
     "execution_count": 10,
     "metadata": {},
     "output_type": "execute_result"
    }
   ],
   "source": [
    "# Similarly viewing target ==1 i.e Positive tweets\n",
    "dataset_tweets[dataset_tweets['target']==1].text.sample(5)"
   ]
  },
  {
   "cell_type": "code",
   "execution_count": 31,
   "id": "79aad818",
   "metadata": {},
   "outputs": [
    {
     "data": {
      "text/plain": [
       "0    800000\n",
       "1    800000\n",
       "Name: target, dtype: int64"
      ]
     },
     "execution_count": 31,
     "metadata": {},
     "output_type": "execute_result"
    }
   ],
   "source": [
    "# Count the occurance of Negative and Positive tweets in dataset_tweets\n",
    "dataset_tweets.target.value_counts()"
   ]
  },
  {
   "cell_type": "markdown",
   "id": "e52e8baa",
   "metadata": {},
   "source": [
    "We have equal occurance of each Positive and Negative Tweets in the dataset."
   ]
  },
  {
   "cell_type": "code",
   "execution_count": 20,
   "id": "4296ae17",
   "metadata": {},
   "outputs": [
    {
     "name": "stderr",
     "output_type": "stream",
     "text": [
      "No artists with labels found to put in legend.  Note that artists whose label start with an underscore are ignored when legend() is called with no argument.\n"
     ]
    },
    {
     "data": {
      "text/plain": [
       "[]"
      ]
     },
     "execution_count": 20,
     "metadata": {},
     "output_type": "execute_result"
    },
    {
     "data": {
      "image/png": "[encoded data removed]",
      "text/plain": [
       "<Figure size 1000x500 with 1 Axes>"
      ]
     },
     "metadata": {},
     "output_type": "display_data"
    }
   ],
   "source": [
    "# work on this visualization \n",
    "###### Pending\n",
    "\n",
    "plt.figure(figsize = (10,5))\n",
    "sns.countplot(dataset_tweets['target'].value_counts())\n",
    "plt.xticks()\n",
    "plt.legend()\n",
    "plt.title(\"Negatives and Positives Tweets\",fontsize =15)\n",
    "plt.plot()"
   ]
  },
  {
   "cell_type": "markdown",
   "id": "c20d0180",
   "metadata": {},
   "source": [
    "### Preprocessing the data "
   ]
  },
  {
   "cell_type": "code",
   "execution_count": 21,
   "id": "a198c831",
   "metadata": {},
   "outputs": [],
   "source": []
  },
  {
   "cell_type": "code",
   "execution_count": null,
   "id": "44043dbe",
   "metadata": {},
   "outputs": [],
   "source": []
  },
  {
   "cell_type": "markdown",
   "id": "c56c645d",
   "metadata": {},
   "source": [
    "# Experiments"
   ]
  },
  {
   "cell_type": "code",
   "execution_count": 90,
   "id": "0667fcf4",
   "metadata": {},
   "outputs": [],
   "source": [
    "def remove_username(text):\n",
    "    text = re.sub(r\"@\\w+\",\"\",text)\n",
    "    text = re.sub(r\"&\\w+\",\"\",text)\n",
    "    text = re.sub(r\"\\shttp\\S+\",\"\",text)\n",
    "    return text"
   ]
  },
  {
   "cell_type": "code",
   "execution_count": 91,
   "id": "506b63ee",
   "metadata": {},
   "outputs": [
    {
     "name": "stdout",
     "output_type": "stream",
     "text": [
      "@switchfoot http://twitpic.com/2y1zl - Awww, that's a bummer.  You shoulda got David Carr of Third Day to do it. ;D\n"
     ]
    }
   ],
   "source": [
    "# Tokenization experiment\n",
    "text_1 = dataset_tweets['text'][0]\n",
    "print(text_1)"
   ]
  },
  {
   "cell_type": "code",
   "execution_count": 92,
   "id": "b8b871d4",
   "metadata": {},
   "outputs": [
    {
     "name": "stdout",
     "output_type": "stream",
     "text": [
      " - Awww, that's a bummer.  You shoulda got David Carr of Third Day to do it. ;D\n"
     ]
    }
   ],
   "source": [
    "print(remove_username(text_1))"
   ]
  },
  {
   "cell_type": "code",
   "execution_count": null,
   "id": "d15e8942",
   "metadata": {},
   "outputs": [],
   "source": []
  }
 ],
 "metadata": {
  "kernelspec": {
   "display_name": "Python 3 (ipykernel)",
   "language": "python",
   "name": "python3"
  },
  "language_info": {
   "codemirror_mode": {
    "name": "ipython",
    "version": 3
   },
   "file_extension": ".py",
   "mimetype": "text/x-python",
   "name": "python",
   "nbconvert_exporter": "python",
   "pygments_lexer": "ipython3",
   "version": "3.10.9"
  }
 },
 "nbformat": 4,
 "nbformat_minor": 5
}
