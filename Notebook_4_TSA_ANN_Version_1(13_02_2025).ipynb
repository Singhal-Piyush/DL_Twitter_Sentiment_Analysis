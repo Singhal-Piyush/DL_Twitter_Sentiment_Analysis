{
  "nbformat": 4,
  "nbformat_minor": 0,
  "metadata": {
    "colab": {
      "provenance": []
    },
    "kernelspec": {
      "name": "python3",
      "display_name": "Python 3"
    },
    "language_info": {
      "name": "python"
    }
  },
  "cells": [
    {
      "cell_type": "markdown",
      "source": [
        "# Twitter Sentiment Analysis\n",
        "\n",
        "## Notebook 3 : Deep Learning comparison of model ANN, LSTM and BERT"
      ],
      "metadata": {
        "id": "Vd5B4aA2NSmP"
      }
    },
    {
      "cell_type": "code",
      "source": [
        "# new library download\n",
        "\n",
        "!pip install torch==2.0.0 --quiet\n",
        "!pip install pytorch_lightning==2.2.0 --quiet\n",
        "!pip install torchtext==0.15.1 --quiet\n",
        "!pip install mlflow==2.9.0 --quiet\n",
        "!pip install gensim==4.3.0 --quiet"
      ],
      "metadata": {
        "id": "jlPBBpnePUxW",
        "colab": {
          "base_uri": "https://localhost:8080/"
        },
        "outputId": "fbdab841-a9bc-42d7-b2c4-00ee3fc43f5d"
      },
      "execution_count": 1,
      "outputs": [
        {
          "output_type": "stream",
          "name": "stdout",
          "text": [
            "\u001b[2K   \u001b[90m━━━━━━━━━━━━━━━━━━━━━━━━━━━━━━━━━━━━━━━━\u001b[0m \u001b[32m619.9/619.9 MB\u001b[0m \u001b[31m2.5 MB/s\u001b[0m eta \u001b[36m0:00:00\u001b[0m\n",
            "\u001b[2K   \u001b[90m━━━━━━━━━━━━━━━━━━━━━━━━━━━━━━━━━━━━━━━━\u001b[0m \u001b[32m317.1/317.1 MB\u001b[0m \u001b[31m5.1 MB/s\u001b[0m eta \u001b[36m0:00:00\u001b[0m\n",
            "\u001b[2K   \u001b[90m━━━━━━━━━━━━━━━━━━━━━━━━━━━━━━━━━━━━━━━━\u001b[0m \u001b[32m11.8/11.8 MB\u001b[0m \u001b[31m93.6 MB/s\u001b[0m eta \u001b[36m0:00:00\u001b[0m\n",
            "\u001b[2K   \u001b[90m━━━━━━━━━━━━━━━━━━━━━━━━━━━━━━━━━━━━━━━━\u001b[0m \u001b[32m21.0/21.0 MB\u001b[0m \u001b[31m73.6 MB/s\u001b[0m eta \u001b[36m0:00:00\u001b[0m\n",
            "\u001b[2K   \u001b[90m━━━━━━━━━━━━━━━━━━━━━━━━━━━━━━━━━━━━━━━━\u001b[0m \u001b[32m849.3/849.3 kB\u001b[0m \u001b[31m50.4 MB/s\u001b[0m eta \u001b[36m0:00:00\u001b[0m\n",
            "\u001b[2K   \u001b[90m━━━━━━━━━━━━━━━━━━━━━━━━━━━━━━━━━━━━━━━━\u001b[0m \u001b[32m557.1/557.1 MB\u001b[0m \u001b[31m3.6 MB/s\u001b[0m eta \u001b[36m0:00:00\u001b[0m\n",
            "\u001b[2K   \u001b[90m━━━━━━━━━━━━━━━━━━━━━━━━━━━━━━━━━━━━━━━━\u001b[0m \u001b[32m168.4/168.4 MB\u001b[0m \u001b[31m6.8 MB/s\u001b[0m eta \u001b[36m0:00:00\u001b[0m\n",
            "\u001b[2K   \u001b[90m━━━━━━━━━━━━━━━━━━━━━━━━━━━━━━━━━━━━━━━━\u001b[0m \u001b[32m54.6/54.6 MB\u001b[0m \u001b[31m11.4 MB/s\u001b[0m eta \u001b[36m0:00:00\u001b[0m\n",
            "\u001b[2K   \u001b[90m━━━━━━━━━━━━━━━━━━━━━━━━━━━━━━━━━━━━━━━━\u001b[0m \u001b[32m102.6/102.6 MB\u001b[0m \u001b[31m8.3 MB/s\u001b[0m eta \u001b[36m0:00:00\u001b[0m\n",
            "\u001b[2K   \u001b[90m━━━━━━━━━━━━━━━━━━━━━━━━━━━━━━━━━━━━━━━━\u001b[0m \u001b[32m173.2/173.2 MB\u001b[0m \u001b[31m6.4 MB/s\u001b[0m eta \u001b[36m0:00:00\u001b[0m\n",
            "\u001b[2K   \u001b[90m━━━━━━━━━━━━━━━━━━━━━━━━━━━━━━━━━━━━━━━━\u001b[0m \u001b[32m177.1/177.1 MB\u001b[0m \u001b[31m6.1 MB/s\u001b[0m eta \u001b[36m0:00:00\u001b[0m\n",
            "\u001b[2K   \u001b[90m━━━━━━━━━━━━━━━━━━━━━━━━━━━━━━━━━━━━━━━━\u001b[0m \u001b[32m98.6/98.6 kB\u001b[0m \u001b[31m8.3 MB/s\u001b[0m eta \u001b[36m0:00:00\u001b[0m\n",
            "\u001b[2K   \u001b[90m━━━━━━━━━━━━━━━━━━━━━━━━━━━━━━━━━━━━━━━━\u001b[0m \u001b[32m63.3/63.3 MB\u001b[0m \u001b[31m10.6 MB/s\u001b[0m eta \u001b[36m0:00:00\u001b[0m\n",
            "\u001b[2K   \u001b[90m━━━━━━━━━━━━━━━━━━━━━━━━━━━━━━━━━━━━━━━━\u001b[0m \u001b[32m96.4/96.4 kB\u001b[0m \u001b[31m8.8 MB/s\u001b[0m eta \u001b[36m0:00:00\u001b[0m\n",
            "\u001b[?25h\u001b[31mERROR: pip's dependency resolver does not currently take into account all the packages that are installed. This behaviour is the source of the following dependency conflicts.\n",
            "torchaudio 2.5.1+cu124 requires torch==2.5.1, but you have torch 2.0.0 which is incompatible.\n",
            "torchvision 0.20.1+cu124 requires torch==2.5.1, but you have torch 2.0.0 which is incompatible.\u001b[0m\u001b[31m\n",
            "\u001b[2K   \u001b[90m━━━━━━━━━━━━━━━━━━━━━━━━━━━━━━━━━━━━━━━━\u001b[0m \u001b[32m800.3/800.3 kB\u001b[0m \u001b[31m38.9 MB/s\u001b[0m eta \u001b[36m0:00:00\u001b[0m\n",
            "\u001b[2K   \u001b[90m━━━━━━━━━━━━━━━━━━━━━━━━━━━━━━━━━━━━━━━━\u001b[0m \u001b[32m927.3/927.3 kB\u001b[0m \u001b[31m40.5 MB/s\u001b[0m eta \u001b[36m0:00:00\u001b[0m\n",
            "\u001b[2K   \u001b[90m━━━━━━━━━━━━━━━━━━━━━━━━━━━━━━━━━━━━━━━━\u001b[0m \u001b[32m2.0/2.0 MB\u001b[0m \u001b[31m74.1 MB/s\u001b[0m eta \u001b[36m0:00:00\u001b[0m\n",
            "\u001b[2K   \u001b[90m━━━━━━━━━━━━━━━━━━━━━━━━━━━━━━━━━━━━━━━━\u001b[0m \u001b[32m4.6/4.6 MB\u001b[0m \u001b[31m100.9 MB/s\u001b[0m eta \u001b[36m0:00:00\u001b[0m\n",
            "\u001b[2K   \u001b[90m━━━━━━━━━━━━━━━━━━━━━━━━━━━━━━━━━━━━━━━━\u001b[0m \u001b[32m19.1/19.1 MB\u001b[0m \u001b[31m75.4 MB/s\u001b[0m eta \u001b[36m0:00:00\u001b[0m\n",
            "\u001b[2K   \u001b[90m━━━━━━━━━━━━━━━━━━━━━━━━━━━━━━━━━━━━━━━━\u001b[0m \u001b[32m233.6/233.6 kB\u001b[0m \u001b[31m21.4 MB/s\u001b[0m eta \u001b[36m0:00:00\u001b[0m\n",
            "\u001b[2K   \u001b[90m━━━━━━━━━━━━━━━━━━━━━━━━━━━━━━━━━━━━━━━━\u001b[0m \u001b[32m150.3/150.3 kB\u001b[0m \u001b[31m14.8 MB/s\u001b[0m eta \u001b[36m0:00:00\u001b[0m\n",
            "\u001b[2K   \u001b[90m━━━━━━━━━━━━━━━━━━━━━━━━━━━━━━━━━━━━━━━━\u001b[0m \u001b[32m148.1/148.1 kB\u001b[0m \u001b[31m14.2 MB/s\u001b[0m eta \u001b[36m0:00:00\u001b[0m\n",
            "\u001b[2K   \u001b[90m━━━━━━━━━━━━━━━━━━━━━━━━━━━━━━━━━━━━━━━━\u001b[0m \u001b[32m80.2/80.2 kB\u001b[0m \u001b[31m8.3 MB/s\u001b[0m eta \u001b[36m0:00:00\u001b[0m\n",
            "\u001b[2K   \u001b[90m━━━━━━━━━━━━━━━━━━━━━━━━━━━━━━━━━━━━━━━━\u001b[0m \u001b[32m53.0/53.0 kB\u001b[0m \u001b[31m4.7 MB/s\u001b[0m eta \u001b[36m0:00:00\u001b[0m\n",
            "\u001b[2K   \u001b[90m━━━━━━━━━━━━━━━━━━━━━━━━━━━━━━━━━━━━━━━━\u001b[0m \u001b[32m38.0/38.0 MB\u001b[0m \u001b[31m22.4 MB/s\u001b[0m eta \u001b[36m0:00:00\u001b[0m\n",
            "\u001b[2K   \u001b[90m━━━━━━━━━━━━━━━━━━━━━━━━━━━━━━━━━━━━━━━━\u001b[0m \u001b[32m506.5/506.5 kB\u001b[0m \u001b[31m38.9 MB/s\u001b[0m eta \u001b[36m0:00:00\u001b[0m\n",
            "\u001b[2K   \u001b[90m━━━━━━━━━━━━━━━━━━━━━━━━━━━━━━━━━━━━━━━━\u001b[0m \u001b[32m78.5/78.5 kB\u001b[0m \u001b[31m8.5 MB/s\u001b[0m eta \u001b[36m0:00:00\u001b[0m\n",
            "\u001b[2K     \u001b[90m━━━━━━━━━━━━━━━━━━━━━━━━━━━━━━━━━━━━━━━━\u001b[0m \u001b[32m58.9/58.9 kB\u001b[0m \u001b[31m5.0 MB/s\u001b[0m eta \u001b[36m0:00:00\u001b[0m\n",
            "\u001b[?25h  Preparing metadata (setup.py) ... \u001b[?25l\u001b[?25hdone\n",
            "  Preparing metadata (setup.py) ... \u001b[?25l\u001b[?25hdone\n",
            "\u001b[2K   \u001b[90m━━━━━━━━━━━━━━━━━━━━━━━━━━━━━━━━━━━━━━━━\u001b[0m \u001b[32m24.1/24.1 MB\u001b[0m \u001b[31m1.9 MB/s\u001b[0m eta \u001b[36m0:00:00\u001b[0m\n",
            "\u001b[2K   \u001b[90m━━━━━━━━━━━━━━━━━━━━━━━━━━━━━━━━━━━━━━━━\u001b[0m \u001b[32m60.3/60.3 kB\u001b[0m \u001b[31m5.9 MB/s\u001b[0m eta \u001b[36m0:00:00\u001b[0m\n",
            "\u001b[2K   \u001b[90m━━━━━━━━━━━━━━━━━━━━━━━━━━━━━━━━━━━━━━━━\u001b[0m \u001b[32m17.3/17.3 MB\u001b[0m \u001b[31m86.2 MB/s\u001b[0m eta \u001b[36m0:00:00\u001b[0m\n",
            "\u001b[2K   \u001b[90m━━━━━━━━━━━━━━━━━━━━━━━━━━━━━━━━━━━━━━━━\u001b[0m \u001b[32m34.1/34.1 MB\u001b[0m \u001b[31m26.1 MB/s\u001b[0m eta \u001b[36m0:00:00\u001b[0m\n",
            "\u001b[2K   \u001b[90m━━━━━━━━━━━━━━━━━━━━━━━━━━━━━━━━━━━━━━━━\u001b[0m \u001b[32m12.0/12.0 MB\u001b[0m \u001b[31m108.0 MB/s\u001b[0m eta \u001b[36m0:00:00\u001b[0m\n",
            "\u001b[?25h  Building wheel for fst-pso (setup.py) ... \u001b[?25l\u001b[?25hdone\n",
            "  Building wheel for miniful (setup.py) ... \u001b[?25l\u001b[?25hdone\n",
            "\u001b[31mERROR: pip's dependency resolver does not currently take into account all the packages that are installed. This behaviour is the source of the following dependency conflicts.\n",
            "google-colab 1.0.0 requires pandas==2.2.2, but you have pandas 1.5.3 which is incompatible.\n",
            "cudf-cu12 24.12.0 requires pandas<2.2.4dev0,>=2.0, but you have pandas 1.5.3 which is incompatible.\n",
            "pymc 5.20.0 requires numpy>=1.25.0, but you have numpy 1.24.4 which is incompatible.\n",
            "mizani 0.13.1 requires pandas>=2.2.0, but you have pandas 1.5.3 which is incompatible.\n",
            "blosc2 3.0.0 requires numpy>=1.25.0, but you have numpy 1.24.4 which is incompatible.\n",
            "torchvision 0.20.1+cu124 requires torch==2.5.1, but you have torch 2.0.0 which is incompatible.\n",
            "xarray 2025.1.2 requires pandas>=2.1, but you have pandas 1.5.3 which is incompatible.\n",
            "scikit-image 0.25.1 requires scipy>=1.11.2, but you have scipy 1.10.1 which is incompatible.\n",
            "tensorflow 2.18.0 requires numpy<2.1.0,>=1.26.0, but you have numpy 1.24.4 which is incompatible.\n",
            "plotnine 0.14.5 requires pandas>=2.2.0, but you have pandas 1.5.3 which is incompatible.\u001b[0m\u001b[31m\n",
            "\u001b[0m"
          ]
        }
      ]
    },
    {
      "cell_type": "code",
      "execution_count": 3,
      "metadata": {
        "id": "gnsSI7g1NLYp"
      },
      "outputs": [],
      "source": [
        "# Importing libraires for file and time operations\n",
        "import os\n",
        "import time\n",
        "import warnings\n",
        "warnings.filterwarnings('ignore')\n",
        "\n",
        "# Libraries for random number generation\n",
        "import random\n",
        "\n",
        "\n",
        "# Basic libraries\n",
        "import pandas as pd\n",
        "import numpy as np\n",
        "import seaborn as sns\n",
        "import matplotlib.pyplot as plt\n",
        "import matplotlib.ticker as ticker\n",
        "%matplotlib inline\n",
        "\n",
        "\n",
        "from itertools import product\n",
        "\n",
        "# library for experiment tracking\n",
        "import mlflow\n",
        "\n",
        "# Library for splitting data\n",
        "from sklearn.model_selection import train_test_split\n",
        "from sklearn.metrics import accuracy_score, precision_score, recall_score, f1_score\n",
        "\n",
        "# libraries for Word2Vec\n",
        "import gensim\n",
        "from gensim.models import Word2Vec\n",
        "\n",
        "# libraries for nltk\n",
        "import nltk\n",
        "from nltk import tokenize\n",
        "from nltk.tokenize import WhitespaceTokenizer\n",
        "\n",
        "# Librarie from torchtext for tokenization\n",
        "import torchtext\n",
        "from torchtext.data.utils import get_tokenizer\n",
        "\n",
        "# Libraries for Deep Learning with PyTorch\n",
        "import torch\n",
        "from torch import nn, optim\n",
        "from torch.utils.data import Dataset, DataLoader, TensorDataset\n",
        "\n",
        "# Library for clearing Jupyter Notebook cell output\n",
        "from IPython.display import clear_output\n",
        "\n",
        "# Libraries for model evaluation metrics\n",
        "from sklearn.metrics import accuracy_score, precision_score, recall_score, f1_score\n",
        "\n",
        "\n",
        "# Library for clearing Jupyter Notebook cell output\n",
        "from IPython.display import clear_output"
      ]
    },
    {
      "cell_type": "code",
      "source": [
        "# new library importing inbetween\n",
        "\n",
        "\n"
      ],
      "metadata": {
        "id": "CNQX_-VBPUPL"
      },
      "execution_count": 4,
      "outputs": []
    },
    {
      "cell_type": "markdown",
      "source": [
        "# Seeting seeds for reproducibility\n"
      ],
      "metadata": {
        "id": "LudqHFUdPbsm"
      }
    },
    {
      "cell_type": "code",
      "source": [
        "def set_seed(seed_value):\n",
        "  # set python's random seed\n",
        "  random.seed(seed_value)\n",
        "\n",
        "  # set numpy's random seed\n",
        "  np.random.seed(seed_value)\n",
        "\n",
        "  os.environ['PYTHONHASHSEED'] = str(seed_value)\n",
        "  # set Pytorch;s CPU seed\n",
        "  torch.manual_seed(seed_value)\n",
        "  # Set CuDNN deterministic mode (for further reproducibility)\n",
        "  torch.backends.cudnn.deterministic = True\n",
        "  torch.backends.cudnn.benchmark = False\n",
        "\n",
        "  # Set PyTorch's GPU seed (if available)\n",
        "  if torch.cuda.is_available():\n",
        "    torch.cuda.manual_seed(seed_value)\n",
        "    torch.cuda.manual_seed_all(seed_value)\n",
        "\n",
        "set_seed(42)"
      ],
      "metadata": {
        "id": "kE5w-kVZPZ0Q"
      },
      "execution_count": 5,
      "outputs": []
    },
    {
      "cell_type": "markdown",
      "source": [
        "## Loading dataset"
      ],
      "metadata": {
        "id": "gm2G1p1yUsJt"
      }
    },
    {
      "cell_type": "code",
      "source": [
        "# copy files from google drive to google colab content\n",
        "\n",
        "!cp '/content/drive/MyDrive/Twitter_Sentiment_Analysis_1/training_processed_data.csv' '/content/'\n",
        "!cp '/content/drive/MyDrive/Twitter_Sentiment_Analysis_1/SKIP_Word2Vec.model' '/content/'\n",
        "!cp '/content/drive/MyDrive/Twitter_Sentiment_Analysis_1/CBOW_Word2Vec.model' '/content/'"
      ],
      "metadata": {
        "id": "ysVvlgMJUrUs"
      },
      "execution_count": 6,
      "outputs": []
    },
    {
      "cell_type": "code",
      "source": [
        "# Load the dataset\n",
        "\n",
        "dataset = pd.read_csv('training_processed_data.csv',nrows = 500000)\n",
        "dataset.sample(5)"
      ],
      "metadata": {
        "colab": {
          "base_uri": "https://localhost:8080/",
          "height": 206
        },
        "id": "2XHCqbzHVfPT",
        "outputId": "512b4573-99a2-4eb7-fc36-b62ea76e9c21"
      },
      "execution_count": 7,
      "outputs": [
        {
          "output_type": "execute_result",
          "data": {
            "text/plain": [
              "        target                                               text\n",
              "104241       0       good sore head stuffy nose symptom swine flu\n",
              "199676       0                                          work work\n",
              "140199       0  mimunm year life lodger bastard got life throw...\n",
              "132814       0                                 sorry hear hang ok\n",
              "408697       0                                    i got fired job"
            ],
            "text/html": [
              "\n",
              "  <div id=\"df-fa907cbe-422e-4ec2-a9d1-5b3dc8a99c30\" class=\"colab-df-container\">\n",
              "    <div>\n",
              "<style scoped>\n",
              "    .dataframe tbody tr th:only-of-type {\n",
              "        vertical-align: middle;\n",
              "    }\n",
              "\n",
              "    .dataframe tbody tr th {\n",
              "        vertical-align: top;\n",
              "    }\n",
              "\n",
              "    .dataframe thead th {\n",
              "        text-align: right;\n",
              "    }\n",
              "</style>\n",
              "<table border=\"1\" class=\"dataframe\">\n",
              "  <thead>\n",
              "    <tr style=\"text-align: right;\">\n",
              "      <th></th>\n",
              "      <th>target</th>\n",
              "      <th>text</th>\n",
              "    </tr>\n",
              "  </thead>\n",
              "  <tbody>\n",
              "    <tr>\n",
              "      <th>104241</th>\n",
              "      <td>0</td>\n",
              "      <td>good sore head stuffy nose symptom swine flu</td>\n",
              "    </tr>\n",
              "    <tr>\n",
              "      <th>199676</th>\n",
              "      <td>0</td>\n",
              "      <td>work work</td>\n",
              "    </tr>\n",
              "    <tr>\n",
              "      <th>140199</th>\n",
              "      <td>0</td>\n",
              "      <td>mimunm year life lodger bastard got life throw...</td>\n",
              "    </tr>\n",
              "    <tr>\n",
              "      <th>132814</th>\n",
              "      <td>0</td>\n",
              "      <td>sorry hear hang ok</td>\n",
              "    </tr>\n",
              "    <tr>\n",
              "      <th>408697</th>\n",
              "      <td>0</td>\n",
              "      <td>i got fired job</td>\n",
              "    </tr>\n",
              "  </tbody>\n",
              "</table>\n",
              "</div>\n",
              "    <div class=\"colab-df-buttons\">\n",
              "\n",
              "  <div class=\"colab-df-container\">\n",
              "    <button class=\"colab-df-convert\" onclick=\"convertToInteractive('df-fa907cbe-422e-4ec2-a9d1-5b3dc8a99c30')\"\n",
              "            title=\"Convert this dataframe to an interactive table.\"\n",
              "            style=\"display:none;\">\n",
              "\n",
              "  <svg xmlns=\"http://www.w3.org/2000/svg\" height=\"24px\" viewBox=\"0 -960 960 960\">\n",
              "    <path d=\"M120-120v-720h720v720H120Zm60-500h600v-160H180v160Zm220 220h160v-160H400v160Zm0 220h160v-160H400v160ZM180-400h160v-160H180v160Zm440 0h160v-160H620v160ZM180-180h160v-160H180v160Zm440 0h160v-160H620v160Z\"/>\n",
              "  </svg>\n",
              "    </button>\n",
              "\n",
              "  <style>\n",
              "    .colab-df-container {\n",
              "      display:flex;\n",
              "      gap: 12px;\n",
              "    }\n",
              "\n",
              "    .colab-df-convert {\n",
              "      background-color: #E8F0FE;\n",
              "      border: none;\n",
              "      border-radius: 50%;\n",
              "      cursor: pointer;\n",
              "      display: none;\n",
              "      fill: #1967D2;\n",
              "      height: 32px;\n",
              "      padding: 0 0 0 0;\n",
              "      width: 32px;\n",
              "    }\n",
              "\n",
              "    .colab-df-convert:hover {\n",
              "      background-color: #E2EBFA;\n",
              "      box-shadow: 0px 1px 2px rgba(60, 64, 67, 0.3), 0px 1px 3px 1px rgba(60, 64, 67, 0.15);\n",
              "      fill: #174EA6;\n",
              "    }\n",
              "\n",
              "    .colab-df-buttons div {\n",
              "      margin-bottom: 4px;\n",
              "    }\n",
              "\n",
              "    [theme=dark] .colab-df-convert {\n",
              "      background-color: #3B4455;\n",
              "      fill: #D2E3FC;\n",
              "    }\n",
              "\n",
              "    [theme=dark] .colab-df-convert:hover {\n",
              "      background-color: #434B5C;\n",
              "      box-shadow: 0px 1px 3px 1px rgba(0, 0, 0, 0.15);\n",
              "      filter: drop-shadow(0px 1px 2px rgba(0, 0, 0, 0.3));\n",
              "      fill: #FFFFFF;\n",
              "    }\n",
              "  </style>\n",
              "\n",
              "    <script>\n",
              "      const buttonEl =\n",
              "        document.querySelector('#df-fa907cbe-422e-4ec2-a9d1-5b3dc8a99c30 button.colab-df-convert');\n",
              "      buttonEl.style.display =\n",
              "        google.colab.kernel.accessAllowed ? 'block' : 'none';\n",
              "\n",
              "      async function convertToInteractive(key) {\n",
              "        const element = document.querySelector('#df-fa907cbe-422e-4ec2-a9d1-5b3dc8a99c30');\n",
              "        const dataTable =\n",
              "          await google.colab.kernel.invokeFunction('convertToInteractive',\n",
              "                                                    [key], {});\n",
              "        if (!dataTable) return;\n",
              "\n",
              "        const docLinkHtml = 'Like what you see? Visit the ' +\n",
              "          '<a target=\"_blank\" href=https://colab.research.google.com/notebooks/data_table.ipynb>data table notebook</a>'\n",
              "          + ' to learn more about interactive tables.';\n",
              "        element.innerHTML = '';\n",
              "        dataTable['output_type'] = 'display_data';\n",
              "        await google.colab.output.renderOutput(dataTable, element);\n",
              "        const docLink = document.createElement('div');\n",
              "        docLink.innerHTML = docLinkHtml;\n",
              "        element.appendChild(docLink);\n",
              "      }\n",
              "    </script>\n",
              "  </div>\n",
              "\n",
              "\n",
              "<div id=\"df-ba9736e7-beed-45a8-b159-ca7bb6cfee60\">\n",
              "  <button class=\"colab-df-quickchart\" onclick=\"quickchart('df-ba9736e7-beed-45a8-b159-ca7bb6cfee60')\"\n",
              "            title=\"Suggest charts\"\n",
              "            style=\"display:none;\">\n",
              "\n",
              "<svg xmlns=\"http://www.w3.org/2000/svg\" height=\"24px\"viewBox=\"0 0 24 24\"\n",
              "     width=\"24px\">\n",
              "    <g>\n",
              "        <path d=\"M19 3H5c-1.1 0-2 .9-2 2v14c0 1.1.9 2 2 2h14c1.1 0 2-.9 2-2V5c0-1.1-.9-2-2-2zM9 17H7v-7h2v7zm4 0h-2V7h2v10zm4 0h-2v-4h2v4z\"/>\n",
              "    </g>\n",
              "</svg>\n",
              "  </button>\n",
              "\n",
              "<style>\n",
              "  .colab-df-quickchart {\n",
              "      --bg-color: #E8F0FE;\n",
              "      --fill-color: #1967D2;\n",
              "      --hover-bg-color: #E2EBFA;\n",
              "      --hover-fill-color: #174EA6;\n",
              "      --disabled-fill-color: #AAA;\n",
              "      --disabled-bg-color: #DDD;\n",
              "  }\n",
              "\n",
              "  [theme=dark] .colab-df-quickchart {\n",
              "      --bg-color: #3B4455;\n",
              "      --fill-color: #D2E3FC;\n",
              "      --hover-bg-color: #434B5C;\n",
              "      --hover-fill-color: #FFFFFF;\n",
              "      --disabled-bg-color: #3B4455;\n",
              "      --disabled-fill-color: #666;\n",
              "  }\n",
              "\n",
              "  .colab-df-quickchart {\n",
              "    background-color: var(--bg-color);\n",
              "    border: none;\n",
              "    border-radius: 50%;\n",
              "    cursor: pointer;\n",
              "    display: none;\n",
              "    fill: var(--fill-color);\n",
              "    height: 32px;\n",
              "    padding: 0;\n",
              "    width: 32px;\n",
              "  }\n",
              "\n",
              "  .colab-df-quickchart:hover {\n",
              "    background-color: var(--hover-bg-color);\n",
              "    box-shadow: 0 1px 2px rgba(60, 64, 67, 0.3), 0 1px 3px 1px rgba(60, 64, 67, 0.15);\n",
              "    fill: var(--button-hover-fill-color);\n",
              "  }\n",
              "\n",
              "  .colab-df-quickchart-complete:disabled,\n",
              "  .colab-df-quickchart-complete:disabled:hover {\n",
              "    background-color: var(--disabled-bg-color);\n",
              "    fill: var(--disabled-fill-color);\n",
              "    box-shadow: none;\n",
              "  }\n",
              "\n",
              "  .colab-df-spinner {\n",
              "    border: 2px solid var(--fill-color);\n",
              "    border-color: transparent;\n",
              "    border-bottom-color: var(--fill-color);\n",
              "    animation:\n",
              "      spin 1s steps(1) infinite;\n",
              "  }\n",
              "\n",
              "  @keyframes spin {\n",
              "    0% {\n",
              "      border-color: transparent;\n",
              "      border-bottom-color: var(--fill-color);\n",
              "      border-left-color: var(--fill-color);\n",
              "    }\n",
              "    20% {\n",
              "      border-color: transparent;\n",
              "      border-left-color: var(--fill-color);\n",
              "      border-top-color: var(--fill-color);\n",
              "    }\n",
              "    30% {\n",
              "      border-color: transparent;\n",
              "      border-left-color: var(--fill-color);\n",
              "      border-top-color: var(--fill-color);\n",
              "      border-right-color: var(--fill-color);\n",
              "    }\n",
              "    40% {\n",
              "      border-color: transparent;\n",
              "      border-right-color: var(--fill-color);\n",
              "      border-top-color: var(--fill-color);\n",
              "    }\n",
              "    60% {\n",
              "      border-color: transparent;\n",
              "      border-right-color: var(--fill-color);\n",
              "    }\n",
              "    80% {\n",
              "      border-color: transparent;\n",
              "      border-right-color: var(--fill-color);\n",
              "      border-bottom-color: var(--fill-color);\n",
              "    }\n",
              "    90% {\n",
              "      border-color: transparent;\n",
              "      border-bottom-color: var(--fill-color);\n",
              "    }\n",
              "  }\n",
              "</style>\n",
              "\n",
              "  <script>\n",
              "    async function quickchart(key) {\n",
              "      const quickchartButtonEl =\n",
              "        document.querySelector('#' + key + ' button');\n",
              "      quickchartButtonEl.disabled = true;  // To prevent multiple clicks.\n",
              "      quickchartButtonEl.classList.add('colab-df-spinner');\n",
              "      try {\n",
              "        const charts = await google.colab.kernel.invokeFunction(\n",
              "            'suggestCharts', [key], {});\n",
              "      } catch (error) {\n",
              "        console.error('Error during call to suggestCharts:', error);\n",
              "      }\n",
              "      quickchartButtonEl.classList.remove('colab-df-spinner');\n",
              "      quickchartButtonEl.classList.add('colab-df-quickchart-complete');\n",
              "    }\n",
              "    (() => {\n",
              "      let quickchartButtonEl =\n",
              "        document.querySelector('#df-ba9736e7-beed-45a8-b159-ca7bb6cfee60 button');\n",
              "      quickchartButtonEl.style.display =\n",
              "        google.colab.kernel.accessAllowed ? 'block' : 'none';\n",
              "    })();\n",
              "  </script>\n",
              "</div>\n",
              "\n",
              "    </div>\n",
              "  </div>\n"
            ],
            "application/vnd.google.colaboratory.intrinsic+json": {
              "type": "dataframe",
              "summary": "{\n  \"name\": \"dataset\",\n  \"rows\": 5,\n  \"fields\": [\n    {\n      \"column\": \"target\",\n      \"properties\": {\n        \"dtype\": \"number\",\n        \"std\": 0,\n        \"min\": 0,\n        \"max\": 0,\n        \"num_unique_values\": 1,\n        \"samples\": [\n          0\n        ],\n        \"semantic_type\": \"\",\n        \"description\": \"\"\n      }\n    },\n    {\n      \"column\": \"text\",\n      \"properties\": {\n        \"dtype\": \"string\",\n        \"num_unique_values\": 5,\n        \"samples\": [\n          \"work work\"\n        ],\n        \"semantic_type\": \"\",\n        \"description\": \"\"\n      }\n    }\n  ]\n}"
            }
          },
          "metadata": {},
          "execution_count": 7
        }
      ]
    },
    {
      "cell_type": "code",
      "source": [
        "dataset.dropna(axis = 0, how = \"any\", inplace = True)\n",
        "dataset.isnull().sum()"
      ],
      "metadata": {
        "colab": {
          "base_uri": "https://localhost:8080/",
          "height": 147
        },
        "id": "gmPTqWP2lh9g",
        "outputId": "8375f24f-e936-4ff9-a26b-a8f1fb7cac95"
      },
      "execution_count": 8,
      "outputs": [
        {
          "output_type": "execute_result",
          "data": {
            "text/plain": [
              "target    0\n",
              "text      0\n",
              "dtype: int64"
            ],
            "text/html": [
              "<div>\n",
              "<style scoped>\n",
              "    .dataframe tbody tr th:only-of-type {\n",
              "        vertical-align: middle;\n",
              "    }\n",
              "\n",
              "    .dataframe tbody tr th {\n",
              "        vertical-align: top;\n",
              "    }\n",
              "\n",
              "    .dataframe thead th {\n",
              "        text-align: right;\n",
              "    }\n",
              "</style>\n",
              "<table border=\"1\" class=\"dataframe\">\n",
              "  <thead>\n",
              "    <tr style=\"text-align: right;\">\n",
              "      <th></th>\n",
              "      <th>0</th>\n",
              "    </tr>\n",
              "  </thead>\n",
              "  <tbody>\n",
              "    <tr>\n",
              "      <th>target</th>\n",
              "      <td>0</td>\n",
              "    </tr>\n",
              "    <tr>\n",
              "      <th>text</th>\n",
              "      <td>0</td>\n",
              "    </tr>\n",
              "  </tbody>\n",
              "</table>\n",
              "</div><br><label><b>dtype:</b> int64</label>"
            ]
          },
          "metadata": {},
          "execution_count": 8
        }
      ]
    },
    {
      "cell_type": "code",
      "source": [
        "dataset.info(memory_usage = 'deep')"
      ],
      "metadata": {
        "colab": {
          "base_uri": "https://localhost:8080/"
        },
        "id": "6et7z9JVQKRH",
        "outputId": "7ff24d86-fe92-44c3-9222-06dceb2f1ccc"
      },
      "execution_count": 9,
      "outputs": [
        {
          "output_type": "stream",
          "name": "stdout",
          "text": [
            "<class 'pandas.core.frame.DataFrame'>\n",
            "Int64Index: 492950 entries, 0 to 499999\n",
            "Data columns (total 2 columns):\n",
            " #   Column  Non-Null Count   Dtype \n",
            "---  ------  --------------   ----- \n",
            " 0   target  492950 non-null  int64 \n",
            " 1   text    492950 non-null  object\n",
            "dtypes: int64(1), object(1)\n",
            "memory usage: 50.8 MB\n"
          ]
        }
      ]
    },
    {
      "cell_type": "markdown",
      "source": [
        "## Splitting the data into Train and Test data"
      ],
      "metadata": {
        "id": "U8UUeUCxVqxk"
      }
    },
    {
      "cell_type": "code",
      "source": [
        "# Split the dataset into Training and Testing data\n",
        "X_train, X_test, y_train, y_test = train_test_split(dataset['text'], dataset['target'], test_size = 0.25, random_state = 42)\n",
        "\n",
        "\n"
      ],
      "metadata": {
        "id": "ptT6U37mVqa1"
      },
      "execution_count": 10,
      "outputs": []
    },
    {
      "cell_type": "markdown",
      "source": [
        "## Data Vectorization"
      ],
      "metadata": {
        "id": "oahYrpofWQB4"
      }
    },
    {
      "cell_type": "code",
      "source": [
        "# Define the path to the pre-trained Word2Vec models\n",
        "cbow_path = '/content/CBOW_Word2Vec.model'\n",
        "sg_path = '/content/SKIP_Word2Vec.model'\n",
        "\n",
        "# Load the models in the memory\n",
        "cbow = Word2Vec.load(cbow_path)\n",
        "sg = Word2Vec.load(sg_path)"
      ],
      "metadata": {
        "id": "QtTNoPeRWO9J"
      },
      "execution_count": 11,
      "outputs": []
    },
    {
      "cell_type": "markdown",
      "source": [
        "converting the raw data into vectorize format with 300 dimensions using the above mentioned models"
      ],
      "metadata": {
        "id": "IYQrDVA8XfVK"
      }
    },
    {
      "cell_type": "code",
      "source": [
        "def vectorizer(text, word2vec_model):\n",
        "  x = len(text)\n",
        "  y = 300\n",
        "\n",
        "  matrix = np.zeros((x,y))\n",
        "\n",
        "  # iterate through each text sample in the dataframe\n",
        "  for i in range(x):\n",
        "    words = WhitespaceTokenizer().tokenize(text.iloc[i])\n",
        "\n",
        "    for word in words:\n",
        "      word_vec = []\n",
        "      if word in word2vec_model.wv:\n",
        "        word_vec.append(word2vec_model.wv.get_vector(word))\n",
        "\n",
        "      if word_vec:\n",
        "        matrix[i] = np.mean(word_vec, axis=0)\n",
        "\n",
        "  return matrix"
      ],
      "metadata": {
        "id": "YN8P-VWYXk_o"
      },
      "execution_count": 12,
      "outputs": []
    },
    {
      "cell_type": "markdown",
      "source": [
        "Let's vectorize the data using CBOW_Word2Vec model"
      ],
      "metadata": {
        "id": "hniUjVhQJ3xI"
      }
    },
    {
      "cell_type": "code",
      "source": [
        "# Start the data vectorization using CBOW\n",
        "start_time = time.time()\n",
        "\n",
        "matrix_train_cbow = vectorizer(X_train,cbow)\n",
        "matrix_test_cbow = vectorizer(X_test,cbow)\n",
        "\n",
        "print(f\" Data Vectorization completed using cbow. Duration {time.time()-start_time} secs\")"
      ],
      "metadata": {
        "colab": {
          "base_uri": "https://localhost:8080/"
        },
        "id": "EIQuj2aPgqNI",
        "outputId": "3826836a-69a1-46c7-df5c-80c740f36d42"
      },
      "execution_count": 13,
      "outputs": [
        {
          "output_type": "stream",
          "name": "stdout",
          "text": [
            " Data Vectorization completed using cbow. Duration 79.0372850894928 secs\n"
          ]
        }
      ]
    },
    {
      "cell_type": "code",
      "source": [
        "print(matrix_train_cbow.shape)"
      ],
      "metadata": {
        "colab": {
          "base_uri": "https://localhost:8080/"
        },
        "id": "C-x_cTI4-yzg",
        "outputId": "42732c52-bf51-43e4-b907-aa19e1ab2224"
      },
      "execution_count": 14,
      "outputs": [
        {
          "output_type": "stream",
          "name": "stdout",
          "text": [
            "(369712, 300)\n"
          ]
        }
      ]
    },
    {
      "cell_type": "code",
      "source": [
        "print(matrix_train_cbow[1].shape)"
      ],
      "metadata": {
        "colab": {
          "base_uri": "https://localhost:8080/"
        },
        "id": "LRoDxSUTB1DR",
        "outputId": "ca0e77de-c49e-41cb-d522-759d4ff09f52"
      },
      "execution_count": 15,
      "outputs": [
        {
          "output_type": "stream",
          "name": "stdout",
          "text": [
            "(300,)\n"
          ]
        }
      ]
    },
    {
      "cell_type": "code",
      "source": [
        "# Start the data vectorization with Skipgram\n",
        "start_time = time.time()\n",
        "\n",
        "matrix_train_sg = vectorizer(X_train,sg)\n",
        "matrix_test_sg = vectorizer(X_test,sg)\n",
        "\n",
        "print(f\"Data Vectorization completed using Skipgram. Duration {time.time()- start_time}\")\n"
      ],
      "metadata": {
        "colab": {
          "base_uri": "https://localhost:8080/"
        },
        "id": "lpHXY_EQhLsy",
        "outputId": "c61e72ce-8aab-4b9e-eab9-819a4cb06ba3"
      },
      "execution_count": 16,
      "outputs": [
        {
          "output_type": "stream",
          "name": "stdout",
          "text": [
            "Data Vectorization completed using Skipgram. Duration 70.24965858459473\n"
          ]
        }
      ]
    },
    {
      "cell_type": "code",
      "source": [],
      "metadata": {
        "id": "4_awKw-qmRA8"
      },
      "execution_count": 16,
      "outputs": []
    },
    {
      "cell_type": "markdown",
      "source": [
        "## Setting the computational device"
      ],
      "metadata": {
        "id": "9duX7Kt0nEzH"
      }
    },
    {
      "cell_type": "code",
      "source": [
        "# Choose GPU if availabel, otherwise use CPU\n",
        "if torch.cuda.is_available():\n",
        "  device = torch.device('cuda')\n",
        "else:\n",
        "  device = torch.device('cpu')\n",
        "\n",
        "print(f\"Device being used is {device}\")"
      ],
      "metadata": {
        "colab": {
          "base_uri": "https://localhost:8080/"
        },
        "id": "5TZ2GtqJnIJg",
        "outputId": "b44bf114-b447-42cd-e1dd-8ce9484f8810"
      },
      "execution_count": 17,
      "outputs": [
        {
          "output_type": "stream",
          "name": "stdout",
          "text": [
            "Device being used is cuda\n"
          ]
        }
      ]
    },
    {
      "cell_type": "markdown",
      "source": [
        "## First:- Basic Neural Network"
      ],
      "metadata": {
        "id": "EB7eYnien-1u"
      }
    },
    {
      "cell_type": "markdown",
      "source": [
        "Classifier class sets up the network layer, while train and test functions manage the training and evaluation process."
      ],
      "metadata": {
        "id": "TCqFip-fEYmF"
      }
    },
    {
      "cell_type": "code",
      "source": [
        "# Define neural network classifier\n",
        "class classifier(nn.Module):\n",
        "  def __init__(self, input_size, hidden_size, out_size):\n",
        "    super(classifier, self).__init__()\n",
        "\n",
        "    # Define hidden layer with ReLU activation\n",
        "    self.features = nn.Sequential(nn.Linear(input_size, hidden_size), nn.ReLU())\n",
        "\n",
        "    # Define output Layer\n",
        "    self.out = nn.Linear(hidden_size, out_size)\n",
        "\n",
        "  #Define foreard pass\n",
        "  def forward(self, X):\n",
        "    feature = self.features(X)\n",
        "    output = self.out(feature)\n",
        "\n",
        "    return output"
      ],
      "metadata": {
        "id": "-GPwCg7YoC1i"
      },
      "execution_count": 18,
      "outputs": []
    },
    {
      "cell_type": "code",
      "source": [
        "# Training Function for a single epoch\n",
        "\n",
        "def train(train_loader, net, epoch, criterion, optimizer):\n",
        "\n",
        "  # set the network to training mode\n",
        "  net.train()\n",
        "\n",
        "  # Initialize list to store batch loss\n",
        "  epoch_loss = []\n",
        "\n",
        "  # Iterate through each batch in the training data loader\n",
        "  for batch in train_loader:\n",
        "    data, target = batch\n",
        "\n",
        "    # Move the data and labels to the chosen device\n",
        "    data , target = data.to(device), target.to(device)\n",
        "\n",
        "    # Forward pass: commute predictions and loss\n",
        "    pred = net(data)\n",
        "    loss = criterion(pred.squeeze(),target.float())\n",
        "    epoch_loss.append(loss.cpu().data)\n",
        "\n",
        "    # Backward pass and optimization\n",
        "    optimizer.zero_grad()\n",
        "    loss.backward()\n",
        "    optimizer.step()\n",
        "\n",
        "  # Convert epoch loss to numpy array and compute mean\n",
        "  epoch_loss = np.asarray(epoch_loss)\n",
        "\n",
        "  return epoch_loss.mean()"
      ],
      "metadata": {
        "id": "soBvImI-G0Xd"
      },
      "execution_count": 19,
      "outputs": []
    },
    {
      "cell_type": "code",
      "source": [
        "# Testing Function for single epoch\n",
        "\n",
        "def test(test_loader, net, epoch, criterion):\n",
        "  # set the network for evaluation mode\n",
        "  net.eval()\n",
        "\n",
        "  # Disable gradient calculation for performance calculation\n",
        "  with torch.no_grad():\n",
        "    # Initiate loss list to store the loss\n",
        "    epoch_loss = []\n",
        "\n",
        "    # Iterate through each batch in the test data loader\n",
        "    for batch in test_loader:\n",
        "      data,target = batch\n",
        "\n",
        "      # Move data and target to the chosen device\n",
        "      data, target = data.to(device), target.to(device)\n",
        "\n",
        "      # Forward pass: compute predictoins and loss\n",
        "      pred = net(data)\n",
        "      loss = criterion(pred.squeeze(), target.float())\n",
        "      epoch_loss.append(loss.cpu().data)\n",
        "\n",
        "    #Convcer the epoch loss to numpy array and compute the mean\n",
        "    epoch_loss = np.asarray(epoch_loss)\n",
        "\n",
        "    return epoch_loss.mean()\n"
      ],
      "metadata": {
        "id": "5KwlAyhZRHkU"
      },
      "execution_count": 20,
      "outputs": []
    },
    {
      "cell_type": "code",
      "source": [
        "from tqdm import tqdm"
      ],
      "metadata": {
        "id": "iXVwb0y5mW2K"
      },
      "execution_count": 21,
      "outputs": []
    },
    {
      "cell_type": "code",
      "source": [
        "# Main function to train the neural network\n",
        "\n",
        "def train_nn(matrix_train, matrix_test, args, hidden_size = 32, input_size = 300, output_size = 1):\n",
        "\n",
        "  # start MLflow run for experiment tracking\n",
        "  with mlflow.start_run(experiment_id = experiment_id):\n",
        "    # log hyperparameters\n",
        "    for key, value in args.items():\n",
        "      mlflow.log_param(key,value)\n",
        "\n",
        "    # Log neural netword architechture details\n",
        "    mlflow.log_param('input_size', input_size)\n",
        "    mlflow.log_param('hidden_size', hidden_size)\n",
        "    mlflow.log_param('output_size', output_size)\n",
        "\n",
        "\n",
        "\n",
        "    # converting training and testing matrices to pytorch tensors\n",
        "    X_train = torch.from_numpy(matrix_train).float()\n",
        "    Y_train = torch.from_numpy(y_train.values)\n",
        "    train_data = TensorDataset(X_train,Y_train)\n",
        "\n",
        "    X_test = torch.from_numpy(matrix_test).float()\n",
        "    Y_test = torch.from_numpy(y_test.values)\n",
        "    test_data = TensorDataset(X_test, Y_test)\n",
        "\n",
        "    # Create data Loaders for training and testing datasets\n",
        "    train_loader = DataLoader(train_data, batch_size = args['batch_size'], shuffle = True,\n",
        "                              num_workers = args['num_workers'])\n",
        "    test_loader = DataLoader(test_data, batch_size = args['batch_size'], shuffle = True,\n",
        "                            num_workers = args['num_workers'])\n",
        "\n",
        "    # Initialize the neular network\n",
        "    net = classifier(input_size, hidden_size, output_size)\n",
        "    net.to(device)\n",
        "\n",
        "    #Define the loss function\n",
        "    criterion = nn.BCEWithLogitsLoss().to(device)\n",
        "\n",
        "    # Define optimizer depending on params\n",
        "    if args['optimizer'] == 'SGD':\n",
        "            optimizer = optim.SGD(net.parameters(), lr=args['lr'])\n",
        "\n",
        "    if args['optimizer'] == 'Adam':\n",
        "      optimizer = optim.Adam(net.parameters(), lr = args['lr'],\n",
        "                            weight_decay = args['weight_decay'])\n",
        "\n",
        "    # Initializes variable to keep track of losses and other metrics\n",
        "    train_losses, test_losses = [], []\n",
        "    best_test_loss = float('inf')\n",
        "    best_model_epoch = -1\n",
        "    no_improvement_epoch = 0\n",
        "\n",
        "    # Records the time at which training starts\n",
        "    start_time = time.time()\n",
        "\n",
        "    # Main Training of neural network\n",
        "    for epoch in tqdm(range(args['num_epochs'])):\n",
        "\n",
        "      #Clear the output and prints the currnet training status\n",
        "      # clear_output(wait = True)\n",
        "\n",
        "      print(\"Training neural network ... Epoch \" + str(epoch) + '/' +str(args['num_epochs']-1))\n",
        "      if best_model_epoch != -1:\n",
        "        print(\"Best test loss epoch: \"+ str(best_model_epoch))\n",
        "\n",
        "      # Train the network and logs the loss\n",
        "      epoch_train_loss = train(train_loader, net, epoch, criterion, optimizer)\n",
        "      train_losses.append(epoch_train_loss)\n",
        "\n",
        "      # Test the network and logs the loss\n",
        "      epoch_test_loss = test(test_loader, net, epoch, criterion)\n",
        "      test_losses.append(epoch_test_loss)\n",
        "\n",
        "      # Checks for improvement in test loss\n",
        "      diff = best_test_loss - epoch_test_loss\n",
        "      if epoch_test_loss< best_test_loss:\n",
        "        best_test_loss = epoch_test_loss\n",
        "        #Save the state of the best model for future reference\n",
        "        torch.save(net.state_dict(), 'backup_best_model.pth')\n",
        "        best_model_epoch = epoch\n",
        "\n",
        "      # Implement early stopping based on predefined tolerance and patience\n",
        "      if diff> args['tolerance']:\n",
        "        no_improvement_epochs = 0\n",
        "      else:\n",
        "        no_improvement_epochs +=1\n",
        "      if no_improvement_epochs >= args['patience']:\n",
        "        print(\"Early Stopping at epoch: \", epoch)\n",
        "        break\n",
        "\n",
        "    # Record the duration for which the model training took\n",
        "    duration = time.time()-start_time\n",
        "\n",
        "    # Clear the output and prints the final training status\n",
        "    # clear_output(wait = True)\n",
        "\n",
        "    print(f\"Neural network training has finished. Elasped time {duration :.2f}\")\n",
        "    print(\"Best model saved\")\n",
        "    print(\"Best test loss epoch: \"+ str(best_model_epoch))\n",
        "\n",
        "    # Load the best model\n",
        "    true_test_labels, predicted_test_labels = [], []\n",
        "    net.load_state_dict(torch.load(\"backup_best_model.pth\"))\n",
        "\n",
        "    # Use the best model to make predictions on the train data\n",
        "    with torch.no_grad():\n",
        "      for batch in test_loader:\n",
        "        data, target = batch\n",
        "        data, target = data.to(device), target.to(device)\n",
        "        pred = net(data)\n",
        "        true_test_labels.extend(target.cpu().numpy())\n",
        "        predicted_test_labels.extend((torch.sigmoid(pred).squeeze()>0.5).cpu().numpy())\n",
        "\n",
        "    # Calculate performance metrics\n",
        "    test_accuracy = accuracy_score(true_test_labels, predicted_test_labels)\n",
        "    test_precision = precision_score(true_test_labels, predicted_test_labels)\n",
        "    test_recall = recall_score(true_test_labels, predicted_test_labels)\n",
        "    test_f1 = f1_score(true_test_labels, predicted_test_labels)\n",
        "\n",
        "    # print the performance metrics of the best model\n",
        "    print(\"Best model metrics: \")\n",
        "    print(f\"Accuracy: {test_accuracy}, Precision: {test_precision}, Recall: {test_recall}, F1 {test_f1}\")\n",
        "\n",
        "\n",
        "  return (train_losses, test_losses, best_model_epoch)"
      ],
      "metadata": {
        "id": "BLu5jWx4Siqx"
      },
      "execution_count": 31,
      "outputs": []
    },
    {
      "cell_type": "markdown",
      "source": [
        "## Setting up Mlflow Experiment Tracking"
      ],
      "metadata": {
        "id": "WpC9Zcz9mmpO"
      }
    },
    {
      "cell_type": "code",
      "source": [
        "# experiment name for Mlflow\n",
        "experiment_name = 'BASIC_NN'\n",
        "\n",
        "# check if experiment exist, if not create\n",
        "if mlflow.get_experiment_by_name(experiment_name) is None:\n",
        "  experiment_id = mlflow.create_experiment(experiment_name)\n",
        "else:\n",
        "  experiment_id = mlflow.get_experiment_by_name(experiment_name).experiment_id\n"
      ],
      "metadata": {
        "id": "9btCVl-HmmVX"
      },
      "execution_count": 23,
      "outputs": []
    },
    {
      "cell_type": "markdown",
      "source": [
        "## Parameter Grid Definition"
      ],
      "metadata": {
        "id": "es2IQAK_2a4Y"
      }
    },
    {
      "cell_type": "code",
      "source": [
        "# define parameter grid for hyperparameter tuning\n",
        "\n",
        "param_grid = {\n",
        "    'vectorization' :['cbow','sg'],\n",
        "    'criterion': ['BCEWithLogitsLoss'],\n",
        "    'optimizer' :['Adam'],\n",
        "    'batch_size' : [500],\n",
        "    'num_workers':[2],\n",
        "    'lr' : [0.0001,0.0005,0.001],\n",
        "    'weight_decay' : [0.0001,0.001],\n",
        "    'num_epochs':[500],\n",
        "    'tolerance' : [0.0003],\n",
        "    'patience' : [25]\n",
        "}\n",
        "\n",
        "# generate all combinations of hyperparameters for grid search\n",
        "all_combinations = [dict(zip(param_grid,v)) for v in product(*param_grid.values())]"
      ],
      "metadata": {
        "id": "Bb_xv3cu2ZoY"
      },
      "execution_count": 34,
      "outputs": []
    },
    {
      "cell_type": "code",
      "source": [
        "# remove already trained combination from experiment tracking list\n",
        "def remove_trained(combinations, experiment_id):\n",
        "  runs = pd.DataFrame(mlflow.search_runs(experiment_id))\n",
        "\n",
        "  trained_lst = []\n",
        "  not_trained_lst = []\n",
        "\n",
        "  for i in range(runs.shape[0]):\n",
        "    run = runs.iloc[i]\n",
        "    params = {\n",
        "        'vectorization' : run['params.vectorization'],\n",
        "        'criterion' : run['params.criterion'],\n",
        "        'optimizer' : run['params.optimizer'],\n",
        "        'batch_size': int(run['params.batch_size']),\n",
        "        'num_workers' : int(run['params.num_workers']),\n",
        "        'lr' : float(run['params.lr']),\n",
        "        'weight_decay' : float(run['params.weight_decay']),\n",
        "        'num_epochs' : int(run['params.num_epochs']),\n",
        "        'tolerance' : float(run['params.tolerance']),\n",
        "        'patience' : int(run['params.patience'])\n",
        "    }\n",
        "\n",
        "    trained_lst.append(params)\n",
        "\n",
        "  # check with combination\n",
        "  for i in range(len(combinations)):\n",
        "    already_trained = False\n",
        "\n",
        "    for j in range(len(trained_lst)):\n",
        "      if combinations[i] == trained_lst[j]:\n",
        "        already_trained = True\n",
        "\n",
        "    if not already_trained:\n",
        "      not_trained_lst.append(combinations[i])\n",
        "\n",
        "  return (not_trained_lst)\n",
        "\n",
        "# remove already trained combinations from the list\n",
        "not_trained_lst = remove_trained(all_combinations, experiment_id)\n",
        "\n",
        "# check if any combinations are left to train\n",
        "\n",
        "if len(not_trained_lst)>0:\n",
        "  print(f\"There are {len(not_trained_lst)} combinations left to train.\")\n",
        "\n",
        "else:\n",
        "  print(\"All models have been trained.\")"
      ],
      "metadata": {
        "colab": {
          "base_uri": "https://localhost:8080/"
        },
        "id": "4sRJ4vIWnN42",
        "outputId": "f39766cf-fa66-46d1-b9d2-2311735921d6"
      },
      "execution_count": 35,
      "outputs": [
        {
          "output_type": "stream",
          "name": "stdout",
          "text": [
            "There are 11 combinations left to train.\n"
          ]
        }
      ]
    },
    {
      "cell_type": "code",
      "source": [
        "# initialize an empty list to store the results\n",
        "results = []\n",
        "\n",
        "# record the start time for model training process\n",
        "start_time = time.time()\n",
        "\n",
        "# Loop throught each combinations of hyperparameters\n",
        "for params in all_combinations:\n",
        "\n",
        "  # Select the appropriate word vector based on vectorization parameter\n",
        "  if params['vectorization']== 'cbow':\n",
        "    matrix_train = matrix_train_cbow.copy()\n",
        "    matrix_test = matrix_test_cbow.copy()\n",
        "  elif params['vectorization']=='sg':\n",
        "    matrix_train = matrix_train_sg.copy()\n",
        "    matrix_test = matrix_test_sg.copy()\n",
        "\n",
        "  # Train the neural network with the given parameters\n",
        "  train_losses, test_losses, best_epoch = train_nn(matrix_train, matrix_test, params,\n",
        "                                                   hidden_size = params.get('hidden_size',32),\n",
        "                                                   input_size = params.get('input_size',300),\n",
        "                                                   output_size = params.get('putput_size',1))\n",
        "\n",
        "  # Append the training results to the results list\n",
        "  results.append({\n",
        "      'params':params,\n",
        "      'train_losses':train_losses,\n",
        "      'test_losses' : test_losses,\n",
        "      'best_epoch' : best_epoch\n",
        "  })\n",
        "\n",
        "# record duration for training\n",
        "duration = time.time()-start_time\n",
        "\n",
        "print(f\" Model training is completed. Elapsed time is {duration} secs\")\n",
        "\n",
        "print(results)\n"
      ],
      "metadata": {
        "id": "3dGVkXlL9n-R",
        "colab": {
          "base_uri": "https://localhost:8080/"
        },
        "outputId": "3839663a-badd-46df-a5b9-fe372b3c7fd4"
      },
      "execution_count": 36,
      "outputs": [
        {
          "output_type": "stream",
          "name": "stderr",
          "text": [
            "\r  0%|          | 0/500 [00:00<?, ?it/s]"
          ]
        },
        {
          "output_type": "stream",
          "name": "stdout",
          "text": [
            "Training neural network ... Epoch 0/499\n"
          ]
        },
        {
          "output_type": "stream",
          "name": "stderr",
          "text": [
            "\r  0%|          | 1/500 [00:08<1:09:58,  8.41s/it]"
          ]
        },
        {
          "output_type": "stream",
          "name": "stdout",
          "text": [
            "Training neural network ... Epoch 1/499\n",
            "Best test loss epoch: 0\n"
          ]
        },
        {
          "output_type": "stream",
          "name": "stderr",
          "text": [
            "\r  0%|          | 2/500 [00:14<58:31,  7.05s/it]  "
          ]
        },
        {
          "output_type": "stream",
          "name": "stdout",
          "text": [
            "Training neural network ... Epoch 2/499\n",
            "Best test loss epoch: 1\n"
          ]
        },
        {
          "output_type": "stream",
          "name": "stderr",
          "text": [
            "\r  1%|          | 3/500 [00:22<1:00:45,  7.34s/it]"
          ]
        },
        {
          "output_type": "stream",
          "name": "stdout",
          "text": [
            "Training neural network ... Epoch 3/499\n",
            "Best test loss epoch: 2\n"
          ]
        },
        {
          "output_type": "stream",
          "name": "stderr",
          "text": [
            "\r  1%|          | 4/500 [00:28<56:33,  6.84s/it]  "
          ]
        },
        {
          "output_type": "stream",
          "name": "stdout",
          "text": [
            "Training neural network ... Epoch 4/499\n",
            "Best test loss epoch: 3\n"
          ]
        },
        {
          "output_type": "stream",
          "name": "stderr",
          "text": [
            "\r  1%|          | 5/500 [00:35<58:25,  7.08s/it]"
          ]
        },
        {
          "output_type": "stream",
          "name": "stdout",
          "text": [
            "Training neural network ... Epoch 5/499\n",
            "Best test loss epoch: 4\n"
          ]
        },
        {
          "output_type": "stream",
          "name": "stderr",
          "text": [
            "\r  1%|          | 6/500 [00:42<55:54,  6.79s/it]"
          ]
        },
        {
          "output_type": "stream",
          "name": "stdout",
          "text": [
            "Training neural network ... Epoch 6/499\n",
            "Best test loss epoch: 5\n"
          ]
        },
        {
          "output_type": "stream",
          "name": "stderr",
          "text": [
            "\r  1%|▏         | 7/500 [00:49<57:32,  7.00s/it]"
          ]
        },
        {
          "output_type": "stream",
          "name": "stdout",
          "text": [
            "Training neural network ... Epoch 7/499\n",
            "Best test loss epoch: 6\n"
          ]
        },
        {
          "output_type": "stream",
          "name": "stderr",
          "text": [
            "\r  2%|▏         | 8/500 [00:56<58:02,  7.08s/it]"
          ]
        },
        {
          "output_type": "stream",
          "name": "stdout",
          "text": [
            "Training neural network ... Epoch 8/499\n",
            "Best test loss epoch: 7\n"
          ]
        },
        {
          "output_type": "stream",
          "name": "stderr",
          "text": [
            "\r  2%|▏         | 9/500 [01:04<59:24,  7.26s/it]"
          ]
        },
        {
          "output_type": "stream",
          "name": "stdout",
          "text": [
            "Training neural network ... Epoch 9/499\n",
            "Best test loss epoch: 8\n"
          ]
        },
        {
          "output_type": "stream",
          "name": "stderr",
          "text": [
            "\r  2%|▏         | 10/500 [01:10<56:59,  6.98s/it]"
          ]
        },
        {
          "output_type": "stream",
          "name": "stdout",
          "text": [
            "Training neural network ... Epoch 10/499\n",
            "Best test loss epoch: 9\n"
          ]
        },
        {
          "output_type": "stream",
          "name": "stderr",
          "text": [
            "\r  2%|▏         | 11/500 [01:18<58:13,  7.14s/it]"
          ]
        },
        {
          "output_type": "stream",
          "name": "stdout",
          "text": [
            "Training neural network ... Epoch 11/499\n",
            "Best test loss epoch: 10\n"
          ]
        },
        {
          "output_type": "stream",
          "name": "stderr",
          "text": [
            "\r  2%|▏         | 12/500 [01:24<56:59,  7.01s/it]"
          ]
        },
        {
          "output_type": "stream",
          "name": "stdout",
          "text": [
            "Training neural network ... Epoch 12/499\n",
            "Best test loss epoch: 11\n"
          ]
        },
        {
          "output_type": "stream",
          "name": "stderr",
          "text": [
            "\r  3%|▎         | 13/500 [01:31<57:00,  7.02s/it]"
          ]
        },
        {
          "output_type": "stream",
          "name": "stdout",
          "text": [
            "Training neural network ... Epoch 13/499\n",
            "Best test loss epoch: 12\n"
          ]
        },
        {
          "output_type": "stream",
          "name": "stderr",
          "text": [
            "\r  3%|▎         | 14/500 [01:38<55:51,  6.90s/it]"
          ]
        },
        {
          "output_type": "stream",
          "name": "stdout",
          "text": [
            "Training neural network ... Epoch 14/499\n",
            "Best test loss epoch: 13\n"
          ]
        },
        {
          "output_type": "stream",
          "name": "stderr",
          "text": [
            "\r  3%|▎         | 15/500 [01:45<55:55,  6.92s/it]"
          ]
        },
        {
          "output_type": "stream",
          "name": "stdout",
          "text": [
            "Training neural network ... Epoch 15/499\n",
            "Best test loss epoch: 14\n"
          ]
        },
        {
          "output_type": "stream",
          "name": "stderr",
          "text": [
            "\r  3%|▎         | 16/500 [01:52<55:33,  6.89s/it]"
          ]
        },
        {
          "output_type": "stream",
          "name": "stdout",
          "text": [
            "Training neural network ... Epoch 16/499\n",
            "Best test loss epoch: 15\n"
          ]
        },
        {
          "output_type": "stream",
          "name": "stderr",
          "text": [
            "\r  3%|▎         | 17/500 [01:58<54:45,  6.80s/it]"
          ]
        },
        {
          "output_type": "stream",
          "name": "stdout",
          "text": [
            "Training neural network ... Epoch 17/499\n",
            "Best test loss epoch: 16\n"
          ]
        },
        {
          "output_type": "stream",
          "name": "stderr",
          "text": [
            "\r  4%|▎         | 18/500 [02:04<52:23,  6.52s/it]"
          ]
        },
        {
          "output_type": "stream",
          "name": "stdout",
          "text": [
            "Training neural network ... Epoch 18/499\n",
            "Best test loss epoch: 17\n"
          ]
        },
        {
          "output_type": "stream",
          "name": "stderr",
          "text": [
            "\r  4%|▍         | 19/500 [02:12<54:31,  6.80s/it]"
          ]
        },
        {
          "output_type": "stream",
          "name": "stdout",
          "text": [
            "Training neural network ... Epoch 19/499\n",
            "Best test loss epoch: 18\n"
          ]
        },
        {
          "output_type": "stream",
          "name": "stderr",
          "text": [
            "\r  4%|▍         | 20/500 [02:18<53:36,  6.70s/it]"
          ]
        },
        {
          "output_type": "stream",
          "name": "stdout",
          "text": [
            "Training neural network ... Epoch 20/499\n",
            "Best test loss epoch: 19\n"
          ]
        },
        {
          "output_type": "stream",
          "name": "stderr",
          "text": [
            "\r  4%|▍         | 21/500 [02:26<55:30,  6.95s/it]"
          ]
        },
        {
          "output_type": "stream",
          "name": "stdout",
          "text": [
            "Training neural network ... Epoch 21/499\n",
            "Best test loss epoch: 20\n"
          ]
        },
        {
          "output_type": "stream",
          "name": "stderr",
          "text": [
            "\r  4%|▍         | 22/500 [02:33<55:24,  6.95s/it]"
          ]
        },
        {
          "output_type": "stream",
          "name": "stdout",
          "text": [
            "Training neural network ... Epoch 22/499\n",
            "Best test loss epoch: 21\n"
          ]
        },
        {
          "output_type": "stream",
          "name": "stderr",
          "text": [
            "\r  5%|▍         | 23/500 [02:39<54:47,  6.89s/it]"
          ]
        },
        {
          "output_type": "stream",
          "name": "stdout",
          "text": [
            "Training neural network ... Epoch 23/499\n",
            "Best test loss epoch: 22\n"
          ]
        },
        {
          "output_type": "stream",
          "name": "stderr",
          "text": [
            "\r  5%|▍         | 24/500 [02:47<55:09,  6.95s/it]"
          ]
        },
        {
          "output_type": "stream",
          "name": "stdout",
          "text": [
            "Training neural network ... Epoch 24/499\n",
            "Best test loss epoch: 23\n"
          ]
        },
        {
          "output_type": "stream",
          "name": "stderr",
          "text": [
            "\r  5%|▌         | 25/500 [02:53<54:28,  6.88s/it]"
          ]
        },
        {
          "output_type": "stream",
          "name": "stdout",
          "text": [
            "Training neural network ... Epoch 25/499\n",
            "Best test loss epoch: 24\n"
          ]
        },
        {
          "output_type": "stream",
          "name": "stderr",
          "text": [
            "\r  5%|▌         | 26/500 [03:01<55:11,  6.99s/it]"
          ]
        },
        {
          "output_type": "stream",
          "name": "stdout",
          "text": [
            "Training neural network ... Epoch 26/499\n",
            "Best test loss epoch: 24\n"
          ]
        },
        {
          "output_type": "stream",
          "name": "stderr",
          "text": [
            "\r  5%|▌         | 27/500 [03:07<53:45,  6.82s/it]"
          ]
        },
        {
          "output_type": "stream",
          "name": "stdout",
          "text": [
            "Training neural network ... Epoch 27/499\n",
            "Best test loss epoch: 24\n"
          ]
        },
        {
          "output_type": "stream",
          "name": "stderr",
          "text": [
            "\r  6%|▌         | 28/500 [03:15<55:45,  7.09s/it]"
          ]
        },
        {
          "output_type": "stream",
          "name": "stdout",
          "text": [
            "Training neural network ... Epoch 28/499\n",
            "Best test loss epoch: 27\n"
          ]
        },
        {
          "output_type": "stream",
          "name": "stderr",
          "text": [
            "\r  6%|▌         | 29/500 [03:21<53:40,  6.84s/it]"
          ]
        },
        {
          "output_type": "stream",
          "name": "stdout",
          "text": [
            "Training neural network ... Epoch 29/499\n",
            "Best test loss epoch: 27\n"
          ]
        },
        {
          "output_type": "stream",
          "name": "stderr",
          "text": [
            "\r  6%|▌         | 30/500 [03:29<55:58,  7.15s/it]"
          ]
        },
        {
          "output_type": "stream",
          "name": "stdout",
          "text": [
            "Training neural network ... Epoch 30/499\n",
            "Best test loss epoch: 29\n"
          ]
        },
        {
          "output_type": "stream",
          "name": "stderr",
          "text": [
            "\r  6%|▌         | 31/500 [03:35<53:31,  6.85s/it]"
          ]
        },
        {
          "output_type": "stream",
          "name": "stdout",
          "text": [
            "Training neural network ... Epoch 31/499\n",
            "Best test loss epoch: 29\n"
          ]
        },
        {
          "output_type": "stream",
          "name": "stderr",
          "text": [
            "\r  6%|▋         | 32/500 [03:42<54:07,  6.94s/it]"
          ]
        },
        {
          "output_type": "stream",
          "name": "stdout",
          "text": [
            "Training neural network ... Epoch 32/499\n",
            "Best test loss epoch: 29\n"
          ]
        },
        {
          "output_type": "stream",
          "name": "stderr",
          "text": [
            "\r  7%|▋         | 33/500 [03:48<51:12,  6.58s/it]"
          ]
        },
        {
          "output_type": "stream",
          "name": "stdout",
          "text": [
            "Training neural network ... Epoch 33/499\n",
            "Best test loss epoch: 29\n"
          ]
        },
        {
          "output_type": "stream",
          "name": "stderr",
          "text": [
            "\r  7%|▋         | 33/500 [03:55<55:39,  7.15s/it]"
          ]
        },
        {
          "output_type": "stream",
          "name": "stdout",
          "text": [
            "Early Stopping at epoch:  33\n",
            "Neural network training has finished. Elasped time 235.96\n",
            "Best model saved\n",
            "Best test loss epoch: 29\n"
          ]
        },
        {
          "output_type": "stream",
          "name": "stderr",
          "text": [
            "\n"
          ]
        },
        {
          "output_type": "stream",
          "name": "stdout",
          "text": [
            "Best model metrics: \n",
            "Accuracy: 1.0, Precision: 0.0, Recall: 0.0, F1 0.0\n"
          ]
        },
        {
          "output_type": "stream",
          "name": "stderr",
          "text": [
            "\r  0%|          | 0/500 [00:00<?, ?it/s]"
          ]
        },
        {
          "output_type": "stream",
          "name": "stdout",
          "text": [
            "Training neural network ... Epoch 0/499\n"
          ]
        },
        {
          "output_type": "stream",
          "name": "stderr",
          "text": [
            "\r  0%|          | 1/500 [00:06<51:22,  6.18s/it]"
          ]
        },
        {
          "output_type": "stream",
          "name": "stdout",
          "text": [
            "Training neural network ... Epoch 1/499\n",
            "Best test loss epoch: 0\n"
          ]
        },
        {
          "output_type": "stream",
          "name": "stderr",
          "text": [
            "\r  0%|          | 2/500 [00:13<57:46,  6.96s/it]"
          ]
        },
        {
          "output_type": "stream",
          "name": "stdout",
          "text": [
            "Training neural network ... Epoch 2/499\n",
            "Best test loss epoch: 1\n"
          ]
        },
        {
          "output_type": "stream",
          "name": "stderr",
          "text": [
            "\r  1%|          | 3/500 [00:20<55:44,  6.73s/it]"
          ]
        },
        {
          "output_type": "stream",
          "name": "stdout",
          "text": [
            "Training neural network ... Epoch 3/499\n",
            "Best test loss epoch: 2\n"
          ]
        },
        {
          "output_type": "stream",
          "name": "stderr",
          "text": [
            "\r  1%|          | 4/500 [00:27<56:15,  6.80s/it]"
          ]
        },
        {
          "output_type": "stream",
          "name": "stdout",
          "text": [
            "Training neural network ... Epoch 4/499\n",
            "Best test loss epoch: 3\n"
          ]
        },
        {
          "output_type": "stream",
          "name": "stderr",
          "text": [
            "\r  1%|          | 5/500 [00:33<54:18,  6.58s/it]"
          ]
        },
        {
          "output_type": "stream",
          "name": "stdout",
          "text": [
            "Training neural network ... Epoch 5/499\n",
            "Best test loss epoch: 4\n"
          ]
        },
        {
          "output_type": "stream",
          "name": "stderr",
          "text": [
            "\r  1%|          | 6/500 [00:40<55:15,  6.71s/it]"
          ]
        },
        {
          "output_type": "stream",
          "name": "stdout",
          "text": [
            "Training neural network ... Epoch 6/499\n",
            "Best test loss epoch: 5\n"
          ]
        },
        {
          "output_type": "stream",
          "name": "stderr",
          "text": [
            "\r  1%|▏         | 7/500 [00:46<53:53,  6.56s/it]"
          ]
        },
        {
          "output_type": "stream",
          "name": "stdout",
          "text": [
            "Training neural network ... Epoch 7/499\n",
            "Best test loss epoch: 6\n"
          ]
        },
        {
          "output_type": "stream",
          "name": "stderr",
          "text": [
            "\r  2%|▏         | 8/500 [00:53<55:57,  6.82s/it]"
          ]
        },
        {
          "output_type": "stream",
          "name": "stdout",
          "text": [
            "Training neural network ... Epoch 8/499\n",
            "Best test loss epoch: 7\n"
          ]
        },
        {
          "output_type": "stream",
          "name": "stderr",
          "text": [
            "\r  2%|▏         | 9/500 [01:00<55:46,  6.82s/it]"
          ]
        },
        {
          "output_type": "stream",
          "name": "stdout",
          "text": [
            "Training neural network ... Epoch 9/499\n",
            "Best test loss epoch: 8\n"
          ]
        },
        {
          "output_type": "stream",
          "name": "stderr",
          "text": [
            "\r  2%|▏         | 10/500 [01:07<55:19,  6.77s/it]"
          ]
        },
        {
          "output_type": "stream",
          "name": "stdout",
          "text": [
            "Training neural network ... Epoch 10/499\n",
            "Best test loss epoch: 9\n"
          ]
        },
        {
          "output_type": "stream",
          "name": "stderr",
          "text": [
            "\r  2%|▏         | 11/500 [01:13<52:39,  6.46s/it]"
          ]
        },
        {
          "output_type": "stream",
          "name": "stdout",
          "text": [
            "Training neural network ... Epoch 11/499\n",
            "Best test loss epoch: 10\n"
          ]
        },
        {
          "output_type": "stream",
          "name": "stderr",
          "text": [
            "\r  2%|▏         | 12/500 [01:20<54:12,  6.66s/it]"
          ]
        },
        {
          "output_type": "stream",
          "name": "stdout",
          "text": [
            "Training neural network ... Epoch 12/499\n",
            "Best test loss epoch: 11\n"
          ]
        },
        {
          "output_type": "stream",
          "name": "stderr",
          "text": [
            "\r  3%|▎         | 13/500 [01:26<52:03,  6.41s/it]"
          ]
        },
        {
          "output_type": "stream",
          "name": "stdout",
          "text": [
            "Training neural network ... Epoch 13/499\n",
            "Best test loss epoch: 12\n"
          ]
        },
        {
          "output_type": "stream",
          "name": "stderr",
          "text": [
            "\r  3%|▎         | 14/500 [01:33<54:41,  6.75s/it]"
          ]
        },
        {
          "output_type": "stream",
          "name": "stdout",
          "text": [
            "Training neural network ... Epoch 14/499\n",
            "Best test loss epoch: 13\n"
          ]
        },
        {
          "output_type": "stream",
          "name": "stderr",
          "text": [
            "\r  3%|▎         | 15/500 [01:39<52:29,  6.49s/it]"
          ]
        },
        {
          "output_type": "stream",
          "name": "stdout",
          "text": [
            "Training neural network ... Epoch 15/499\n",
            "Best test loss epoch: 14\n"
          ]
        },
        {
          "output_type": "stream",
          "name": "stderr",
          "text": [
            "\r  3%|▎         | 16/500 [01:46<54:34,  6.77s/it]"
          ]
        },
        {
          "output_type": "stream",
          "name": "stdout",
          "text": [
            "Training neural network ... Epoch 16/499\n",
            "Best test loss epoch: 15\n"
          ]
        },
        {
          "output_type": "stream",
          "name": "stderr",
          "text": [
            "\r  3%|▎         | 17/500 [01:52<52:11,  6.48s/it]"
          ]
        },
        {
          "output_type": "stream",
          "name": "stdout",
          "text": [
            "Training neural network ... Epoch 17/499\n",
            "Best test loss epoch: 16\n"
          ]
        },
        {
          "output_type": "stream",
          "name": "stderr",
          "text": [
            "\r  4%|▎         | 18/500 [02:00<54:22,  6.77s/it]"
          ]
        },
        {
          "output_type": "stream",
          "name": "stdout",
          "text": [
            "Training neural network ... Epoch 18/499\n",
            "Best test loss epoch: 17\n"
          ]
        },
        {
          "output_type": "stream",
          "name": "stderr",
          "text": [
            "\r  4%|▍         | 19/500 [02:06<52:07,  6.50s/it]"
          ]
        },
        {
          "output_type": "stream",
          "name": "stdout",
          "text": [
            "Training neural network ... Epoch 19/499\n",
            "Best test loss epoch: 18\n"
          ]
        },
        {
          "output_type": "stream",
          "name": "stderr",
          "text": [
            "\r  4%|▍         | 20/500 [02:13<54:18,  6.79s/it]"
          ]
        },
        {
          "output_type": "stream",
          "name": "stdout",
          "text": [
            "Training neural network ... Epoch 20/499\n",
            "Best test loss epoch: 19\n"
          ]
        },
        {
          "output_type": "stream",
          "name": "stderr",
          "text": [
            "\r  4%|▍         | 21/500 [02:19<52:04,  6.52s/it]"
          ]
        },
        {
          "output_type": "stream",
          "name": "stdout",
          "text": [
            "Training neural network ... Epoch 21/499\n",
            "Best test loss epoch: 19\n"
          ]
        },
        {
          "output_type": "stream",
          "name": "stderr",
          "text": [
            "\r  4%|▍         | 22/500 [02:26<54:06,  6.79s/it]"
          ]
        },
        {
          "output_type": "stream",
          "name": "stdout",
          "text": [
            "Training neural network ... Epoch 22/499\n",
            "Best test loss epoch: 21\n"
          ]
        },
        {
          "output_type": "stream",
          "name": "stderr",
          "text": [
            "\r  5%|▍         | 23/500 [02:32<51:48,  6.52s/it]"
          ]
        },
        {
          "output_type": "stream",
          "name": "stdout",
          "text": [
            "Training neural network ... Epoch 23/499\n",
            "Best test loss epoch: 21\n"
          ]
        },
        {
          "output_type": "stream",
          "name": "stderr",
          "text": [
            "\r  5%|▍         | 24/500 [02:40<53:40,  6.77s/it]"
          ]
        },
        {
          "output_type": "stream",
          "name": "stdout",
          "text": [
            "Training neural network ... Epoch 24/499\n",
            "Best test loss epoch: 23\n"
          ]
        },
        {
          "output_type": "stream",
          "name": "stderr",
          "text": [
            "\r  5%|▌         | 25/500 [02:45<51:19,  6.48s/it]"
          ]
        },
        {
          "output_type": "stream",
          "name": "stdout",
          "text": [
            "Training neural network ... Epoch 25/499\n",
            "Best test loss epoch: 23\n"
          ]
        },
        {
          "output_type": "stream",
          "name": "stderr",
          "text": [
            "\r  5%|▌         | 26/500 [02:53<52:59,  6.71s/it]"
          ]
        },
        {
          "output_type": "stream",
          "name": "stdout",
          "text": [
            "Training neural network ... Epoch 26/499\n",
            "Best test loss epoch: 25\n"
          ]
        },
        {
          "output_type": "stream",
          "name": "stderr",
          "text": [
            "\r  5%|▌         | 27/500 [02:58<50:51,  6.45s/it]"
          ]
        },
        {
          "output_type": "stream",
          "name": "stdout",
          "text": [
            "Training neural network ... Epoch 27/499\n",
            "Best test loss epoch: 25\n"
          ]
        },
        {
          "output_type": "stream",
          "name": "stderr",
          "text": [
            "\r  6%|▌         | 28/500 [03:06<52:24,  6.66s/it]"
          ]
        },
        {
          "output_type": "stream",
          "name": "stdout",
          "text": [
            "Training neural network ... Epoch 28/499\n",
            "Best test loss epoch: 25\n"
          ]
        },
        {
          "output_type": "stream",
          "name": "stderr",
          "text": [
            "\r  6%|▌         | 29/500 [03:11<50:06,  6.38s/it]"
          ]
        },
        {
          "output_type": "stream",
          "name": "stdout",
          "text": [
            "Training neural network ... Epoch 29/499\n",
            "Best test loss epoch: 25\n"
          ]
        },
        {
          "output_type": "stream",
          "name": "stderr",
          "text": [
            "\r  6%|▌         | 30/500 [03:18<51:46,  6.61s/it]"
          ]
        },
        {
          "output_type": "stream",
          "name": "stdout",
          "text": [
            "Training neural network ... Epoch 30/499\n",
            "Best test loss epoch: 25\n"
          ]
        },
        {
          "output_type": "stream",
          "name": "stderr",
          "text": [
            "\r  6%|▌         | 31/500 [03:24<49:44,  6.36s/it]"
          ]
        },
        {
          "output_type": "stream",
          "name": "stdout",
          "text": [
            "Training neural network ... Epoch 31/499\n",
            "Best test loss epoch: 25\n"
          ]
        },
        {
          "output_type": "stream",
          "name": "stderr",
          "text": [
            "\r  6%|▋         | 32/500 [03:31<51:32,  6.61s/it]"
          ]
        },
        {
          "output_type": "stream",
          "name": "stdout",
          "text": [
            "Training neural network ... Epoch 32/499\n",
            "Best test loss epoch: 31\n"
          ]
        },
        {
          "output_type": "stream",
          "name": "stderr",
          "text": [
            "\r  7%|▋         | 33/500 [03:37<49:39,  6.38s/it]"
          ]
        },
        {
          "output_type": "stream",
          "name": "stdout",
          "text": [
            "Training neural network ... Epoch 33/499\n",
            "Best test loss epoch: 31\n"
          ]
        },
        {
          "output_type": "stream",
          "name": "stderr",
          "text": [
            "\r  7%|▋         | 34/500 [03:45<52:34,  6.77s/it]"
          ]
        },
        {
          "output_type": "stream",
          "name": "stdout",
          "text": [
            "Training neural network ... Epoch 34/499\n",
            "Best test loss epoch: 31\n"
          ]
        },
        {
          "output_type": "stream",
          "name": "stderr",
          "text": [
            "\r  7%|▋         | 35/500 [03:51<50:32,  6.52s/it]"
          ]
        },
        {
          "output_type": "stream",
          "name": "stdout",
          "text": [
            "Training neural network ... Epoch 35/499\n",
            "Best test loss epoch: 31\n"
          ]
        },
        {
          "output_type": "stream",
          "name": "stderr",
          "text": [
            "\r  7%|▋         | 36/500 [03:59<53:22,  6.90s/it]"
          ]
        },
        {
          "output_type": "stream",
          "name": "stdout",
          "text": [
            "Training neural network ... Epoch 36/499\n",
            "Best test loss epoch: 35\n"
          ]
        },
        {
          "output_type": "stream",
          "name": "stderr",
          "text": [
            "\r  7%|▋         | 36/500 [04:05<52:39,  6.81s/it]"
          ]
        },
        {
          "output_type": "stream",
          "name": "stdout",
          "text": [
            "Early Stopping at epoch:  36\n",
            "Neural network training has finished. Elasped time 245.14\n",
            "Best model saved\n",
            "Best test loss epoch: 36\n"
          ]
        },
        {
          "output_type": "stream",
          "name": "stderr",
          "text": [
            "\n"
          ]
        },
        {
          "output_type": "stream",
          "name": "stdout",
          "text": [
            "Best model metrics: \n",
            "Accuracy: 1.0, Precision: 0.0, Recall: 0.0, F1 0.0\n"
          ]
        },
        {
          "output_type": "stream",
          "name": "stderr",
          "text": [
            "\r  0%|          | 0/500 [00:00<?, ?it/s]"
          ]
        },
        {
          "output_type": "stream",
          "name": "stdout",
          "text": [
            "Training neural network ... Epoch 0/499\n"
          ]
        },
        {
          "output_type": "stream",
          "name": "stderr",
          "text": [
            "\r  0%|          | 1/500 [00:07<1:04:35,  7.77s/it]"
          ]
        },
        {
          "output_type": "stream",
          "name": "stdout",
          "text": [
            "Training neural network ... Epoch 1/499\n",
            "Best test loss epoch: 0\n"
          ]
        },
        {
          "output_type": "stream",
          "name": "stderr",
          "text": [
            "\r  0%|          | 2/500 [00:13<55:07,  6.64s/it]  "
          ]
        },
        {
          "output_type": "stream",
          "name": "stdout",
          "text": [
            "Training neural network ... Epoch 2/499\n",
            "Best test loss epoch: 1\n"
          ]
        },
        {
          "output_type": "stream",
          "name": "stderr",
          "text": [
            "\r  1%|          | 3/500 [00:21<59:33,  7.19s/it]"
          ]
        },
        {
          "output_type": "stream",
          "name": "stdout",
          "text": [
            "Training neural network ... Epoch 3/499\n",
            "Best test loss epoch: 2\n"
          ]
        },
        {
          "output_type": "stream",
          "name": "stderr",
          "text": [
            "\r  1%|          | 4/500 [00:27<54:47,  6.63s/it]"
          ]
        },
        {
          "output_type": "stream",
          "name": "stdout",
          "text": [
            "Training neural network ... Epoch 4/499\n",
            "Best test loss epoch: 3\n"
          ]
        },
        {
          "output_type": "stream",
          "name": "stderr",
          "text": [
            "\r  1%|          | 5/500 [00:34<56:44,  6.88s/it]"
          ]
        },
        {
          "output_type": "stream",
          "name": "stdout",
          "text": [
            "Training neural network ... Epoch 5/499\n",
            "Best test loss epoch: 4\n"
          ]
        },
        {
          "output_type": "stream",
          "name": "stderr",
          "text": [
            "\r  1%|          | 6/500 [00:40<53:33,  6.51s/it]"
          ]
        },
        {
          "output_type": "stream",
          "name": "stdout",
          "text": [
            "Training neural network ... Epoch 6/499\n",
            "Best test loss epoch: 5\n"
          ]
        },
        {
          "output_type": "stream",
          "name": "stderr",
          "text": [
            "\r  1%|▏         | 7/500 [00:48<56:52,  6.92s/it]"
          ]
        },
        {
          "output_type": "stream",
          "name": "stdout",
          "text": [
            "Training neural network ... Epoch 7/499\n",
            "Best test loss epoch: 6\n"
          ]
        },
        {
          "output_type": "stream",
          "name": "stderr",
          "text": [
            "\r  2%|▏         | 8/500 [00:54<54:44,  6.68s/it]"
          ]
        },
        {
          "output_type": "stream",
          "name": "stdout",
          "text": [
            "Training neural network ... Epoch 8/499\n",
            "Best test loss epoch: 7\n"
          ]
        },
        {
          "output_type": "stream",
          "name": "stderr",
          "text": [
            "\r  2%|▏         | 9/500 [01:01<57:01,  6.97s/it]"
          ]
        },
        {
          "output_type": "stream",
          "name": "stdout",
          "text": [
            "Training neural network ... Epoch 9/499\n",
            "Best test loss epoch: 8\n"
          ]
        },
        {
          "output_type": "stream",
          "name": "stderr",
          "text": [
            "\r  2%|▏         | 10/500 [01:08<55:06,  6.75s/it]"
          ]
        },
        {
          "output_type": "stream",
          "name": "stdout",
          "text": [
            "Training neural network ... Epoch 10/499\n",
            "Best test loss epoch: 9\n"
          ]
        },
        {
          "output_type": "stream",
          "name": "stderr",
          "text": [
            "\r  2%|▏         | 11/500 [01:15<57:31,  7.06s/it]"
          ]
        },
        {
          "output_type": "stream",
          "name": "stdout",
          "text": [
            "Training neural network ... Epoch 11/499\n",
            "Best test loss epoch: 10\n"
          ]
        },
        {
          "output_type": "stream",
          "name": "stderr",
          "text": [
            "\r  2%|▏         | 12/500 [01:22<55:29,  6.82s/it]"
          ]
        },
        {
          "output_type": "stream",
          "name": "stdout",
          "text": [
            "Training neural network ... Epoch 12/499\n",
            "Best test loss epoch: 11\n"
          ]
        },
        {
          "output_type": "stream",
          "name": "stderr",
          "text": [
            "\r  3%|▎         | 13/500 [01:29<57:20,  7.06s/it]"
          ]
        },
        {
          "output_type": "stream",
          "name": "stdout",
          "text": [
            "Training neural network ... Epoch 13/499\n",
            "Best test loss epoch: 12\n"
          ]
        },
        {
          "output_type": "stream",
          "name": "stderr",
          "text": [
            "\r  3%|▎         | 14/500 [01:36<55:59,  6.91s/it]"
          ]
        },
        {
          "output_type": "stream",
          "name": "stdout",
          "text": [
            "Training neural network ... Epoch 14/499\n",
            "Best test loss epoch: 13\n"
          ]
        },
        {
          "output_type": "stream",
          "name": "stderr",
          "text": [
            "\r  3%|▎         | 15/500 [01:43<57:06,  7.06s/it]"
          ]
        },
        {
          "output_type": "stream",
          "name": "stdout",
          "text": [
            "Training neural network ... Epoch 15/499\n",
            "Best test loss epoch: 14\n"
          ]
        },
        {
          "output_type": "stream",
          "name": "stderr",
          "text": [
            "\r  3%|▎         | 16/500 [01:50<56:28,  7.00s/it]"
          ]
        },
        {
          "output_type": "stream",
          "name": "stdout",
          "text": [
            "Training neural network ... Epoch 16/499\n",
            "Best test loss epoch: 14\n"
          ]
        },
        {
          "output_type": "stream",
          "name": "stderr",
          "text": [
            "\r  3%|▎         | 17/500 [01:57<56:59,  7.08s/it]"
          ]
        },
        {
          "output_type": "stream",
          "name": "stdout",
          "text": [
            "Training neural network ... Epoch 17/499\n",
            "Best test loss epoch: 14\n"
          ]
        },
        {
          "output_type": "stream",
          "name": "stderr",
          "text": [
            "\r  4%|▎         | 18/500 [02:04<56:22,  7.02s/it]"
          ]
        },
        {
          "output_type": "stream",
          "name": "stdout",
          "text": [
            "Training neural network ... Epoch 18/499\n",
            "Best test loss epoch: 17\n"
          ]
        },
        {
          "output_type": "stream",
          "name": "stderr",
          "text": [
            "\r  4%|▍         | 19/500 [02:11<56:01,  6.99s/it]"
          ]
        },
        {
          "output_type": "stream",
          "name": "stdout",
          "text": [
            "Training neural network ... Epoch 19/499\n",
            "Best test loss epoch: 17\n"
          ]
        },
        {
          "output_type": "stream",
          "name": "stderr",
          "text": [
            "\r  4%|▍         | 20/500 [02:18<56:13,  7.03s/it]"
          ]
        },
        {
          "output_type": "stream",
          "name": "stdout",
          "text": [
            "Training neural network ... Epoch 20/499\n",
            "Best test loss epoch: 17\n"
          ]
        },
        {
          "output_type": "stream",
          "name": "stderr",
          "text": [
            "\r  4%|▍         | 21/500 [02:25<55:32,  6.96s/it]"
          ]
        },
        {
          "output_type": "stream",
          "name": "stdout",
          "text": [
            "Training neural network ... Epoch 21/499\n",
            "Best test loss epoch: 17\n"
          ]
        },
        {
          "output_type": "stream",
          "name": "stderr",
          "text": [
            "\r  4%|▍         | 22/500 [02:32<56:25,  7.08s/it]"
          ]
        },
        {
          "output_type": "stream",
          "name": "stdout",
          "text": [
            "Training neural network ... Epoch 22/499\n",
            "Best test loss epoch: 21\n"
          ]
        },
        {
          "output_type": "stream",
          "name": "stderr",
          "text": [
            "\r  5%|▍         | 23/500 [02:39<54:24,  6.84s/it]"
          ]
        },
        {
          "output_type": "stream",
          "name": "stdout",
          "text": [
            "Training neural network ... Epoch 23/499\n",
            "Best test loss epoch: 22\n"
          ]
        },
        {
          "output_type": "stream",
          "name": "stderr",
          "text": [
            "\r  5%|▍         | 24/500 [02:46<55:59,  7.06s/it]"
          ]
        },
        {
          "output_type": "stream",
          "name": "stdout",
          "text": [
            "Training neural network ... Epoch 24/499\n",
            "Best test loss epoch: 22\n"
          ]
        },
        {
          "output_type": "stream",
          "name": "stderr",
          "text": [
            "\r  5%|▌         | 25/500 [02:53<54:02,  6.83s/it]"
          ]
        },
        {
          "output_type": "stream",
          "name": "stdout",
          "text": [
            "Training neural network ... Epoch 25/499\n",
            "Best test loss epoch: 22\n"
          ]
        },
        {
          "output_type": "stream",
          "name": "stderr",
          "text": [
            "\r  5%|▌         | 26/500 [03:00<56:26,  7.14s/it]"
          ]
        },
        {
          "output_type": "stream",
          "name": "stdout",
          "text": [
            "Training neural network ... Epoch 26/499\n",
            "Best test loss epoch: 22\n"
          ]
        },
        {
          "output_type": "stream",
          "name": "stderr",
          "text": [
            "\r  5%|▌         | 27/500 [03:07<54:14,  6.88s/it]"
          ]
        },
        {
          "output_type": "stream",
          "name": "stdout",
          "text": [
            "Training neural network ... Epoch 27/499\n",
            "Best test loss epoch: 22\n"
          ]
        },
        {
          "output_type": "stream",
          "name": "stderr",
          "text": [
            "\r  6%|▌         | 28/500 [03:14<55:54,  7.11s/it]"
          ]
        },
        {
          "output_type": "stream",
          "name": "stdout",
          "text": [
            "Training neural network ... Epoch 28/499\n",
            "Best test loss epoch: 22\n"
          ]
        },
        {
          "output_type": "stream",
          "name": "stderr",
          "text": [
            "\r  6%|▌         | 28/500 [03:21<56:30,  7.18s/it]"
          ]
        },
        {
          "output_type": "stream",
          "name": "stdout",
          "text": [
            "Early Stopping at epoch:  28\n",
            "Neural network training has finished. Elasped time 201.11\n",
            "Best model saved\n",
            "Best test loss epoch: 22\n"
          ]
        },
        {
          "output_type": "stream",
          "name": "stderr",
          "text": [
            "\n"
          ]
        },
        {
          "output_type": "stream",
          "name": "stdout",
          "text": [
            "Best model metrics: \n",
            "Accuracy: 1.0, Precision: 0.0, Recall: 0.0, F1 0.0\n"
          ]
        },
        {
          "output_type": "stream",
          "name": "stderr",
          "text": [
            "\r  0%|          | 0/500 [00:00<?, ?it/s]"
          ]
        },
        {
          "output_type": "stream",
          "name": "stdout",
          "text": [
            "Training neural network ... Epoch 0/499\n"
          ]
        },
        {
          "output_type": "stream",
          "name": "stderr",
          "text": [
            "\r  0%|          | 1/500 [00:07<1:02:39,  7.53s/it]"
          ]
        },
        {
          "output_type": "stream",
          "name": "stdout",
          "text": [
            "Training neural network ... Epoch 1/499\n",
            "Best test loss epoch: 0\n"
          ]
        },
        {
          "output_type": "stream",
          "name": "stderr",
          "text": [
            "\r  0%|          | 2/500 [00:14<59:01,  7.11s/it]  "
          ]
        },
        {
          "output_type": "stream",
          "name": "stdout",
          "text": [
            "Training neural network ... Epoch 2/499\n",
            "Best test loss epoch: 1\n"
          ]
        },
        {
          "output_type": "stream",
          "name": "stderr",
          "text": [
            "\r  1%|          | 3/500 [00:21<59:05,  7.13s/it]"
          ]
        },
        {
          "output_type": "stream",
          "name": "stdout",
          "text": [
            "Training neural network ... Epoch 3/499\n",
            "Best test loss epoch: 2\n"
          ]
        },
        {
          "output_type": "stream",
          "name": "stderr",
          "text": [
            "\r  1%|          | 4/500 [00:28<58:43,  7.10s/it]"
          ]
        },
        {
          "output_type": "stream",
          "name": "stdout",
          "text": [
            "Training neural network ... Epoch 4/499\n",
            "Best test loss epoch: 3\n"
          ]
        },
        {
          "output_type": "stream",
          "name": "stderr",
          "text": [
            "\r  1%|          | 5/500 [00:35<57:47,  7.01s/it]"
          ]
        },
        {
          "output_type": "stream",
          "name": "stdout",
          "text": [
            "Training neural network ... Epoch 5/499\n",
            "Best test loss epoch: 4\n"
          ]
        },
        {
          "output_type": "stream",
          "name": "stderr",
          "text": [
            "\r  1%|          | 6/500 [00:42<58:36,  7.12s/it]"
          ]
        },
        {
          "output_type": "stream",
          "name": "stdout",
          "text": [
            "Training neural network ... Epoch 6/499\n",
            "Best test loss epoch: 5\n"
          ]
        },
        {
          "output_type": "stream",
          "name": "stderr",
          "text": [
            "\r  1%|▏         | 7/500 [00:49<56:57,  6.93s/it]"
          ]
        },
        {
          "output_type": "stream",
          "name": "stdout",
          "text": [
            "Training neural network ... Epoch 7/499\n",
            "Best test loss epoch: 6\n"
          ]
        },
        {
          "output_type": "stream",
          "name": "stderr",
          "text": [
            "\r  2%|▏         | 8/500 [00:56<58:34,  7.14s/it]"
          ]
        },
        {
          "output_type": "stream",
          "name": "stdout",
          "text": [
            "Training neural network ... Epoch 8/499\n",
            "Best test loss epoch: 7\n"
          ]
        },
        {
          "output_type": "stream",
          "name": "stderr",
          "text": [
            "\r  2%|▏         | 9/500 [01:03<56:12,  6.87s/it]"
          ]
        },
        {
          "output_type": "stream",
          "name": "stdout",
          "text": [
            "Training neural network ... Epoch 9/499\n",
            "Best test loss epoch: 8\n"
          ]
        },
        {
          "output_type": "stream",
          "name": "stderr",
          "text": [
            "\r  2%|▏         | 10/500 [01:10<57:52,  7.09s/it]"
          ]
        },
        {
          "output_type": "stream",
          "name": "stdout",
          "text": [
            "Training neural network ... Epoch 10/499\n",
            "Best test loss epoch: 9\n"
          ]
        },
        {
          "output_type": "stream",
          "name": "stderr",
          "text": [
            "\r  2%|▏         | 11/500 [01:16<55:38,  6.83s/it]"
          ]
        },
        {
          "output_type": "stream",
          "name": "stdout",
          "text": [
            "Training neural network ... Epoch 11/499\n",
            "Best test loss epoch: 10\n"
          ]
        },
        {
          "output_type": "stream",
          "name": "stderr",
          "text": [
            "\r  2%|▏         | 12/500 [01:24<57:31,  7.07s/it]"
          ]
        },
        {
          "output_type": "stream",
          "name": "stdout",
          "text": [
            "Training neural network ... Epoch 12/499\n",
            "Best test loss epoch: 10\n"
          ]
        },
        {
          "output_type": "stream",
          "name": "stderr",
          "text": [
            "\r  3%|▎         | 13/500 [01:30<55:33,  6.85s/it]"
          ]
        },
        {
          "output_type": "stream",
          "name": "stdout",
          "text": [
            "Training neural network ... Epoch 13/499\n",
            "Best test loss epoch: 10\n"
          ]
        },
        {
          "output_type": "stream",
          "name": "stderr",
          "text": [
            "\r  3%|▎         | 14/500 [01:38<57:09,  7.06s/it]"
          ]
        },
        {
          "output_type": "stream",
          "name": "stdout",
          "text": [
            "Training neural network ... Epoch 14/499\n",
            "Best test loss epoch: 10\n"
          ]
        },
        {
          "output_type": "stream",
          "name": "stderr",
          "text": [
            "\r  3%|▎         | 15/500 [01:44<54:56,  6.80s/it]"
          ]
        },
        {
          "output_type": "stream",
          "name": "stdout",
          "text": [
            "Training neural network ... Epoch 15/499\n",
            "Best test loss epoch: 14\n"
          ]
        },
        {
          "output_type": "stream",
          "name": "stderr",
          "text": [
            "\r  3%|▎         | 16/500 [01:52<57:01,  7.07s/it]"
          ]
        },
        {
          "output_type": "stream",
          "name": "stdout",
          "text": [
            "Training neural network ... Epoch 16/499\n",
            "Best test loss epoch: 14\n"
          ]
        },
        {
          "output_type": "stream",
          "name": "stderr",
          "text": [
            "\r  3%|▎         | 17/500 [01:58<54:33,  6.78s/it]"
          ]
        },
        {
          "output_type": "stream",
          "name": "stdout",
          "text": [
            "Training neural network ... Epoch 17/499\n",
            "Best test loss epoch: 14\n"
          ]
        },
        {
          "output_type": "stream",
          "name": "stderr",
          "text": [
            "\r  4%|▎         | 18/500 [02:06<56:46,  7.07s/it]"
          ]
        },
        {
          "output_type": "stream",
          "name": "stdout",
          "text": [
            "Training neural network ... Epoch 18/499\n",
            "Best test loss epoch: 14\n"
          ]
        },
        {
          "output_type": "stream",
          "name": "stderr",
          "text": [
            "\r  4%|▍         | 19/500 [02:12<54:25,  6.79s/it]"
          ]
        },
        {
          "output_type": "stream",
          "name": "stdout",
          "text": [
            "Training neural network ... Epoch 19/499\n",
            "Best test loss epoch: 14\n"
          ]
        },
        {
          "output_type": "stream",
          "name": "stderr",
          "text": [
            "\r  4%|▍         | 20/500 [02:20<56:33,  7.07s/it]"
          ]
        },
        {
          "output_type": "stream",
          "name": "stdout",
          "text": [
            "Training neural network ... Epoch 20/499\n",
            "Best test loss epoch: 14\n"
          ]
        },
        {
          "output_type": "stream",
          "name": "stderr",
          "text": [
            "\r  4%|▍         | 21/500 [02:26<54:12,  6.79s/it]"
          ]
        },
        {
          "output_type": "stream",
          "name": "stdout",
          "text": [
            "Training neural network ... Epoch 21/499\n",
            "Best test loss epoch: 20\n"
          ]
        },
        {
          "output_type": "stream",
          "name": "stderr",
          "text": [
            "\r  4%|▍         | 22/500 [02:33<56:18,  7.07s/it]"
          ]
        },
        {
          "output_type": "stream",
          "name": "stdout",
          "text": [
            "Training neural network ... Epoch 22/499\n",
            "Best test loss epoch: 20\n"
          ]
        },
        {
          "output_type": "stream",
          "name": "stderr",
          "text": [
            "\r  5%|▍         | 23/500 [02:40<53:59,  6.79s/it]"
          ]
        },
        {
          "output_type": "stream",
          "name": "stdout",
          "text": [
            "Training neural network ... Epoch 23/499\n",
            "Best test loss epoch: 20\n"
          ]
        },
        {
          "output_type": "stream",
          "name": "stderr",
          "text": [
            "\r  5%|▍         | 24/500 [02:47<55:40,  7.02s/it]"
          ]
        },
        {
          "output_type": "stream",
          "name": "stdout",
          "text": [
            "Training neural network ... Epoch 24/499\n",
            "Best test loss epoch: 20\n"
          ]
        },
        {
          "output_type": "stream",
          "name": "stderr",
          "text": [
            "\r  5%|▌         | 25/500 [02:53<53:38,  6.78s/it]"
          ]
        },
        {
          "output_type": "stream",
          "name": "stdout",
          "text": [
            "Training neural network ... Epoch 25/499\n",
            "Best test loss epoch: 24\n"
          ]
        },
        {
          "output_type": "stream",
          "name": "stderr",
          "text": [
            "\r  5%|▌         | 26/500 [03:01<55:53,  7.08s/it]"
          ]
        },
        {
          "output_type": "stream",
          "name": "stdout",
          "text": [
            "Training neural network ... Epoch 26/499\n",
            "Best test loss epoch: 24\n"
          ]
        },
        {
          "output_type": "stream",
          "name": "stderr",
          "text": [
            "\r  5%|▌         | 27/500 [03:07<53:40,  6.81s/it]"
          ]
        },
        {
          "output_type": "stream",
          "name": "stdout",
          "text": [
            "Training neural network ... Epoch 27/499\n",
            "Best test loss epoch: 24\n"
          ]
        },
        {
          "output_type": "stream",
          "name": "stderr",
          "text": [
            "\r  6%|▌         | 28/500 [03:15<55:30,  7.06s/it]"
          ]
        },
        {
          "output_type": "stream",
          "name": "stdout",
          "text": [
            "Training neural network ... Epoch 28/499\n",
            "Best test loss epoch: 24\n"
          ]
        },
        {
          "output_type": "stream",
          "name": "stderr",
          "text": [
            "\r  6%|▌         | 29/500 [03:21<53:17,  6.79s/it]"
          ]
        },
        {
          "output_type": "stream",
          "name": "stdout",
          "text": [
            "Training neural network ... Epoch 29/499\n",
            "Best test loss epoch: 24\n"
          ]
        },
        {
          "output_type": "stream",
          "name": "stderr",
          "text": [
            "\r  6%|▌         | 29/500 [03:29<56:38,  7.22s/it]"
          ]
        },
        {
          "output_type": "stream",
          "name": "stdout",
          "text": [
            "Early Stopping at epoch:  29\n",
            "Neural network training has finished. Elasped time 209.26\n",
            "Best model saved\n",
            "Best test loss epoch: 24\n"
          ]
        },
        {
          "output_type": "stream",
          "name": "stderr",
          "text": [
            "\n"
          ]
        },
        {
          "output_type": "stream",
          "name": "stdout",
          "text": [
            "Best model metrics: \n",
            "Accuracy: 1.0, Precision: 0.0, Recall: 0.0, F1 0.0\n"
          ]
        },
        {
          "output_type": "stream",
          "name": "stderr",
          "text": [
            "\r  0%|          | 0/500 [00:00<?, ?it/s]"
          ]
        },
        {
          "output_type": "stream",
          "name": "stdout",
          "text": [
            "Training neural network ... Epoch 0/499\n"
          ]
        },
        {
          "output_type": "stream",
          "name": "stderr",
          "text": [
            "\r  0%|          | 1/500 [00:07<1:04:34,  7.76s/it]"
          ]
        },
        {
          "output_type": "stream",
          "name": "stdout",
          "text": [
            "Training neural network ... Epoch 1/499\n",
            "Best test loss epoch: 0\n"
          ]
        },
        {
          "output_type": "stream",
          "name": "stderr",
          "text": [
            "\r  0%|          | 2/500 [00:13<56:48,  6.85s/it]  "
          ]
        },
        {
          "output_type": "stream",
          "name": "stdout",
          "text": [
            "Training neural network ... Epoch 2/499\n",
            "Best test loss epoch: 1\n"
          ]
        },
        {
          "output_type": "stream",
          "name": "stderr",
          "text": [
            "\r  1%|          | 3/500 [00:21<1:00:53,  7.35s/it]"
          ]
        },
        {
          "output_type": "stream",
          "name": "stdout",
          "text": [
            "Training neural network ... Epoch 3/499\n",
            "Best test loss epoch: 2\n"
          ]
        },
        {
          "output_type": "stream",
          "name": "stderr",
          "text": [
            "\r  1%|          | 4/500 [00:28<56:50,  6.88s/it]  "
          ]
        },
        {
          "output_type": "stream",
          "name": "stdout",
          "text": [
            "Training neural network ... Epoch 4/499\n",
            "Best test loss epoch: 3\n"
          ]
        },
        {
          "output_type": "stream",
          "name": "stderr",
          "text": [
            "\r  1%|          | 5/500 [00:36<1:00:31,  7.34s/it]"
          ]
        },
        {
          "output_type": "stream",
          "name": "stdout",
          "text": [
            "Training neural network ... Epoch 5/499\n",
            "Best test loss epoch: 4\n"
          ]
        },
        {
          "output_type": "stream",
          "name": "stderr",
          "text": [
            "\r  1%|          | 6/500 [00:42<58:08,  7.06s/it]  "
          ]
        },
        {
          "output_type": "stream",
          "name": "stdout",
          "text": [
            "Training neural network ... Epoch 6/499\n",
            "Best test loss epoch: 5\n"
          ]
        },
        {
          "output_type": "stream",
          "name": "stderr",
          "text": [
            "\r  1%|▏         | 7/500 [00:50<1:00:28,  7.36s/it]"
          ]
        },
        {
          "output_type": "stream",
          "name": "stdout",
          "text": [
            "Training neural network ... Epoch 7/499\n",
            "Best test loss epoch: 6\n"
          ]
        },
        {
          "output_type": "stream",
          "name": "stderr",
          "text": [
            "\r  2%|▏         | 8/500 [00:56<57:13,  6.98s/it]  "
          ]
        },
        {
          "output_type": "stream",
          "name": "stdout",
          "text": [
            "Training neural network ... Epoch 8/499\n",
            "Best test loss epoch: 7\n"
          ]
        },
        {
          "output_type": "stream",
          "name": "stderr",
          "text": [
            "\r  2%|▏         | 9/500 [01:04<58:45,  7.18s/it]"
          ]
        },
        {
          "output_type": "stream",
          "name": "stdout",
          "text": [
            "Training neural network ... Epoch 9/499\n",
            "Best test loss epoch: 8\n"
          ]
        },
        {
          "output_type": "stream",
          "name": "stderr",
          "text": [
            "\r  2%|▏         | 10/500 [01:10<56:02,  6.86s/it]"
          ]
        },
        {
          "output_type": "stream",
          "name": "stdout",
          "text": [
            "Training neural network ... Epoch 10/499\n",
            "Best test loss epoch: 9\n"
          ]
        },
        {
          "output_type": "stream",
          "name": "stderr",
          "text": [
            "\r  2%|▏         | 11/500 [01:18<57:52,  7.10s/it]"
          ]
        },
        {
          "output_type": "stream",
          "name": "stdout",
          "text": [
            "Training neural network ... Epoch 11/499\n",
            "Best test loss epoch: 10\n"
          ]
        },
        {
          "output_type": "stream",
          "name": "stderr",
          "text": [
            "\r  2%|▏         | 12/500 [01:24<55:24,  6.81s/it]"
          ]
        },
        {
          "output_type": "stream",
          "name": "stdout",
          "text": [
            "Training neural network ... Epoch 12/499\n",
            "Best test loss epoch: 11\n"
          ]
        },
        {
          "output_type": "stream",
          "name": "stderr",
          "text": [
            "\r  3%|▎         | 13/500 [01:32<57:30,  7.08s/it]"
          ]
        },
        {
          "output_type": "stream",
          "name": "stdout",
          "text": [
            "Training neural network ... Epoch 13/499\n",
            "Best test loss epoch: 11\n"
          ]
        },
        {
          "output_type": "stream",
          "name": "stderr",
          "text": [
            "\r  3%|▎         | 14/500 [01:38<55:51,  6.90s/it]"
          ]
        },
        {
          "output_type": "stream",
          "name": "stdout",
          "text": [
            "Training neural network ... Epoch 14/499\n",
            "Best test loss epoch: 11\n"
          ]
        },
        {
          "output_type": "stream",
          "name": "stderr",
          "text": [
            "\r  3%|▎         | 15/500 [01:45<56:38,  7.01s/it]"
          ]
        },
        {
          "output_type": "stream",
          "name": "stdout",
          "text": [
            "Training neural network ... Epoch 15/499\n",
            "Best test loss epoch: 11\n"
          ]
        },
        {
          "output_type": "stream",
          "name": "stderr",
          "text": [
            "\r  3%|▎         | 16/500 [01:52<55:32,  6.89s/it]"
          ]
        },
        {
          "output_type": "stream",
          "name": "stdout",
          "text": [
            "Training neural network ... Epoch 16/499\n",
            "Best test loss epoch: 15\n"
          ]
        },
        {
          "output_type": "stream",
          "name": "stderr",
          "text": [
            "\r  3%|▎         | 17/500 [01:59<55:41,  6.92s/it]"
          ]
        },
        {
          "output_type": "stream",
          "name": "stdout",
          "text": [
            "Training neural network ... Epoch 17/499\n",
            "Best test loss epoch: 15\n"
          ]
        },
        {
          "output_type": "stream",
          "name": "stderr",
          "text": [
            "\r  4%|▎         | 18/500 [02:06<55:42,  6.93s/it]"
          ]
        },
        {
          "output_type": "stream",
          "name": "stdout",
          "text": [
            "Training neural network ... Epoch 18/499\n",
            "Best test loss epoch: 15\n"
          ]
        },
        {
          "output_type": "stream",
          "name": "stderr",
          "text": [
            "\r  4%|▍         | 19/500 [02:13<55:29,  6.92s/it]"
          ]
        },
        {
          "output_type": "stream",
          "name": "stdout",
          "text": [
            "Training neural network ... Epoch 19/499\n",
            "Best test loss epoch: 15\n"
          ]
        },
        {
          "output_type": "stream",
          "name": "stderr",
          "text": [
            "\r  4%|▍         | 20/500 [02:20<56:32,  7.07s/it]"
          ]
        },
        {
          "output_type": "stream",
          "name": "stdout",
          "text": [
            "Training neural network ... Epoch 20/499\n",
            "Best test loss epoch: 15\n"
          ]
        },
        {
          "output_type": "stream",
          "name": "stderr",
          "text": [
            "\r  4%|▍         | 21/500 [02:27<54:56,  6.88s/it]"
          ]
        },
        {
          "output_type": "stream",
          "name": "stdout",
          "text": [
            "Training neural network ... Epoch 21/499\n",
            "Best test loss epoch: 15\n"
          ]
        },
        {
          "output_type": "stream",
          "name": "stderr",
          "text": [
            "\r  4%|▍         | 22/500 [02:34<56:09,  7.05s/it]"
          ]
        },
        {
          "output_type": "stream",
          "name": "stdout",
          "text": [
            "Training neural network ... Epoch 22/499\n",
            "Best test loss epoch: 15\n"
          ]
        },
        {
          "output_type": "stream",
          "name": "stderr",
          "text": [
            "\r  5%|▍         | 23/500 [02:40<54:13,  6.82s/it]"
          ]
        },
        {
          "output_type": "stream",
          "name": "stdout",
          "text": [
            "Training neural network ... Epoch 23/499\n",
            "Best test loss epoch: 15\n"
          ]
        },
        {
          "output_type": "stream",
          "name": "stderr",
          "text": [
            "\r  5%|▍         | 24/500 [02:48<55:54,  7.05s/it]"
          ]
        },
        {
          "output_type": "stream",
          "name": "stdout",
          "text": [
            "Training neural network ... Epoch 24/499\n",
            "Best test loss epoch: 15\n"
          ]
        },
        {
          "output_type": "stream",
          "name": "stderr",
          "text": [
            "\r  5%|▌         | 25/500 [02:55<54:56,  6.94s/it]"
          ]
        },
        {
          "output_type": "stream",
          "name": "stdout",
          "text": [
            "Training neural network ... Epoch 25/499\n",
            "Best test loss epoch: 15\n"
          ]
        },
        {
          "output_type": "stream",
          "name": "stderr",
          "text": [
            "\r  5%|▌         | 26/500 [03:02<56:24,  7.14s/it]"
          ]
        },
        {
          "output_type": "stream",
          "name": "stdout",
          "text": [
            "Training neural network ... Epoch 26/499\n",
            "Best test loss epoch: 15\n"
          ]
        },
        {
          "output_type": "stream",
          "name": "stderr",
          "text": [
            "\r  5%|▌         | 27/500 [03:09<54:47,  6.95s/it]"
          ]
        },
        {
          "output_type": "stream",
          "name": "stdout",
          "text": [
            "Training neural network ... Epoch 27/499\n",
            "Best test loss epoch: 15\n"
          ]
        },
        {
          "output_type": "stream",
          "name": "stderr",
          "text": [
            "\r  5%|▌         | 27/500 [03:16<57:30,  7.29s/it]"
          ]
        },
        {
          "output_type": "stream",
          "name": "stdout",
          "text": [
            "Early Stopping at epoch:  27\n",
            "Neural network training has finished. Elasped time 196.95\n",
            "Best model saved\n",
            "Best test loss epoch: 15\n"
          ]
        },
        {
          "output_type": "stream",
          "name": "stderr",
          "text": [
            "\n"
          ]
        },
        {
          "output_type": "stream",
          "name": "stdout",
          "text": [
            "Best model metrics: \n",
            "Accuracy: 1.0, Precision: 0.0, Recall: 0.0, F1 0.0\n"
          ]
        },
        {
          "output_type": "stream",
          "name": "stderr",
          "text": [
            "\r  0%|          | 0/500 [00:00<?, ?it/s]"
          ]
        },
        {
          "output_type": "stream",
          "name": "stdout",
          "text": [
            "Training neural network ... Epoch 0/499\n"
          ]
        },
        {
          "output_type": "stream",
          "name": "stderr",
          "text": [
            "\r  0%|          | 1/500 [00:07<1:00:52,  7.32s/it]"
          ]
        },
        {
          "output_type": "stream",
          "name": "stdout",
          "text": [
            "Training neural network ... Epoch 1/499\n",
            "Best test loss epoch: 0\n"
          ]
        },
        {
          "output_type": "stream",
          "name": "stderr",
          "text": [
            "\r  0%|          | 2/500 [00:14<58:36,  7.06s/it]  "
          ]
        },
        {
          "output_type": "stream",
          "name": "stdout",
          "text": [
            "Training neural network ... Epoch 2/499\n",
            "Best test loss epoch: 1\n"
          ]
        },
        {
          "output_type": "stream",
          "name": "stderr",
          "text": [
            "\r  1%|          | 3/500 [00:22<1:01:52,  7.47s/it]"
          ]
        },
        {
          "output_type": "stream",
          "name": "stdout",
          "text": [
            "Training neural network ... Epoch 3/499\n",
            "Best test loss epoch: 2\n"
          ]
        },
        {
          "output_type": "stream",
          "name": "stderr",
          "text": [
            "\r  1%|          | 4/500 [00:28<57:35,  6.97s/it]  "
          ]
        },
        {
          "output_type": "stream",
          "name": "stdout",
          "text": [
            "Training neural network ... Epoch 4/499\n",
            "Best test loss epoch: 3\n"
          ]
        },
        {
          "output_type": "stream",
          "name": "stderr",
          "text": [
            "\r  1%|          | 5/500 [00:36<1:00:20,  7.31s/it]"
          ]
        },
        {
          "output_type": "stream",
          "name": "stdout",
          "text": [
            "Training neural network ... Epoch 5/499\n",
            "Best test loss epoch: 4\n"
          ]
        },
        {
          "output_type": "stream",
          "name": "stderr",
          "text": [
            "\r  1%|          | 6/500 [00:42<57:11,  6.95s/it]  "
          ]
        },
        {
          "output_type": "stream",
          "name": "stdout",
          "text": [
            "Training neural network ... Epoch 6/499\n",
            "Best test loss epoch: 5\n"
          ]
        },
        {
          "output_type": "stream",
          "name": "stderr",
          "text": [
            "\r  1%|▏         | 7/500 [00:50<1:00:06,  7.31s/it]"
          ]
        },
        {
          "output_type": "stream",
          "name": "stdout",
          "text": [
            "Training neural network ... Epoch 7/499\n",
            "Best test loss epoch: 6\n"
          ]
        },
        {
          "output_type": "stream",
          "name": "stderr",
          "text": [
            "\r  2%|▏         | 8/500 [00:56<57:01,  6.95s/it]  "
          ]
        },
        {
          "output_type": "stream",
          "name": "stdout",
          "text": [
            "Training neural network ... Epoch 8/499\n",
            "Best test loss epoch: 7\n"
          ]
        },
        {
          "output_type": "stream",
          "name": "stderr",
          "text": [
            "\r  2%|▏         | 9/500 [01:04<58:41,  7.17s/it]"
          ]
        },
        {
          "output_type": "stream",
          "name": "stdout",
          "text": [
            "Training neural network ... Epoch 9/499\n",
            "Best test loss epoch: 7\n"
          ]
        },
        {
          "output_type": "stream",
          "name": "stderr",
          "text": [
            "\r  2%|▏         | 10/500 [01:10<56:23,  6.91s/it]"
          ]
        },
        {
          "output_type": "stream",
          "name": "stdout",
          "text": [
            "Training neural network ... Epoch 10/499\n",
            "Best test loss epoch: 7\n"
          ]
        },
        {
          "output_type": "stream",
          "name": "stderr",
          "text": [
            "\r  2%|▏         | 11/500 [01:18<58:32,  7.18s/it]"
          ]
        },
        {
          "output_type": "stream",
          "name": "stdout",
          "text": [
            "Training neural network ... Epoch 11/499\n",
            "Best test loss epoch: 10\n"
          ]
        },
        {
          "output_type": "stream",
          "name": "stderr",
          "text": [
            "\r  2%|▏         | 12/500 [01:24<56:07,  6.90s/it]"
          ]
        },
        {
          "output_type": "stream",
          "name": "stdout",
          "text": [
            "Training neural network ... Epoch 12/499\n",
            "Best test loss epoch: 10\n"
          ]
        },
        {
          "output_type": "stream",
          "name": "stderr",
          "text": [
            "\r  3%|▎         | 13/500 [01:32<58:20,  7.19s/it]"
          ]
        },
        {
          "output_type": "stream",
          "name": "stdout",
          "text": [
            "Training neural network ... Epoch 13/499\n",
            "Best test loss epoch: 10\n"
          ]
        },
        {
          "output_type": "stream",
          "name": "stderr",
          "text": [
            "\r  3%|▎         | 14/500 [01:38<55:44,  6.88s/it]"
          ]
        },
        {
          "output_type": "stream",
          "name": "stdout",
          "text": [
            "Training neural network ... Epoch 14/499\n",
            "Best test loss epoch: 10\n"
          ]
        },
        {
          "output_type": "stream",
          "name": "stderr",
          "text": [
            "\r  3%|▎         | 15/500 [01:46<57:54,  7.16s/it]"
          ]
        },
        {
          "output_type": "stream",
          "name": "stdout",
          "text": [
            "Training neural network ... Epoch 15/499\n",
            "Best test loss epoch: 10\n"
          ]
        },
        {
          "output_type": "stream",
          "name": "stderr",
          "text": [
            "\r  3%|▎         | 16/500 [01:52<55:30,  6.88s/it]"
          ]
        },
        {
          "output_type": "stream",
          "name": "stdout",
          "text": [
            "Training neural network ... Epoch 16/499\n",
            "Best test loss epoch: 15\n"
          ]
        },
        {
          "output_type": "stream",
          "name": "stderr",
          "text": [
            "\r  3%|▎         | 17/500 [02:00<57:17,  7.12s/it]"
          ]
        },
        {
          "output_type": "stream",
          "name": "stdout",
          "text": [
            "Training neural network ... Epoch 17/499\n",
            "Best test loss epoch: 15\n"
          ]
        },
        {
          "output_type": "stream",
          "name": "stderr",
          "text": [
            "\r  4%|▎         | 18/500 [02:06<55:07,  6.86s/it]"
          ]
        },
        {
          "output_type": "stream",
          "name": "stdout",
          "text": [
            "Training neural network ... Epoch 18/499\n",
            "Best test loss epoch: 15\n"
          ]
        },
        {
          "output_type": "stream",
          "name": "stderr",
          "text": [
            "\r  4%|▍         | 19/500 [02:14<56:57,  7.11s/it]"
          ]
        },
        {
          "output_type": "stream",
          "name": "stdout",
          "text": [
            "Training neural network ... Epoch 19/499\n",
            "Best test loss epoch: 15\n"
          ]
        },
        {
          "output_type": "stream",
          "name": "stderr",
          "text": [
            "\r  4%|▍         | 20/500 [02:20<54:42,  6.84s/it]"
          ]
        },
        {
          "output_type": "stream",
          "name": "stdout",
          "text": [
            "Training neural network ... Epoch 20/499\n",
            "Best test loss epoch: 15\n"
          ]
        },
        {
          "output_type": "stream",
          "name": "stderr",
          "text": [
            "\r  4%|▍         | 21/500 [02:28<56:35,  7.09s/it]"
          ]
        },
        {
          "output_type": "stream",
          "name": "stdout",
          "text": [
            "Training neural network ... Epoch 21/499\n",
            "Best test loss epoch: 15\n"
          ]
        },
        {
          "output_type": "stream",
          "name": "stderr",
          "text": [
            "\r  4%|▍         | 22/500 [02:34<54:16,  6.81s/it]"
          ]
        },
        {
          "output_type": "stream",
          "name": "stdout",
          "text": [
            "Training neural network ... Epoch 22/499\n",
            "Best test loss epoch: 15\n"
          ]
        },
        {
          "output_type": "stream",
          "name": "stderr",
          "text": [
            "\r  5%|▍         | 23/500 [02:42<56:12,  7.07s/it]"
          ]
        },
        {
          "output_type": "stream",
          "name": "stdout",
          "text": [
            "Training neural network ... Epoch 23/499\n",
            "Best test loss epoch: 15\n"
          ]
        },
        {
          "output_type": "stream",
          "name": "stderr",
          "text": [
            "\r  5%|▍         | 24/500 [02:49<56:36,  7.14s/it]"
          ]
        },
        {
          "output_type": "stream",
          "name": "stdout",
          "text": [
            "Training neural network ... Epoch 24/499\n",
            "Best test loss epoch: 15\n"
          ]
        },
        {
          "output_type": "stream",
          "name": "stderr",
          "text": [
            "\r  5%|▌         | 25/500 [02:57<57:59,  7.32s/it]"
          ]
        },
        {
          "output_type": "stream",
          "name": "stdout",
          "text": [
            "Training neural network ... Epoch 25/499\n",
            "Best test loss epoch: 15\n"
          ]
        },
        {
          "output_type": "stream",
          "name": "stderr",
          "text": [
            "\r  5%|▌         | 26/500 [03:05<59:16,  7.50s/it]"
          ]
        },
        {
          "output_type": "stream",
          "name": "stdout",
          "text": [
            "Training neural network ... Epoch 26/499\n",
            "Best test loss epoch: 15\n"
          ]
        },
        {
          "output_type": "stream",
          "name": "stderr",
          "text": [
            "\r  5%|▌         | 27/500 [03:11<56:56,  7.22s/it]"
          ]
        },
        {
          "output_type": "stream",
          "name": "stdout",
          "text": [
            "Training neural network ... Epoch 27/499\n",
            "Best test loss epoch: 26\n"
          ]
        },
        {
          "output_type": "stream",
          "name": "stderr",
          "text": [
            "\r  6%|▌         | 28/500 [03:19<58:59,  7.50s/it]"
          ]
        },
        {
          "output_type": "stream",
          "name": "stdout",
          "text": [
            "Training neural network ... Epoch 28/499\n",
            "Best test loss epoch: 26\n"
          ]
        },
        {
          "output_type": "stream",
          "name": "stderr",
          "text": [
            "\r  6%|▌         | 28/500 [03:26<58:00,  7.37s/it]"
          ]
        },
        {
          "output_type": "stream",
          "name": "stdout",
          "text": [
            "Early Stopping at epoch:  28\n",
            "Neural network training has finished. Elasped time 206.49\n",
            "Best model saved\n",
            "Best test loss epoch: 26\n"
          ]
        },
        {
          "output_type": "stream",
          "name": "stderr",
          "text": [
            "\n"
          ]
        },
        {
          "output_type": "stream",
          "name": "stdout",
          "text": [
            "Best model metrics: \n",
            "Accuracy: 1.0, Precision: 0.0, Recall: 0.0, F1 0.0\n"
          ]
        },
        {
          "output_type": "stream",
          "name": "stderr",
          "text": [
            "\r  0%|          | 0/500 [00:00<?, ?it/s]"
          ]
        },
        {
          "output_type": "stream",
          "name": "stdout",
          "text": [
            "Training neural network ... Epoch 0/499\n"
          ]
        },
        {
          "output_type": "stream",
          "name": "stderr",
          "text": [
            "\r  0%|          | 1/500 [00:06<58:02,  6.98s/it]"
          ]
        },
        {
          "output_type": "stream",
          "name": "stdout",
          "text": [
            "Training neural network ... Epoch 1/499\n",
            "Best test loss epoch: 0\n"
          ]
        },
        {
          "output_type": "stream",
          "name": "stderr",
          "text": [
            "\r  0%|          | 2/500 [00:15<1:03:03,  7.60s/it]"
          ]
        },
        {
          "output_type": "stream",
          "name": "stdout",
          "text": [
            "Training neural network ... Epoch 2/499\n",
            "Best test loss epoch: 1\n"
          ]
        },
        {
          "output_type": "stream",
          "name": "stderr",
          "text": [
            "\r  1%|          | 3/500 [00:21<59:06,  7.14s/it]  "
          ]
        },
        {
          "output_type": "stream",
          "name": "stdout",
          "text": [
            "Training neural network ... Epoch 3/499\n",
            "Best test loss epoch: 2\n"
          ]
        },
        {
          "output_type": "stream",
          "name": "stderr",
          "text": [
            "\r  1%|          | 4/500 [00:29<1:02:25,  7.55s/it]"
          ]
        },
        {
          "output_type": "stream",
          "name": "stdout",
          "text": [
            "Training neural network ... Epoch 4/499\n",
            "Best test loss epoch: 3\n"
          ]
        },
        {
          "output_type": "stream",
          "name": "stderr",
          "text": [
            "\r  1%|          | 5/500 [00:36<59:31,  7.21s/it]  "
          ]
        },
        {
          "output_type": "stream",
          "name": "stdout",
          "text": [
            "Training neural network ... Epoch 5/499\n",
            "Best test loss epoch: 4\n"
          ]
        },
        {
          "output_type": "stream",
          "name": "stderr",
          "text": [
            "\r  1%|          | 6/500 [00:44<1:02:06,  7.54s/it]"
          ]
        },
        {
          "output_type": "stream",
          "name": "stdout",
          "text": [
            "Training neural network ... Epoch 6/499\n",
            "Best test loss epoch: 5\n"
          ]
        },
        {
          "output_type": "stream",
          "name": "stderr",
          "text": [
            "\r  1%|▏         | 7/500 [00:51<59:22,  7.23s/it]  "
          ]
        },
        {
          "output_type": "stream",
          "name": "stdout",
          "text": [
            "Training neural network ... Epoch 7/499\n",
            "Best test loss epoch: 6\n"
          ]
        },
        {
          "output_type": "stream",
          "name": "stderr",
          "text": [
            "\r  2%|▏         | 8/500 [00:59<1:01:21,  7.48s/it]"
          ]
        },
        {
          "output_type": "stream",
          "name": "stdout",
          "text": [
            "Training neural network ... Epoch 8/499\n",
            "Best test loss epoch: 7\n"
          ]
        },
        {
          "output_type": "stream",
          "name": "stderr",
          "text": [
            "\r  2%|▏         | 9/500 [01:06<59:33,  7.28s/it]  "
          ]
        },
        {
          "output_type": "stream",
          "name": "stdout",
          "text": [
            "Training neural network ... Epoch 9/499\n",
            "Best test loss epoch: 8\n"
          ]
        },
        {
          "output_type": "stream",
          "name": "stderr",
          "text": [
            "\r  2%|▏         | 10/500 [01:13<1:00:17,  7.38s/it]"
          ]
        },
        {
          "output_type": "stream",
          "name": "stdout",
          "text": [
            "Training neural network ... Epoch 10/499\n",
            "Best test loss epoch: 9\n"
          ]
        },
        {
          "output_type": "stream",
          "name": "stderr",
          "text": [
            "\r  2%|▏         | 11/500 [01:21<1:01:25,  7.54s/it]"
          ]
        },
        {
          "output_type": "stream",
          "name": "stdout",
          "text": [
            "Training neural network ... Epoch 11/499\n",
            "Best test loss epoch: 10\n"
          ]
        },
        {
          "output_type": "stream",
          "name": "stderr",
          "text": [
            "\r  2%|▏         | 12/500 [01:28<59:25,  7.31s/it]  "
          ]
        },
        {
          "output_type": "stream",
          "name": "stdout",
          "text": [
            "Training neural network ... Epoch 12/499\n",
            "Best test loss epoch: 11\n"
          ]
        },
        {
          "output_type": "stream",
          "name": "stderr",
          "text": [
            "\r  3%|▎         | 13/500 [01:36<1:00:52,  7.50s/it]"
          ]
        },
        {
          "output_type": "stream",
          "name": "stdout",
          "text": [
            "Training neural network ... Epoch 13/499\n",
            "Best test loss epoch: 12\n"
          ]
        },
        {
          "output_type": "stream",
          "name": "stderr",
          "text": [
            "\r  3%|▎         | 14/500 [01:42<58:23,  7.21s/it]  "
          ]
        },
        {
          "output_type": "stream",
          "name": "stdout",
          "text": [
            "Training neural network ... Epoch 14/499\n",
            "Best test loss epoch: 13\n"
          ]
        },
        {
          "output_type": "stream",
          "name": "stderr",
          "text": [
            "\r  3%|▎         | 15/500 [01:51<1:01:06,  7.56s/it]"
          ]
        },
        {
          "output_type": "stream",
          "name": "stdout",
          "text": [
            "Training neural network ... Epoch 15/499\n",
            "Best test loss epoch: 14\n"
          ]
        },
        {
          "output_type": "stream",
          "name": "stderr",
          "text": [
            "\r  3%|▎         | 16/500 [01:57<58:38,  7.27s/it]  "
          ]
        },
        {
          "output_type": "stream",
          "name": "stdout",
          "text": [
            "Training neural network ... Epoch 16/499\n",
            "Best test loss epoch: 15\n"
          ]
        },
        {
          "output_type": "stream",
          "name": "stderr",
          "text": [
            "\r  3%|▎         | 17/500 [02:05<1:00:35,  7.53s/it]"
          ]
        },
        {
          "output_type": "stream",
          "name": "stdout",
          "text": [
            "Training neural network ... Epoch 17/499\n",
            "Best test loss epoch: 16\n"
          ]
        },
        {
          "output_type": "stream",
          "name": "stderr",
          "text": [
            "\r  4%|▎         | 18/500 [02:12<58:21,  7.26s/it]  "
          ]
        },
        {
          "output_type": "stream",
          "name": "stdout",
          "text": [
            "Training neural network ... Epoch 18/499\n",
            "Best test loss epoch: 17\n"
          ]
        },
        {
          "output_type": "stream",
          "name": "stderr",
          "text": [
            "\r  4%|▍         | 19/500 [02:20<1:00:36,  7.56s/it]"
          ]
        },
        {
          "output_type": "stream",
          "name": "stdout",
          "text": [
            "Training neural network ... Epoch 19/499\n",
            "Best test loss epoch: 18\n"
          ]
        },
        {
          "output_type": "stream",
          "name": "stderr",
          "text": [
            "\r  4%|▍         | 20/500 [02:27<59:15,  7.41s/it]  "
          ]
        },
        {
          "output_type": "stream",
          "name": "stdout",
          "text": [
            "Training neural network ... Epoch 20/499\n",
            "Best test loss epoch: 19\n"
          ]
        },
        {
          "output_type": "stream",
          "name": "stderr",
          "text": [
            "\r  4%|▍         | 21/500 [02:35<59:24,  7.44s/it]"
          ]
        },
        {
          "output_type": "stream",
          "name": "stdout",
          "text": [
            "Training neural network ... Epoch 21/499\n",
            "Best test loss epoch: 20\n"
          ]
        },
        {
          "output_type": "stream",
          "name": "stderr",
          "text": [
            "\r  4%|▍         | 22/500 [02:43<1:00:18,  7.57s/it]"
          ]
        },
        {
          "output_type": "stream",
          "name": "stdout",
          "text": [
            "Training neural network ... Epoch 22/499\n",
            "Best test loss epoch: 21\n"
          ]
        },
        {
          "output_type": "stream",
          "name": "stderr",
          "text": [
            "\r  5%|▍         | 23/500 [02:50<58:30,  7.36s/it]  "
          ]
        },
        {
          "output_type": "stream",
          "name": "stdout",
          "text": [
            "Training neural network ... Epoch 23/499\n",
            "Best test loss epoch: 22\n"
          ]
        },
        {
          "output_type": "stream",
          "name": "stderr",
          "text": [
            "\r  5%|▍         | 24/500 [02:58<1:00:18,  7.60s/it]"
          ]
        },
        {
          "output_type": "stream",
          "name": "stdout",
          "text": [
            "Training neural network ... Epoch 24/499\n",
            "Best test loss epoch: 23\n"
          ]
        },
        {
          "output_type": "stream",
          "name": "stderr",
          "text": [
            "\r  5%|▌         | 25/500 [03:04<57:35,  7.27s/it]  "
          ]
        },
        {
          "output_type": "stream",
          "name": "stdout",
          "text": [
            "Training neural network ... Epoch 25/499\n",
            "Best test loss epoch: 24\n"
          ]
        },
        {
          "output_type": "stream",
          "name": "stderr",
          "text": [
            "\r  5%|▌         | 26/500 [03:12<59:39,  7.55s/it]"
          ]
        },
        {
          "output_type": "stream",
          "name": "stdout",
          "text": [
            "Training neural network ... Epoch 26/499\n",
            "Best test loss epoch: 25\n"
          ]
        },
        {
          "output_type": "stream",
          "name": "stderr",
          "text": [
            "\r  5%|▌         | 27/500 [03:19<57:28,  7.29s/it]"
          ]
        },
        {
          "output_type": "stream",
          "name": "stdout",
          "text": [
            "Training neural network ... Epoch 27/499\n",
            "Best test loss epoch: 25\n"
          ]
        },
        {
          "output_type": "stream",
          "name": "stderr",
          "text": [
            "\r  6%|▌         | 28/500 [03:27<59:13,  7.53s/it]"
          ]
        },
        {
          "output_type": "stream",
          "name": "stdout",
          "text": [
            "Training neural network ... Epoch 28/499\n",
            "Best test loss epoch: 27\n"
          ]
        },
        {
          "output_type": "stream",
          "name": "stderr",
          "text": [
            "\r  6%|▌         | 29/500 [03:34<57:41,  7.35s/it]"
          ]
        },
        {
          "output_type": "stream",
          "name": "stdout",
          "text": [
            "Training neural network ... Epoch 29/499\n",
            "Best test loss epoch: 27\n"
          ]
        },
        {
          "output_type": "stream",
          "name": "stderr",
          "text": [
            "\r  6%|▌         | 30/500 [03:42<58:46,  7.50s/it]"
          ]
        },
        {
          "output_type": "stream",
          "name": "stdout",
          "text": [
            "Training neural network ... Epoch 30/499\n",
            "Best test loss epoch: 27\n"
          ]
        },
        {
          "output_type": "stream",
          "name": "stderr",
          "text": [
            "\r  6%|▌         | 31/500 [03:50<58:46,  7.52s/it]"
          ]
        },
        {
          "output_type": "stream",
          "name": "stdout",
          "text": [
            "Training neural network ... Epoch 31/499\n",
            "Best test loss epoch: 30\n"
          ]
        },
        {
          "output_type": "stream",
          "name": "stderr",
          "text": [
            "\r  6%|▋         | 32/500 [03:57<58:06,  7.45s/it]"
          ]
        },
        {
          "output_type": "stream",
          "name": "stdout",
          "text": [
            "Training neural network ... Epoch 32/499\n",
            "Best test loss epoch: 30\n"
          ]
        },
        {
          "output_type": "stream",
          "name": "stderr",
          "text": [
            "\r  7%|▋         | 33/500 [04:05<59:57,  7.70s/it]"
          ]
        },
        {
          "output_type": "stream",
          "name": "stdout",
          "text": [
            "Training neural network ... Epoch 33/499\n",
            "Best test loss epoch: 30\n"
          ]
        },
        {
          "output_type": "stream",
          "name": "stderr",
          "text": [
            "\r  7%|▋         | 34/500 [04:12<57:14,  7.37s/it]"
          ]
        },
        {
          "output_type": "stream",
          "name": "stdout",
          "text": [
            "Training neural network ... Epoch 34/499\n",
            "Best test loss epoch: 30\n"
          ]
        },
        {
          "output_type": "stream",
          "name": "stderr",
          "text": [
            "\r  7%|▋         | 35/500 [04:20<59:18,  7.65s/it]"
          ]
        },
        {
          "output_type": "stream",
          "name": "stdout",
          "text": [
            "Training neural network ... Epoch 35/499\n",
            "Best test loss epoch: 30\n"
          ]
        },
        {
          "output_type": "stream",
          "name": "stderr",
          "text": [
            "\r  7%|▋         | 35/500 [04:27<59:09,  7.63s/it]"
          ]
        },
        {
          "output_type": "stream",
          "name": "stdout",
          "text": [
            "Early Stopping at epoch:  35\n",
            "Neural network training has finished. Elasped time 267.15\n",
            "Best model saved\n",
            "Best test loss epoch: 30\n"
          ]
        },
        {
          "output_type": "stream",
          "name": "stderr",
          "text": [
            "\n"
          ]
        },
        {
          "output_type": "stream",
          "name": "stdout",
          "text": [
            "Best model metrics: \n",
            "Accuracy: 1.0, Precision: 0.0, Recall: 0.0, F1 0.0\n"
          ]
        },
        {
          "output_type": "stream",
          "name": "stderr",
          "text": [
            "\r  0%|          | 0/500 [00:00<?, ?it/s]"
          ]
        },
        {
          "output_type": "stream",
          "name": "stdout",
          "text": [
            "Training neural network ... Epoch 0/499\n"
          ]
        },
        {
          "output_type": "stream",
          "name": "stderr",
          "text": [
            "\r  0%|          | 1/500 [00:06<56:53,  6.84s/it]"
          ]
        },
        {
          "output_type": "stream",
          "name": "stdout",
          "text": [
            "Training neural network ... Epoch 1/499\n",
            "Best test loss epoch: 0\n"
          ]
        },
        {
          "output_type": "stream",
          "name": "stderr",
          "text": [
            "\r  0%|          | 2/500 [00:14<1:02:32,  7.54s/it]"
          ]
        },
        {
          "output_type": "stream",
          "name": "stdout",
          "text": [
            "Training neural network ... Epoch 2/499\n",
            "Best test loss epoch: 1\n"
          ]
        },
        {
          "output_type": "stream",
          "name": "stderr",
          "text": [
            "\r  1%|          | 3/500 [00:21<59:10,  7.14s/it]  "
          ]
        },
        {
          "output_type": "stream",
          "name": "stdout",
          "text": [
            "Training neural network ... Epoch 3/499\n",
            "Best test loss epoch: 2\n"
          ]
        },
        {
          "output_type": "stream",
          "name": "stderr",
          "text": [
            "\r  1%|          | 4/500 [00:29<1:01:48,  7.48s/it]"
          ]
        },
        {
          "output_type": "stream",
          "name": "stdout",
          "text": [
            "Training neural network ... Epoch 4/499\n",
            "Best test loss epoch: 3\n"
          ]
        },
        {
          "output_type": "stream",
          "name": "stderr",
          "text": [
            "\r  1%|          | 5/500 [00:36<59:17,  7.19s/it]  "
          ]
        },
        {
          "output_type": "stream",
          "name": "stdout",
          "text": [
            "Training neural network ... Epoch 5/499\n",
            "Best test loss epoch: 4\n"
          ]
        },
        {
          "output_type": "stream",
          "name": "stderr",
          "text": [
            "\r  1%|          | 6/500 [00:44<1:01:27,  7.46s/it]"
          ]
        },
        {
          "output_type": "stream",
          "name": "stdout",
          "text": [
            "Training neural network ... Epoch 6/499\n",
            "Best test loss epoch: 5\n"
          ]
        },
        {
          "output_type": "stream",
          "name": "stderr",
          "text": [
            "\r  1%|▏         | 7/500 [00:51<59:44,  7.27s/it]  "
          ]
        },
        {
          "output_type": "stream",
          "name": "stdout",
          "text": [
            "Training neural network ... Epoch 7/499\n",
            "Best test loss epoch: 6\n"
          ]
        },
        {
          "output_type": "stream",
          "name": "stderr",
          "text": [
            "\r  2%|▏         | 8/500 [00:58<1:01:05,  7.45s/it]"
          ]
        },
        {
          "output_type": "stream",
          "name": "stdout",
          "text": [
            "Training neural network ... Epoch 8/499\n",
            "Best test loss epoch: 7\n"
          ]
        },
        {
          "output_type": "stream",
          "name": "stderr",
          "text": [
            "\r  2%|▏         | 9/500 [01:06<1:01:21,  7.50s/it]"
          ]
        },
        {
          "output_type": "stream",
          "name": "stdout",
          "text": [
            "Training neural network ... Epoch 9/499\n",
            "Best test loss epoch: 8\n"
          ]
        },
        {
          "output_type": "stream",
          "name": "stderr",
          "text": [
            "\r  2%|▏         | 10/500 [01:13<1:00:04,  7.36s/it]"
          ]
        },
        {
          "output_type": "stream",
          "name": "stdout",
          "text": [
            "Training neural network ... Epoch 10/499\n",
            "Best test loss epoch: 9\n"
          ]
        },
        {
          "output_type": "stream",
          "name": "stderr",
          "text": [
            "\r  2%|▏         | 11/500 [01:21<1:02:09,  7.63s/it]"
          ]
        },
        {
          "output_type": "stream",
          "name": "stdout",
          "text": [
            "Training neural network ... Epoch 11/499\n",
            "Best test loss epoch: 10\n"
          ]
        },
        {
          "output_type": "stream",
          "name": "stderr",
          "text": [
            "\r  2%|▏         | 12/500 [01:28<59:05,  7.27s/it]  "
          ]
        },
        {
          "output_type": "stream",
          "name": "stdout",
          "text": [
            "Training neural network ... Epoch 12/499\n",
            "Best test loss epoch: 11\n"
          ]
        },
        {
          "output_type": "stream",
          "name": "stderr",
          "text": [
            "\r  3%|▎         | 13/500 [01:36<1:00:43,  7.48s/it]"
          ]
        },
        {
          "output_type": "stream",
          "name": "stdout",
          "text": [
            "Training neural network ... Epoch 13/499\n",
            "Best test loss epoch: 12\n"
          ]
        },
        {
          "output_type": "stream",
          "name": "stderr",
          "text": [
            "\r  3%|▎         | 14/500 [01:42<58:36,  7.24s/it]  "
          ]
        },
        {
          "output_type": "stream",
          "name": "stdout",
          "text": [
            "Training neural network ... Epoch 14/499\n",
            "Best test loss epoch: 13\n"
          ]
        },
        {
          "output_type": "stream",
          "name": "stderr",
          "text": [
            "\r  3%|▎         | 15/500 [01:50<1:00:27,  7.48s/it]"
          ]
        },
        {
          "output_type": "stream",
          "name": "stdout",
          "text": [
            "Training neural network ... Epoch 15/499\n",
            "Best test loss epoch: 14\n"
          ]
        },
        {
          "output_type": "stream",
          "name": "stderr",
          "text": [
            "\r  3%|▎         | 16/500 [01:56<56:08,  6.96s/it]  "
          ]
        },
        {
          "output_type": "stream",
          "name": "stdout",
          "text": [
            "Training neural network ... Epoch 16/499\n",
            "Best test loss epoch: 15\n"
          ]
        },
        {
          "output_type": "stream",
          "name": "stderr",
          "text": [
            "\r  3%|▎         | 17/500 [02:03<56:40,  7.04s/it]"
          ]
        },
        {
          "output_type": "stream",
          "name": "stdout",
          "text": [
            "Training neural network ... Epoch 17/499\n",
            "Best test loss epoch: 16\n"
          ]
        },
        {
          "output_type": "stream",
          "name": "stderr",
          "text": [
            "\r  4%|▎         | 18/500 [02:09<53:23,  6.65s/it]"
          ]
        },
        {
          "output_type": "stream",
          "name": "stdout",
          "text": [
            "Training neural network ... Epoch 18/499\n",
            "Best test loss epoch: 17\n"
          ]
        },
        {
          "output_type": "stream",
          "name": "stderr",
          "text": [
            "\r  4%|▍         | 19/500 [02:16<54:39,  6.82s/it]"
          ]
        },
        {
          "output_type": "stream",
          "name": "stdout",
          "text": [
            "Training neural network ... Epoch 19/499\n",
            "Best test loss epoch: 18\n"
          ]
        },
        {
          "output_type": "stream",
          "name": "stderr",
          "text": [
            "\r  4%|▍         | 20/500 [02:22<52:05,  6.51s/it]"
          ]
        },
        {
          "output_type": "stream",
          "name": "stdout",
          "text": [
            "Training neural network ... Epoch 20/499\n",
            "Best test loss epoch: 19\n"
          ]
        },
        {
          "output_type": "stream",
          "name": "stderr",
          "text": [
            "\r  4%|▍         | 21/500 [02:29<53:29,  6.70s/it]"
          ]
        },
        {
          "output_type": "stream",
          "name": "stdout",
          "text": [
            "Training neural network ... Epoch 21/499\n",
            "Best test loss epoch: 20\n"
          ]
        },
        {
          "output_type": "stream",
          "name": "stderr",
          "text": [
            "\r  4%|▍         | 22/500 [02:35<51:04,  6.41s/it]"
          ]
        },
        {
          "output_type": "stream",
          "name": "stdout",
          "text": [
            "Training neural network ... Epoch 22/499\n",
            "Best test loss epoch: 21\n"
          ]
        },
        {
          "output_type": "stream",
          "name": "stderr",
          "text": [
            "\r  5%|▍         | 23/500 [02:42<52:33,  6.61s/it]"
          ]
        },
        {
          "output_type": "stream",
          "name": "stdout",
          "text": [
            "Training neural network ... Epoch 23/499\n",
            "Best test loss epoch: 22\n"
          ]
        },
        {
          "output_type": "stream",
          "name": "stderr",
          "text": [
            "\r  5%|▍         | 24/500 [02:48<50:25,  6.36s/it]"
          ]
        },
        {
          "output_type": "stream",
          "name": "stdout",
          "text": [
            "Training neural network ... Epoch 24/499\n",
            "Best test loss epoch: 22\n"
          ]
        },
        {
          "output_type": "stream",
          "name": "stderr",
          "text": [
            "\r  5%|▌         | 25/500 [02:55<51:56,  6.56s/it]"
          ]
        },
        {
          "output_type": "stream",
          "name": "stdout",
          "text": [
            "Training neural network ... Epoch 25/499\n",
            "Best test loss epoch: 22\n"
          ]
        },
        {
          "output_type": "stream",
          "name": "stderr",
          "text": [
            "\r  5%|▌         | 26/500 [03:01<49:58,  6.33s/it]"
          ]
        },
        {
          "output_type": "stream",
          "name": "stdout",
          "text": [
            "Training neural network ... Epoch 26/499\n",
            "Best test loss epoch: 25\n"
          ]
        },
        {
          "output_type": "stream",
          "name": "stderr",
          "text": [
            "\r  5%|▌         | 27/500 [03:07<50:41,  6.43s/it]"
          ]
        },
        {
          "output_type": "stream",
          "name": "stdout",
          "text": [
            "Training neural network ... Epoch 27/499\n",
            "Best test loss epoch: 25\n"
          ]
        },
        {
          "output_type": "stream",
          "name": "stderr",
          "text": [
            "\r  6%|▌         | 28/500 [03:14<50:00,  6.36s/it]"
          ]
        },
        {
          "output_type": "stream",
          "name": "stdout",
          "text": [
            "Training neural network ... Epoch 28/499\n",
            "Best test loss epoch: 25\n"
          ]
        },
        {
          "output_type": "stream",
          "name": "stderr",
          "text": [
            "\r  6%|▌         | 29/500 [03:20<49:51,  6.35s/it]"
          ]
        },
        {
          "output_type": "stream",
          "name": "stdout",
          "text": [
            "Training neural network ... Epoch 29/499\n",
            "Best test loss epoch: 25\n"
          ]
        },
        {
          "output_type": "stream",
          "name": "stderr",
          "text": [
            "\r  6%|▌         | 30/500 [03:26<50:23,  6.43s/it]"
          ]
        },
        {
          "output_type": "stream",
          "name": "stdout",
          "text": [
            "Training neural network ... Epoch 30/499\n",
            "Best test loss epoch: 25\n"
          ]
        },
        {
          "output_type": "stream",
          "name": "stderr",
          "text": [
            "\r  6%|▌         | 31/500 [03:32<48:45,  6.24s/it]"
          ]
        },
        {
          "output_type": "stream",
          "name": "stdout",
          "text": [
            "Training neural network ... Epoch 31/499\n",
            "Best test loss epoch: 25\n"
          ]
        },
        {
          "output_type": "stream",
          "name": "stderr",
          "text": [
            "\r  6%|▋         | 32/500 [03:39<50:35,  6.49s/it]"
          ]
        },
        {
          "output_type": "stream",
          "name": "stdout",
          "text": [
            "Training neural network ... Epoch 32/499\n",
            "Best test loss epoch: 25\n"
          ]
        },
        {
          "output_type": "stream",
          "name": "stderr",
          "text": [
            "\r  7%|▋         | 33/500 [03:45<48:43,  6.26s/it]"
          ]
        },
        {
          "output_type": "stream",
          "name": "stdout",
          "text": [
            "Training neural network ... Epoch 33/499\n",
            "Best test loss epoch: 25\n"
          ]
        },
        {
          "output_type": "stream",
          "name": "stderr",
          "text": [
            "\r  7%|▋         | 34/500 [03:52<50:55,  6.56s/it]"
          ]
        },
        {
          "output_type": "stream",
          "name": "stdout",
          "text": [
            "Training neural network ... Epoch 34/499\n",
            "Best test loss epoch: 25\n"
          ]
        },
        {
          "output_type": "stream",
          "name": "stderr",
          "text": [
            "\r  7%|▋         | 35/500 [03:58<48:47,  6.29s/it]"
          ]
        },
        {
          "output_type": "stream",
          "name": "stdout",
          "text": [
            "Training neural network ... Epoch 35/499\n",
            "Best test loss epoch: 25\n"
          ]
        },
        {
          "output_type": "stream",
          "name": "stderr",
          "text": [
            "\r  7%|▋         | 36/500 [04:05<50:34,  6.54s/it]"
          ]
        },
        {
          "output_type": "stream",
          "name": "stdout",
          "text": [
            "Training neural network ... Epoch 36/499\n",
            "Best test loss epoch: 25\n"
          ]
        },
        {
          "output_type": "stream",
          "name": "stderr",
          "text": [
            "\r  7%|▋         | 36/500 [04:11<53:58,  6.98s/it]"
          ]
        },
        {
          "output_type": "stream",
          "name": "stdout",
          "text": [
            "Early Stopping at epoch:  36\n",
            "Neural network training has finished. Elasped time 251.28\n",
            "Best model saved\n",
            "Best test loss epoch: 25\n"
          ]
        },
        {
          "output_type": "stream",
          "name": "stderr",
          "text": [
            "\n"
          ]
        },
        {
          "output_type": "stream",
          "name": "stdout",
          "text": [
            "Best model metrics: \n",
            "Accuracy: 1.0, Precision: 0.0, Recall: 0.0, F1 0.0\n"
          ]
        },
        {
          "output_type": "stream",
          "name": "stderr",
          "text": [
            "\r  0%|          | 0/500 [00:00<?, ?it/s]"
          ]
        },
        {
          "output_type": "stream",
          "name": "stdout",
          "text": [
            "Training neural network ... Epoch 0/499\n"
          ]
        },
        {
          "output_type": "stream",
          "name": "stderr",
          "text": [
            "\r  0%|          | 1/500 [00:06<55:52,  6.72s/it]"
          ]
        },
        {
          "output_type": "stream",
          "name": "stdout",
          "text": [
            "Training neural network ... Epoch 1/499\n",
            "Best test loss epoch: 0\n"
          ]
        },
        {
          "output_type": "stream",
          "name": "stderr",
          "text": [
            "\r  0%|          | 2/500 [00:12<50:25,  6.08s/it]"
          ]
        },
        {
          "output_type": "stream",
          "name": "stdout",
          "text": [
            "Training neural network ... Epoch 2/499\n",
            "Best test loss epoch: 1\n"
          ]
        },
        {
          "output_type": "stream",
          "name": "stderr",
          "text": [
            "\r  1%|          | 3/500 [00:19<54:23,  6.57s/it]"
          ]
        },
        {
          "output_type": "stream",
          "name": "stdout",
          "text": [
            "Training neural network ... Epoch 3/499\n",
            "Best test loss epoch: 2\n"
          ]
        },
        {
          "output_type": "stream",
          "name": "stderr",
          "text": [
            "\r  1%|          | 4/500 [00:25<51:11,  6.19s/it]"
          ]
        },
        {
          "output_type": "stream",
          "name": "stdout",
          "text": [
            "Training neural network ... Epoch 4/499\n",
            "Best test loss epoch: 3\n"
          ]
        },
        {
          "output_type": "stream",
          "name": "stderr",
          "text": [
            "\r  1%|          | 5/500 [00:32<53:55,  6.54s/it]"
          ]
        },
        {
          "output_type": "stream",
          "name": "stdout",
          "text": [
            "Training neural network ... Epoch 5/499\n",
            "Best test loss epoch: 4\n"
          ]
        },
        {
          "output_type": "stream",
          "name": "stderr",
          "text": [
            "\r  1%|          | 6/500 [00:38<51:40,  6.28s/it]"
          ]
        },
        {
          "output_type": "stream",
          "name": "stdout",
          "text": [
            "Training neural network ... Epoch 6/499\n",
            "Best test loss epoch: 5\n"
          ]
        },
        {
          "output_type": "stream",
          "name": "stderr",
          "text": [
            "\r  1%|▏         | 7/500 [00:45<53:45,  6.54s/it]"
          ]
        },
        {
          "output_type": "stream",
          "name": "stdout",
          "text": [
            "Training neural network ... Epoch 7/499\n",
            "Best test loss epoch: 6\n"
          ]
        },
        {
          "output_type": "stream",
          "name": "stderr",
          "text": [
            "\r  2%|▏         | 8/500 [00:50<51:18,  6.26s/it]"
          ]
        },
        {
          "output_type": "stream",
          "name": "stdout",
          "text": [
            "Training neural network ... Epoch 8/499\n",
            "Best test loss epoch: 7\n"
          ]
        },
        {
          "output_type": "stream",
          "name": "stderr",
          "text": [
            "\r  2%|▏         | 9/500 [00:57<53:29,  6.54s/it]"
          ]
        },
        {
          "output_type": "stream",
          "name": "stdout",
          "text": [
            "Training neural network ... Epoch 9/499\n",
            "Best test loss epoch: 8\n"
          ]
        },
        {
          "output_type": "stream",
          "name": "stderr",
          "text": [
            "\r  2%|▏         | 10/500 [01:03<51:05,  6.26s/it]"
          ]
        },
        {
          "output_type": "stream",
          "name": "stdout",
          "text": [
            "Training neural network ... Epoch 10/499\n",
            "Best test loss epoch: 9\n"
          ]
        },
        {
          "output_type": "stream",
          "name": "stderr",
          "text": [
            "\r  2%|▏         | 11/500 [01:10<53:06,  6.52s/it]"
          ]
        },
        {
          "output_type": "stream",
          "name": "stdout",
          "text": [
            "Training neural network ... Epoch 11/499\n",
            "Best test loss epoch: 10\n"
          ]
        },
        {
          "output_type": "stream",
          "name": "stderr",
          "text": [
            "\r  2%|▏         | 12/500 [01:16<51:01,  6.27s/it]"
          ]
        },
        {
          "output_type": "stream",
          "name": "stdout",
          "text": [
            "Training neural network ... Epoch 12/499\n",
            "Best test loss epoch: 11\n"
          ]
        },
        {
          "output_type": "stream",
          "name": "stderr",
          "text": [
            "\r  3%|▎         | 13/500 [01:23<52:41,  6.49s/it]"
          ]
        },
        {
          "output_type": "stream",
          "name": "stdout",
          "text": [
            "Training neural network ... Epoch 13/499\n",
            "Best test loss epoch: 12\n"
          ]
        },
        {
          "output_type": "stream",
          "name": "stderr",
          "text": [
            "\r  3%|▎         | 14/500 [01:29<50:32,  6.24s/it]"
          ]
        },
        {
          "output_type": "stream",
          "name": "stdout",
          "text": [
            "Training neural network ... Epoch 14/499\n",
            "Best test loss epoch: 13\n"
          ]
        },
        {
          "output_type": "stream",
          "name": "stderr",
          "text": [
            "\r  3%|▎         | 15/500 [01:35<51:56,  6.43s/it]"
          ]
        },
        {
          "output_type": "stream",
          "name": "stdout",
          "text": [
            "Training neural network ... Epoch 15/499\n",
            "Best test loss epoch: 14\n"
          ]
        },
        {
          "output_type": "stream",
          "name": "stderr",
          "text": [
            "\r  3%|▎         | 16/500 [01:41<50:22,  6.24s/it]"
          ]
        },
        {
          "output_type": "stream",
          "name": "stdout",
          "text": [
            "Training neural network ... Epoch 16/499\n",
            "Best test loss epoch: 15\n"
          ]
        },
        {
          "output_type": "stream",
          "name": "stderr",
          "text": [
            "\r  3%|▎         | 17/500 [01:48<50:34,  6.28s/it]"
          ]
        },
        {
          "output_type": "stream",
          "name": "stdout",
          "text": [
            "Training neural network ... Epoch 17/499\n",
            "Best test loss epoch: 15\n"
          ]
        },
        {
          "output_type": "stream",
          "name": "stderr",
          "text": [
            "\r  4%|▎         | 18/500 [01:54<50:31,  6.29s/it]"
          ]
        },
        {
          "output_type": "stream",
          "name": "stdout",
          "text": [
            "Training neural network ... Epoch 18/499\n",
            "Best test loss epoch: 17\n"
          ]
        },
        {
          "output_type": "stream",
          "name": "stderr",
          "text": [
            "\r  4%|▍         | 19/500 [02:00<49:20,  6.15s/it]"
          ]
        },
        {
          "output_type": "stream",
          "name": "stdout",
          "text": [
            "Training neural network ... Epoch 19/499\n",
            "Best test loss epoch: 17\n"
          ]
        },
        {
          "output_type": "stream",
          "name": "stderr",
          "text": [
            "\r  4%|▍         | 20/500 [02:07<51:11,  6.40s/it]"
          ]
        },
        {
          "output_type": "stream",
          "name": "stdout",
          "text": [
            "Training neural network ... Epoch 20/499\n",
            "Best test loss epoch: 17\n"
          ]
        },
        {
          "output_type": "stream",
          "name": "stderr",
          "text": [
            "\r  4%|▍         | 21/500 [02:12<49:11,  6.16s/it]"
          ]
        },
        {
          "output_type": "stream",
          "name": "stdout",
          "text": [
            "Training neural network ... Epoch 21/499\n",
            "Best test loss epoch: 17\n"
          ]
        },
        {
          "output_type": "stream",
          "name": "stderr",
          "text": [
            "\r  4%|▍         | 22/500 [02:19<51:24,  6.45s/it]"
          ]
        },
        {
          "output_type": "stream",
          "name": "stdout",
          "text": [
            "Training neural network ... Epoch 22/499\n",
            "Best test loss epoch: 21\n"
          ]
        },
        {
          "output_type": "stream",
          "name": "stderr",
          "text": [
            "\r  5%|▍         | 23/500 [02:25<49:19,  6.20s/it]"
          ]
        },
        {
          "output_type": "stream",
          "name": "stdout",
          "text": [
            "Training neural network ... Epoch 23/499\n",
            "Best test loss epoch: 21\n"
          ]
        },
        {
          "output_type": "stream",
          "name": "stderr",
          "text": [
            "\r  5%|▍         | 24/500 [02:32<51:23,  6.48s/it]"
          ]
        },
        {
          "output_type": "stream",
          "name": "stdout",
          "text": [
            "Training neural network ... Epoch 24/499\n",
            "Best test loss epoch: 21\n"
          ]
        },
        {
          "output_type": "stream",
          "name": "stderr",
          "text": [
            "\r  5%|▌         | 25/500 [02:38<49:37,  6.27s/it]"
          ]
        },
        {
          "output_type": "stream",
          "name": "stdout",
          "text": [
            "Training neural network ... Epoch 25/499\n",
            "Best test loss epoch: 21\n"
          ]
        },
        {
          "output_type": "stream",
          "name": "stderr",
          "text": [
            "\r  5%|▌         | 26/500 [02:45<51:31,  6.52s/it]"
          ]
        },
        {
          "output_type": "stream",
          "name": "stdout",
          "text": [
            "Training neural network ... Epoch 26/499\n",
            "Best test loss epoch: 21\n"
          ]
        },
        {
          "output_type": "stream",
          "name": "stderr",
          "text": [
            "\r  5%|▌         | 27/500 [02:51<49:21,  6.26s/it]"
          ]
        },
        {
          "output_type": "stream",
          "name": "stdout",
          "text": [
            "Training neural network ... Epoch 27/499\n",
            "Best test loss epoch: 21\n"
          ]
        },
        {
          "output_type": "stream",
          "name": "stderr",
          "text": [
            "\r  6%|▌         | 28/500 [02:58<51:05,  6.50s/it]"
          ]
        },
        {
          "output_type": "stream",
          "name": "stdout",
          "text": [
            "Training neural network ... Epoch 28/499\n",
            "Best test loss epoch: 21\n"
          ]
        },
        {
          "output_type": "stream",
          "name": "stderr",
          "text": [
            "\r  6%|▌         | 29/500 [03:04<49:13,  6.27s/it]"
          ]
        },
        {
          "output_type": "stream",
          "name": "stdout",
          "text": [
            "Training neural network ... Epoch 29/499\n",
            "Best test loss epoch: 21\n"
          ]
        },
        {
          "output_type": "stream",
          "name": "stderr",
          "text": [
            "\r  6%|▌         | 30/500 [03:11<50:59,  6.51s/it]"
          ]
        },
        {
          "output_type": "stream",
          "name": "stdout",
          "text": [
            "Training neural network ... Epoch 30/499\n",
            "Best test loss epoch: 29\n"
          ]
        },
        {
          "output_type": "stream",
          "name": "stderr",
          "text": [
            "\r  6%|▌         | 30/500 [03:16<51:22,  6.56s/it]"
          ]
        },
        {
          "output_type": "stream",
          "name": "stdout",
          "text": [
            "Early Stopping at epoch:  30\n",
            "Neural network training has finished. Elasped time 196.76\n",
            "Best model saved\n",
            "Best test loss epoch: 29\n"
          ]
        },
        {
          "output_type": "stream",
          "name": "stderr",
          "text": [
            "\n"
          ]
        },
        {
          "output_type": "stream",
          "name": "stdout",
          "text": [
            "Best model metrics: \n",
            "Accuracy: 1.0, Precision: 0.0, Recall: 0.0, F1 0.0\n"
          ]
        },
        {
          "output_type": "stream",
          "name": "stderr",
          "text": [
            "\r  0%|          | 0/500 [00:00<?, ?it/s]"
          ]
        },
        {
          "output_type": "stream",
          "name": "stdout",
          "text": [
            "Training neural network ... Epoch 0/499\n"
          ]
        },
        {
          "output_type": "stream",
          "name": "stderr",
          "text": [
            "\r  0%|          | 1/500 [00:07<59:25,  7.14s/it]"
          ]
        },
        {
          "output_type": "stream",
          "name": "stdout",
          "text": [
            "Training neural network ... Epoch 1/499\n",
            "Best test loss epoch: 0\n"
          ]
        },
        {
          "output_type": "stream",
          "name": "stderr",
          "text": [
            "\r  0%|          | 2/500 [00:12<51:46,  6.24s/it]"
          ]
        },
        {
          "output_type": "stream",
          "name": "stdout",
          "text": [
            "Training neural network ... Epoch 2/499\n",
            "Best test loss epoch: 1\n"
          ]
        },
        {
          "output_type": "stream",
          "name": "stderr",
          "text": [
            "\r  1%|          | 3/500 [00:20<55:33,  6.71s/it]"
          ]
        },
        {
          "output_type": "stream",
          "name": "stdout",
          "text": [
            "Training neural network ... Epoch 3/499\n",
            "Best test loss epoch: 2\n"
          ]
        },
        {
          "output_type": "stream",
          "name": "stderr",
          "text": [
            "\r  1%|          | 4/500 [00:25<51:45,  6.26s/it]"
          ]
        },
        {
          "output_type": "stream",
          "name": "stdout",
          "text": [
            "Training neural network ... Epoch 4/499\n",
            "Best test loss epoch: 3\n"
          ]
        },
        {
          "output_type": "stream",
          "name": "stderr",
          "text": [
            "\r  1%|          | 5/500 [00:32<53:54,  6.53s/it]"
          ]
        },
        {
          "output_type": "stream",
          "name": "stdout",
          "text": [
            "Training neural network ... Epoch 5/499\n",
            "Best test loss epoch: 4\n"
          ]
        },
        {
          "output_type": "stream",
          "name": "stderr",
          "text": [
            "\r  1%|          | 6/500 [00:38<51:17,  6.23s/it]"
          ]
        },
        {
          "output_type": "stream",
          "name": "stdout",
          "text": [
            "Training neural network ... Epoch 6/499\n",
            "Best test loss epoch: 5\n"
          ]
        },
        {
          "output_type": "stream",
          "name": "stderr",
          "text": [
            "\r  1%|▏         | 7/500 [00:45<53:22,  6.50s/it]"
          ]
        },
        {
          "output_type": "stream",
          "name": "stdout",
          "text": [
            "Training neural network ... Epoch 7/499\n",
            "Best test loss epoch: 6\n"
          ]
        },
        {
          "output_type": "stream",
          "name": "stderr",
          "text": [
            "\r  2%|▏         | 8/500 [00:50<51:09,  6.24s/it]"
          ]
        },
        {
          "output_type": "stream",
          "name": "stdout",
          "text": [
            "Training neural network ... Epoch 8/499\n",
            "Best test loss epoch: 7\n"
          ]
        },
        {
          "output_type": "stream",
          "name": "stderr",
          "text": [
            "\r  2%|▏         | 9/500 [00:57<52:22,  6.40s/it]"
          ]
        },
        {
          "output_type": "stream",
          "name": "stdout",
          "text": [
            "Training neural network ... Epoch 9/499\n",
            "Best test loss epoch: 8\n"
          ]
        },
        {
          "output_type": "stream",
          "name": "stderr",
          "text": [
            "\r  2%|▏         | 10/500 [01:03<50:51,  6.23s/it]"
          ]
        },
        {
          "output_type": "stream",
          "name": "stdout",
          "text": [
            "Training neural network ... Epoch 10/499\n",
            "Best test loss epoch: 8\n"
          ]
        },
        {
          "output_type": "stream",
          "name": "stderr",
          "text": [
            "\r  2%|▏         | 11/500 [01:09<50:41,  6.22s/it]"
          ]
        },
        {
          "output_type": "stream",
          "name": "stdout",
          "text": [
            "Training neural network ... Epoch 11/499\n",
            "Best test loss epoch: 10\n"
          ]
        },
        {
          "output_type": "stream",
          "name": "stderr",
          "text": [
            "\r  2%|▏         | 12/500 [01:16<51:12,  6.30s/it]"
          ]
        },
        {
          "output_type": "stream",
          "name": "stdout",
          "text": [
            "Training neural network ... Epoch 12/499\n",
            "Best test loss epoch: 10\n"
          ]
        },
        {
          "output_type": "stream",
          "name": "stderr",
          "text": [
            "\r  3%|▎         | 13/500 [01:22<50:10,  6.18s/it]"
          ]
        },
        {
          "output_type": "stream",
          "name": "stdout",
          "text": [
            "Training neural network ... Epoch 13/499\n",
            "Best test loss epoch: 10\n"
          ]
        },
        {
          "output_type": "stream",
          "name": "stderr",
          "text": [
            "\r  3%|▎         | 14/500 [01:29<51:55,  6.41s/it]"
          ]
        },
        {
          "output_type": "stream",
          "name": "stdout",
          "text": [
            "Training neural network ... Epoch 14/499\n",
            "Best test loss epoch: 13\n"
          ]
        },
        {
          "output_type": "stream",
          "name": "stderr",
          "text": [
            "\r  3%|▎         | 15/500 [01:34<49:55,  6.18s/it]"
          ]
        },
        {
          "output_type": "stream",
          "name": "stdout",
          "text": [
            "Training neural network ... Epoch 15/499\n",
            "Best test loss epoch: 14\n"
          ]
        },
        {
          "output_type": "stream",
          "name": "stderr",
          "text": [
            "\r  3%|▎         | 16/500 [01:41<52:20,  6.49s/it]"
          ]
        },
        {
          "output_type": "stream",
          "name": "stdout",
          "text": [
            "Training neural network ... Epoch 16/499\n",
            "Best test loss epoch: 14\n"
          ]
        },
        {
          "output_type": "stream",
          "name": "stderr",
          "text": [
            "\r  3%|▎         | 17/500 [01:47<50:12,  6.24s/it]"
          ]
        },
        {
          "output_type": "stream",
          "name": "stdout",
          "text": [
            "Training neural network ... Epoch 17/499\n",
            "Best test loss epoch: 14\n"
          ]
        },
        {
          "output_type": "stream",
          "name": "stderr",
          "text": [
            "\r  4%|▎         | 18/500 [01:54<52:34,  6.54s/it]"
          ]
        },
        {
          "output_type": "stream",
          "name": "stdout",
          "text": [
            "Training neural network ... Epoch 18/499\n",
            "Best test loss epoch: 17\n"
          ]
        },
        {
          "output_type": "stream",
          "name": "stderr",
          "text": [
            "\r  4%|▍         | 19/500 [02:00<50:15,  6.27s/it]"
          ]
        },
        {
          "output_type": "stream",
          "name": "stdout",
          "text": [
            "Training neural network ... Epoch 19/499\n",
            "Best test loss epoch: 17\n"
          ]
        },
        {
          "output_type": "stream",
          "name": "stderr",
          "text": [
            "\r  4%|▍         | 20/500 [02:07<52:11,  6.52s/it]"
          ]
        },
        {
          "output_type": "stream",
          "name": "stdout",
          "text": [
            "Training neural network ... Epoch 20/499\n",
            "Best test loss epoch: 17\n"
          ]
        },
        {
          "output_type": "stream",
          "name": "stderr",
          "text": [
            "\r  4%|▍         | 21/500 [02:13<50:05,  6.27s/it]"
          ]
        },
        {
          "output_type": "stream",
          "name": "stdout",
          "text": [
            "Training neural network ... Epoch 21/499\n",
            "Best test loss epoch: 17\n"
          ]
        },
        {
          "output_type": "stream",
          "name": "stderr",
          "text": [
            "\r  4%|▍         | 22/500 [02:20<51:53,  6.51s/it]"
          ]
        },
        {
          "output_type": "stream",
          "name": "stdout",
          "text": [
            "Training neural network ... Epoch 22/499\n",
            "Best test loss epoch: 17\n"
          ]
        },
        {
          "output_type": "stream",
          "name": "stderr",
          "text": [
            "\r  5%|▍         | 23/500 [02:26<50:04,  6.30s/it]"
          ]
        },
        {
          "output_type": "stream",
          "name": "stdout",
          "text": [
            "Training neural network ... Epoch 23/499\n",
            "Best test loss epoch: 17\n"
          ]
        },
        {
          "output_type": "stream",
          "name": "stderr",
          "text": [
            "\r  5%|▍         | 24/500 [02:33<51:44,  6.52s/it]"
          ]
        },
        {
          "output_type": "stream",
          "name": "stdout",
          "text": [
            "Training neural network ... Epoch 24/499\n",
            "Best test loss epoch: 17\n"
          ]
        },
        {
          "output_type": "stream",
          "name": "stderr",
          "text": [
            "\r  5%|▌         | 25/500 [02:39<50:29,  6.38s/it]"
          ]
        },
        {
          "output_type": "stream",
          "name": "stdout",
          "text": [
            "Training neural network ... Epoch 25/499\n",
            "Best test loss epoch: 17\n"
          ]
        },
        {
          "output_type": "stream",
          "name": "stderr",
          "text": [
            "\r  5%|▌         | 26/500 [02:46<51:51,  6.56s/it]"
          ]
        },
        {
          "output_type": "stream",
          "name": "stdout",
          "text": [
            "Training neural network ... Epoch 26/499\n",
            "Best test loss epoch: 25\n"
          ]
        },
        {
          "output_type": "stream",
          "name": "stderr",
          "text": [
            "\r  5%|▌         | 27/500 [02:52<50:40,  6.43s/it]"
          ]
        },
        {
          "output_type": "stream",
          "name": "stdout",
          "text": [
            "Training neural network ... Epoch 27/499\n",
            "Best test loss epoch: 26\n"
          ]
        },
        {
          "output_type": "stream",
          "name": "stderr",
          "text": [
            "\r  6%|▌         | 28/500 [02:59<51:58,  6.61s/it]"
          ]
        },
        {
          "output_type": "stream",
          "name": "stdout",
          "text": [
            "Training neural network ... Epoch 28/499\n",
            "Best test loss epoch: 26\n"
          ]
        },
        {
          "output_type": "stream",
          "name": "stderr",
          "text": [
            "\r  6%|▌         | 28/500 [03:05<52:05,  6.62s/it]"
          ]
        },
        {
          "output_type": "stream",
          "name": "stdout",
          "text": [
            "Early Stopping at epoch:  28\n",
            "Neural network training has finished. Elasped time 185.43\n",
            "Best model saved\n",
            "Best test loss epoch: 28\n"
          ]
        },
        {
          "output_type": "stream",
          "name": "stderr",
          "text": [
            "\n"
          ]
        },
        {
          "output_type": "stream",
          "name": "stdout",
          "text": [
            "Best model metrics: \n",
            "Accuracy: 1.0, Precision: 0.0, Recall: 0.0, F1 0.0\n"
          ]
        },
        {
          "output_type": "stream",
          "name": "stderr",
          "text": [
            "\r  0%|          | 0/500 [00:00<?, ?it/s]"
          ]
        },
        {
          "output_type": "stream",
          "name": "stdout",
          "text": [
            "Training neural network ... Epoch 0/499\n"
          ]
        },
        {
          "output_type": "stream",
          "name": "stderr",
          "text": [
            "\r  0%|          | 1/500 [00:07<59:12,  7.12s/it]"
          ]
        },
        {
          "output_type": "stream",
          "name": "stdout",
          "text": [
            "Training neural network ... Epoch 1/499\n",
            "Best test loss epoch: 0\n"
          ]
        },
        {
          "output_type": "stream",
          "name": "stderr",
          "text": [
            "\r  0%|          | 2/500 [00:13<53:41,  6.47s/it]"
          ]
        },
        {
          "output_type": "stream",
          "name": "stdout",
          "text": [
            "Training neural network ... Epoch 2/499\n",
            "Best test loss epoch: 1\n"
          ]
        },
        {
          "output_type": "stream",
          "name": "stderr",
          "text": [
            "\r  1%|          | 3/500 [00:21<59:09,  7.14s/it]"
          ]
        },
        {
          "output_type": "stream",
          "name": "stdout",
          "text": [
            "Training neural network ... Epoch 3/499\n",
            "Best test loss epoch: 2\n"
          ]
        },
        {
          "output_type": "stream",
          "name": "stderr",
          "text": [
            "\r  1%|          | 4/500 [00:27<55:22,  6.70s/it]"
          ]
        },
        {
          "output_type": "stream",
          "name": "stdout",
          "text": [
            "Training neural network ... Epoch 4/499\n",
            "Best test loss epoch: 3\n"
          ]
        },
        {
          "output_type": "stream",
          "name": "stderr",
          "text": [
            "\r  1%|          | 5/500 [00:34<57:51,  7.01s/it]"
          ]
        },
        {
          "output_type": "stream",
          "name": "stdout",
          "text": [
            "Training neural network ... Epoch 5/499\n",
            "Best test loss epoch: 4\n"
          ]
        },
        {
          "output_type": "stream",
          "name": "stderr",
          "text": [
            "\r  1%|          | 6/500 [00:40<55:05,  6.69s/it]"
          ]
        },
        {
          "output_type": "stream",
          "name": "stdout",
          "text": [
            "Training neural network ... Epoch 6/499\n",
            "Best test loss epoch: 5\n"
          ]
        },
        {
          "output_type": "stream",
          "name": "stderr",
          "text": [
            "\r  1%|▏         | 7/500 [00:48<57:43,  7.02s/it]"
          ]
        },
        {
          "output_type": "stream",
          "name": "stdout",
          "text": [
            "Training neural network ... Epoch 7/499\n",
            "Best test loss epoch: 6\n"
          ]
        },
        {
          "output_type": "stream",
          "name": "stderr",
          "text": [
            "\r  2%|▏         | 8/500 [00:54<55:05,  6.72s/it]"
          ]
        },
        {
          "output_type": "stream",
          "name": "stdout",
          "text": [
            "Training neural network ... Epoch 8/499\n",
            "Best test loss epoch: 7\n"
          ]
        },
        {
          "output_type": "stream",
          "name": "stderr",
          "text": [
            "\r  2%|▏         | 9/500 [01:02<57:32,  7.03s/it]"
          ]
        },
        {
          "output_type": "stream",
          "name": "stdout",
          "text": [
            "Training neural network ... Epoch 9/499\n",
            "Best test loss epoch: 8\n"
          ]
        },
        {
          "output_type": "stream",
          "name": "stderr",
          "text": [
            "\r  2%|▏         | 10/500 [01:08<55:09,  6.75s/it]"
          ]
        },
        {
          "output_type": "stream",
          "name": "stdout",
          "text": [
            "Training neural network ... Epoch 10/499\n",
            "Best test loss epoch: 8\n"
          ]
        },
        {
          "output_type": "stream",
          "name": "stderr",
          "text": [
            "\r  2%|▏         | 11/500 [01:16<57:19,  7.03s/it]"
          ]
        },
        {
          "output_type": "stream",
          "name": "stdout",
          "text": [
            "Training neural network ... Epoch 11/499\n",
            "Best test loss epoch: 8\n"
          ]
        },
        {
          "output_type": "stream",
          "name": "stderr",
          "text": [
            "\r  2%|▏         | 12/500 [01:22<54:47,  6.74s/it]"
          ]
        },
        {
          "output_type": "stream",
          "name": "stdout",
          "text": [
            "Training neural network ... Epoch 12/499\n",
            "Best test loss epoch: 11\n"
          ]
        },
        {
          "output_type": "stream",
          "name": "stderr",
          "text": [
            "\r  3%|▎         | 13/500 [01:29<56:47,  7.00s/it]"
          ]
        },
        {
          "output_type": "stream",
          "name": "stdout",
          "text": [
            "Training neural network ... Epoch 13/499\n",
            "Best test loss epoch: 11\n"
          ]
        },
        {
          "output_type": "stream",
          "name": "stderr",
          "text": [
            "\r  3%|▎         | 14/500 [01:35<54:23,  6.72s/it]"
          ]
        },
        {
          "output_type": "stream",
          "name": "stdout",
          "text": [
            "Training neural network ... Epoch 14/499\n",
            "Best test loss epoch: 11\n"
          ]
        },
        {
          "output_type": "stream",
          "name": "stderr",
          "text": [
            "\r  3%|▎         | 15/500 [01:43<56:25,  6.98s/it]"
          ]
        },
        {
          "output_type": "stream",
          "name": "stdout",
          "text": [
            "Training neural network ... Epoch 15/499\n",
            "Best test loss epoch: 14\n"
          ]
        },
        {
          "output_type": "stream",
          "name": "stderr",
          "text": [
            "\r  3%|▎         | 16/500 [01:49<54:15,  6.73s/it]"
          ]
        },
        {
          "output_type": "stream",
          "name": "stdout",
          "text": [
            "Training neural network ... Epoch 16/499\n",
            "Best test loss epoch: 14\n"
          ]
        },
        {
          "output_type": "stream",
          "name": "stderr",
          "text": [
            "\r  3%|▎         | 17/500 [01:56<55:59,  6.96s/it]"
          ]
        },
        {
          "output_type": "stream",
          "name": "stdout",
          "text": [
            "Training neural network ... Epoch 17/499\n",
            "Best test loss epoch: 14\n"
          ]
        },
        {
          "output_type": "stream",
          "name": "stderr",
          "text": [
            "\r  4%|▎         | 18/500 [02:02<53:22,  6.64s/it]"
          ]
        },
        {
          "output_type": "stream",
          "name": "stdout",
          "text": [
            "Training neural network ... Epoch 18/499\n",
            "Best test loss epoch: 17\n"
          ]
        },
        {
          "output_type": "stream",
          "name": "stderr",
          "text": [
            "\r  4%|▍         | 19/500 [02:10<55:18,  6.90s/it]"
          ]
        },
        {
          "output_type": "stream",
          "name": "stdout",
          "text": [
            "Training neural network ... Epoch 19/499\n",
            "Best test loss epoch: 17\n"
          ]
        },
        {
          "output_type": "stream",
          "name": "stderr",
          "text": [
            "\r  4%|▍         | 20/500 [02:16<53:20,  6.67s/it]"
          ]
        },
        {
          "output_type": "stream",
          "name": "stdout",
          "text": [
            "Training neural network ... Epoch 20/499\n",
            "Best test loss epoch: 17\n"
          ]
        },
        {
          "output_type": "stream",
          "name": "stderr",
          "text": [
            "\r  4%|▍         | 21/500 [02:23<54:57,  6.88s/it]"
          ]
        },
        {
          "output_type": "stream",
          "name": "stdout",
          "text": [
            "Training neural network ... Epoch 21/499\n",
            "Best test loss epoch: 17\n"
          ]
        },
        {
          "output_type": "stream",
          "name": "stderr",
          "text": [
            "\r  4%|▍         | 22/500 [02:29<52:46,  6.62s/it]"
          ]
        },
        {
          "output_type": "stream",
          "name": "stdout",
          "text": [
            "Training neural network ... Epoch 22/499\n",
            "Best test loss epoch: 17\n"
          ]
        },
        {
          "output_type": "stream",
          "name": "stderr",
          "text": [
            "\r  5%|▍         | 23/500 [02:37<54:49,  6.90s/it]"
          ]
        },
        {
          "output_type": "stream",
          "name": "stdout",
          "text": [
            "Training neural network ... Epoch 23/499\n",
            "Best test loss epoch: 17\n"
          ]
        },
        {
          "output_type": "stream",
          "name": "stderr",
          "text": [
            "\r  5%|▍         | 24/500 [02:43<51:33,  6.50s/it]"
          ]
        },
        {
          "output_type": "stream",
          "name": "stdout",
          "text": [
            "Training neural network ... Epoch 24/499\n",
            "Best test loss epoch: 17\n"
          ]
        },
        {
          "output_type": "stream",
          "name": "stderr",
          "text": [
            "\r  5%|▌         | 25/500 [02:50<53:57,  6.81s/it]"
          ]
        },
        {
          "output_type": "stream",
          "name": "stdout",
          "text": [
            "Training neural network ... Epoch 25/499\n",
            "Best test loss epoch: 17\n"
          ]
        },
        {
          "output_type": "stream",
          "name": "stderr",
          "text": [
            "\r  5%|▌         | 26/500 [02:56<51:44,  6.55s/it]"
          ]
        },
        {
          "output_type": "stream",
          "name": "stdout",
          "text": [
            "Training neural network ... Epoch 26/499\n",
            "Best test loss epoch: 17\n"
          ]
        },
        {
          "output_type": "stream",
          "name": "stderr",
          "text": [
            "\r  5%|▌         | 27/500 [03:03<52:46,  6.70s/it]"
          ]
        },
        {
          "output_type": "stream",
          "name": "stdout",
          "text": [
            "Training neural network ... Epoch 27/499\n",
            "Best test loss epoch: 17\n"
          ]
        },
        {
          "output_type": "stream",
          "name": "stderr",
          "text": [
            "\r  6%|▌         | 28/500 [03:09<51:06,  6.50s/it]"
          ]
        },
        {
          "output_type": "stream",
          "name": "stdout",
          "text": [
            "Training neural network ... Epoch 28/499\n",
            "Best test loss epoch: 17\n"
          ]
        },
        {
          "output_type": "stream",
          "name": "stderr",
          "text": [
            "\r  6%|▌         | 28/500 [03:16<55:15,  7.03s/it]"
          ]
        },
        {
          "output_type": "stream",
          "name": "stdout",
          "text": [
            "Early Stopping at epoch:  28\n",
            "Neural network training has finished. Elasped time 196.72\n",
            "Best model saved\n",
            "Best test loss epoch: 17\n"
          ]
        },
        {
          "output_type": "stream",
          "name": "stderr",
          "text": [
            "\n"
          ]
        },
        {
          "output_type": "stream",
          "name": "stdout",
          "text": [
            "Best model metrics: \n",
            "Accuracy: 1.0, Precision: 0.0, Recall: 0.0, F1 0.0\n"
          ]
        },
        {
          "output_type": "stream",
          "name": "stderr",
          "text": [
            "\r  0%|          | 0/500 [00:00<?, ?it/s]"
          ]
        },
        {
          "output_type": "stream",
          "name": "stdout",
          "text": [
            "Training neural network ... Epoch 0/499\n"
          ]
        },
        {
          "output_type": "stream",
          "name": "stderr",
          "text": [
            "\r  0%|          | 1/500 [00:07<58:35,  7.04s/it]"
          ]
        },
        {
          "output_type": "stream",
          "name": "stdout",
          "text": [
            "Training neural network ... Epoch 1/499\n",
            "Best test loss epoch: 0\n"
          ]
        },
        {
          "output_type": "stream",
          "name": "stderr",
          "text": [
            "\r  0%|          | 2/500 [00:13<54:54,  6.61s/it]"
          ]
        },
        {
          "output_type": "stream",
          "name": "stdout",
          "text": [
            "Training neural network ... Epoch 2/499\n",
            "Best test loss epoch: 1\n"
          ]
        },
        {
          "output_type": "stream",
          "name": "stderr",
          "text": [
            "\r  1%|          | 3/500 [00:20<54:55,  6.63s/it]"
          ]
        },
        {
          "output_type": "stream",
          "name": "stdout",
          "text": [
            "Training neural network ... Epoch 3/499\n",
            "Best test loss epoch: 2\n"
          ]
        },
        {
          "output_type": "stream",
          "name": "stderr",
          "text": [
            "\r  1%|          | 4/500 [00:26<54:35,  6.60s/it]"
          ]
        },
        {
          "output_type": "stream",
          "name": "stdout",
          "text": [
            "Training neural network ... Epoch 4/499\n",
            "Best test loss epoch: 3\n"
          ]
        },
        {
          "output_type": "stream",
          "name": "stderr",
          "text": [
            "\r  1%|          | 5/500 [00:33<56:20,  6.83s/it]"
          ]
        },
        {
          "output_type": "stream",
          "name": "stdout",
          "text": [
            "Training neural network ... Epoch 5/499\n",
            "Best test loss epoch: 4\n"
          ]
        },
        {
          "output_type": "stream",
          "name": "stderr",
          "text": [
            "\r  1%|          | 6/500 [00:40<54:47,  6.66s/it]"
          ]
        },
        {
          "output_type": "stream",
          "name": "stdout",
          "text": [
            "Training neural network ... Epoch 6/499\n",
            "Best test loss epoch: 5\n"
          ]
        },
        {
          "output_type": "stream",
          "name": "stderr",
          "text": [
            "\r  1%|▏         | 7/500 [00:47<56:13,  6.84s/it]"
          ]
        },
        {
          "output_type": "stream",
          "name": "stdout",
          "text": [
            "Training neural network ... Epoch 7/499\n",
            "Best test loss epoch: 6\n"
          ]
        },
        {
          "output_type": "stream",
          "name": "stderr",
          "text": [
            "\r  2%|▏         | 8/500 [00:53<54:35,  6.66s/it]"
          ]
        },
        {
          "output_type": "stream",
          "name": "stdout",
          "text": [
            "Training neural network ... Epoch 8/499\n",
            "Best test loss epoch: 6\n"
          ]
        },
        {
          "output_type": "stream",
          "name": "stderr",
          "text": [
            "\r  2%|▏         | 9/500 [01:00<55:46,  6.82s/it]"
          ]
        },
        {
          "output_type": "stream",
          "name": "stdout",
          "text": [
            "Training neural network ... Epoch 9/499\n",
            "Best test loss epoch: 6\n"
          ]
        },
        {
          "output_type": "stream",
          "name": "stderr",
          "text": [
            "\r  2%|▏         | 10/500 [01:07<54:11,  6.64s/it]"
          ]
        },
        {
          "output_type": "stream",
          "name": "stdout",
          "text": [
            "Training neural network ... Epoch 10/499\n",
            "Best test loss epoch: 9\n"
          ]
        },
        {
          "output_type": "stream",
          "name": "stderr",
          "text": [
            "\r  2%|▏         | 11/500 [01:14<55:08,  6.77s/it]"
          ]
        },
        {
          "output_type": "stream",
          "name": "stdout",
          "text": [
            "Training neural network ... Epoch 11/499\n",
            "Best test loss epoch: 9\n"
          ]
        },
        {
          "output_type": "stream",
          "name": "stderr",
          "text": [
            "\r  2%|▏         | 12/500 [01:20<53:53,  6.63s/it]"
          ]
        },
        {
          "output_type": "stream",
          "name": "stdout",
          "text": [
            "Training neural network ... Epoch 12/499\n",
            "Best test loss epoch: 9\n"
          ]
        },
        {
          "output_type": "stream",
          "name": "stderr",
          "text": [
            "\r  3%|▎         | 13/500 [01:27<55:01,  6.78s/it]"
          ]
        },
        {
          "output_type": "stream",
          "name": "stdout",
          "text": [
            "Training neural network ... Epoch 13/499\n",
            "Best test loss epoch: 9\n"
          ]
        },
        {
          "output_type": "stream",
          "name": "stderr",
          "text": [
            "\r  3%|▎         | 14/500 [01:33<53:31,  6.61s/it]"
          ]
        },
        {
          "output_type": "stream",
          "name": "stdout",
          "text": [
            "Training neural network ... Epoch 14/499\n",
            "Best test loss epoch: 13\n"
          ]
        },
        {
          "output_type": "stream",
          "name": "stderr",
          "text": [
            "\r  3%|▎         | 15/500 [01:41<55:07,  6.82s/it]"
          ]
        },
        {
          "output_type": "stream",
          "name": "stdout",
          "text": [
            "Training neural network ... Epoch 15/499\n",
            "Best test loss epoch: 13\n"
          ]
        },
        {
          "output_type": "stream",
          "name": "stderr",
          "text": [
            "\r  3%|▎         | 16/500 [01:47<53:45,  6.66s/it]"
          ]
        },
        {
          "output_type": "stream",
          "name": "stdout",
          "text": [
            "Training neural network ... Epoch 16/499\n",
            "Best test loss epoch: 13\n"
          ]
        },
        {
          "output_type": "stream",
          "name": "stderr",
          "text": [
            "\r  3%|▎         | 17/500 [01:54<55:23,  6.88s/it]"
          ]
        },
        {
          "output_type": "stream",
          "name": "stdout",
          "text": [
            "Training neural network ... Epoch 17/499\n",
            "Best test loss epoch: 13\n"
          ]
        },
        {
          "output_type": "stream",
          "name": "stderr",
          "text": [
            "\r  4%|▎         | 18/500 [02:00<53:34,  6.67s/it]"
          ]
        },
        {
          "output_type": "stream",
          "name": "stdout",
          "text": [
            "Training neural network ... Epoch 18/499\n",
            "Best test loss epoch: 13\n"
          ]
        },
        {
          "output_type": "stream",
          "name": "stderr",
          "text": [
            "\r  4%|▍         | 19/500 [02:08<54:39,  6.82s/it]"
          ]
        },
        {
          "output_type": "stream",
          "name": "stdout",
          "text": [
            "Training neural network ... Epoch 19/499\n",
            "Best test loss epoch: 13\n"
          ]
        },
        {
          "output_type": "stream",
          "name": "stderr",
          "text": [
            "\r  4%|▍         | 20/500 [02:13<51:51,  6.48s/it]"
          ]
        },
        {
          "output_type": "stream",
          "name": "stdout",
          "text": [
            "Training neural network ... Epoch 20/499\n",
            "Best test loss epoch: 13\n"
          ]
        },
        {
          "output_type": "stream",
          "name": "stderr",
          "text": [
            "\r  4%|▍         | 21/500 [02:20<52:39,  6.60s/it]"
          ]
        },
        {
          "output_type": "stream",
          "name": "stdout",
          "text": [
            "Training neural network ... Epoch 21/499\n",
            "Best test loss epoch: 13\n"
          ]
        },
        {
          "output_type": "stream",
          "name": "stderr",
          "text": [
            "\r  4%|▍         | 22/500 [02:26<51:15,  6.43s/it]"
          ]
        },
        {
          "output_type": "stream",
          "name": "stdout",
          "text": [
            "Training neural network ... Epoch 22/499\n",
            "Best test loss epoch: 13\n"
          ]
        },
        {
          "output_type": "stream",
          "name": "stderr",
          "text": [
            "\r  5%|▍         | 23/500 [02:33<51:40,  6.50s/it]"
          ]
        },
        {
          "output_type": "stream",
          "name": "stdout",
          "text": [
            "Training neural network ... Epoch 23/499\n",
            "Best test loss epoch: 13\n"
          ]
        },
        {
          "output_type": "stream",
          "name": "stderr",
          "text": [
            "\r  5%|▍         | 24/500 [02:39<51:15,  6.46s/it]"
          ]
        },
        {
          "output_type": "stream",
          "name": "stdout",
          "text": [
            "Training neural network ... Epoch 24/499\n",
            "Best test loss epoch: 13\n"
          ]
        },
        {
          "output_type": "stream",
          "name": "stderr",
          "text": [
            "\r  5%|▌         | 25/500 [02:45<50:34,  6.39s/it]"
          ]
        },
        {
          "output_type": "stream",
          "name": "stdout",
          "text": [
            "Training neural network ... Epoch 25/499\n",
            "Best test loss epoch: 13\n"
          ]
        },
        {
          "output_type": "stream",
          "name": "stderr",
          "text": [
            "\r  5%|▌         | 26/500 [02:52<51:20,  6.50s/it]"
          ]
        },
        {
          "output_type": "stream",
          "name": "stdout",
          "text": [
            "Training neural network ... Epoch 26/499\n",
            "Best test loss epoch: 13\n"
          ]
        },
        {
          "output_type": "stream",
          "name": "stderr",
          "text": [
            "\r  5%|▌         | 27/500 [02:58<49:58,  6.34s/it]"
          ]
        },
        {
          "output_type": "stream",
          "name": "stdout",
          "text": [
            "Training neural network ... Epoch 27/499\n",
            "Best test loss epoch: 13\n"
          ]
        },
        {
          "output_type": "stream",
          "name": "stderr",
          "text": [
            "\r  5%|▌         | 27/500 [03:06<54:21,  6.90s/it]"
          ]
        },
        {
          "output_type": "stream",
          "name": "stdout",
          "text": [
            "Early Stopping at epoch:  27\n",
            "Neural network training has finished. Elasped time 186.18\n",
            "Best model saved\n",
            "Best test loss epoch: 13\n"
          ]
        },
        {
          "output_type": "stream",
          "name": "stderr",
          "text": [
            "\n"
          ]
        },
        {
          "output_type": "stream",
          "name": "stdout",
          "text": [
            "Best model metrics: \n",
            "Accuracy: 1.0, Precision: 0.0, Recall: 0.0, F1 0.0\n",
            " Model training is completed. Elapsed time is 2618.5159730911255 secs\n",
            "[{'params': {'vectorization': 'cbow', 'criterion': 'BCEWithLogitsLoss', 'optimizer': 'Adam', 'batch_size': 500, 'num_workers': 2, 'lr': 0.0001, 'weight_decay': 0.0001, 'num_epochs': 500, 'tolerance': 0.0003, 'patience': 25}, 'train_losses': [0.2151183, 0.040450133, 0.014181741, 0.0072901724, 0.0046219206, 0.0032908188, 0.0024854816, 0.0019338508, 0.0015121502, 0.0011751264, 0.00090230495, 0.0006821491, 0.00051099586, 0.00038317242, 0.00029007846, 0.00022423445, 0.00017885548, 0.0001471081, 0.00012637905, 0.00011247876, 0.00010345554, 9.7379816e-05, 9.347996e-05, 9.083494e-05, 8.9704095e-05, 8.932929e-05, 8.917594e-05, 8.920434e-05, 8.9051784e-05, 8.922096e-05, 8.900023e-05, 8.908585e-05, 8.915258e-05, 8.9072906e-05], 'test_losses': [0.07348335, 0.02101534, 0.009444037, 0.0055368394, 0.0037630512, 0.0027781688, 0.0021399304, 0.0016741301, 0.0013077016, 0.0010110933, 0.0007718272, 0.0005779018, 0.00043297996, 0.0003273975, 0.00025040843, 0.00019705636, 0.00015856283, 0.00013385109, 0.000117136275, 0.00010672813, 9.936478e-05, 9.4285875e-05, 9.058068e-05, 8.886518e-05, 8.8836096e-05, 8.909905e-05, 8.900895e-05, 8.7685534e-05, 8.927038e-05, 8.6822285e-05, 8.829926e-05, 8.8433444e-05, 8.732135e-05, 8.7823624e-05], 'best_epoch': 29}, {'params': {'vectorization': 'cbow', 'criterion': 'BCEWithLogitsLoss', 'optimizer': 'Adam', 'batch_size': 500, 'num_workers': 2, 'lr': 0.0001, 'weight_decay': 0.001, 'num_epochs': 500, 'tolerance': 0.0003, 'patience': 25}, 'train_losses': [0.28322974, 0.06822296, 0.02536535, 0.013551363, 0.009100139, 0.0068928855, 0.0055183154, 0.00448664, 0.003646215, 0.002941803, 0.0023614708, 0.0019117338, 0.0015676736, 0.0013193727, 0.0011412817, 0.0010265745, 0.0009485244, 0.00090133614, 0.0008725347, 0.0008622317, 0.0008559544, 0.000854661, 0.00085327897, 0.0008547243, 0.0008523894, 0.00085349416, 0.0008525844, 0.0008525721, 0.00085283926, 0.00085296197, 0.0008516219, 0.00085347623, 0.0008519218, 0.0008520512, 0.0008534349, 0.0008524155, 0.00085303606], 'test_losses': [0.11610671, 0.03715757, 0.017203035, 0.010622248, 0.007694914, 0.006045116, 0.004900353, 0.003991321, 0.0032312067, 0.0025972275, 0.0021028097, 0.0017063589, 0.0014136091, 0.0011961616, 0.0010656833, 0.0009638579, 0.00091111596, 0.0008748263, 0.0008644746, 0.0008468926, 0.00084947725, 0.00084608974, 0.00085430575, 0.00084469287, 0.00085261156, 0.0008393894, 0.00084477407, 0.0008404431, 0.0008419618, 0.00084156956, 0.00085867057, 0.00083924195, 0.0008426623, 0.0008483062, 0.00084314594, 0.00083672744, 0.00083115493], 'best_epoch': 36}, {'params': {'vectorization': 'cbow', 'criterion': 'BCEWithLogitsLoss', 'optimizer': 'Adam', 'batch_size': 500, 'num_workers': 2, 'lr': 0.0005, 'weight_decay': 0.0001, 'num_epochs': 500, 'tolerance': 0.0003, 'patience': 25}, 'train_losses': [0.05015518, 0.0029360936, 0.0015373214, 0.00090768596, 0.000559329, 0.00036624234, 0.00026014843, 0.00019933497, 0.00016153867, 0.00013700264, 0.00011978409, 0.00010753332, 9.915707e-05, 9.393702e-05, 9.0605434e-05, 8.9436224e-05, 8.909286e-05, 8.9250854e-05, 8.890661e-05, 8.890583e-05, 8.881289e-05, 8.9180714e-05, 8.887619e-05, 8.88562e-05, 8.8960114e-05, 8.903533e-05, 8.8680354e-05, 8.8906054e-05, 8.899183e-05], 'test_losses': [0.004439263, 0.001965599, 0.0011380677, 0.00068605033, 0.0004349229, 0.0002979205, 0.00022166678, 0.00017548159, 0.00014702772, 0.00012710642, 0.00011114307, 0.00010118944, 9.719694e-05, 8.887969e-05, 8.7558474e-05, 8.7747256e-05, 9.1084796e-05, 8.7154236e-05, 8.8829314e-05, 9.003328e-05, 9.048683e-05, 8.627546e-05, 8.500049e-05, 9.2197086e-05, 9.094426e-05, 8.5068285e-05, 9.200366e-05, 8.862847e-05, 8.824628e-05], 'best_epoch': 22}, {'params': {'vectorization': 'cbow', 'criterion': 'BCEWithLogitsLoss', 'optimizer': 'Adam', 'batch_size': 500, 'num_workers': 2, 'lr': 0.0005, 'weight_decay': 0.001, 'num_epochs': 500, 'tolerance': 0.0003, 'patience': 25}, 'train_losses': [0.06671754, 0.0058808564, 0.0033950182, 0.0022224593, 0.001615138, 0.001281842, 0.0010895741, 0.0009774248, 0.000909828, 0.0008748445, 0.0008617029, 0.0008544495, 0.0008553728, 0.00085354544, 0.00085524336, 0.0008516932, 0.0008525887, 0.0008525666, 0.0008518251, 0.0008523426, 0.00085269904, 0.0008503289, 0.00085261825, 0.0008508592, 0.0008521256, 0.0008512212, 0.0008507682, 0.00085082126, 0.0008520027, 0.00085029466], 'test_losses': [0.00818833, 0.0042361114, 0.00265096, 0.0018353332, 0.0013978318, 0.001153741, 0.0010220762, 0.0009191485, 0.00088146847, 0.000863258, 0.0008317237, 0.0008625258, 0.0008322084, 0.00086708396, 0.0008174826, 0.0008463151, 0.0008513546, 0.0008558874, 0.0008633991, 0.0008497853, 0.0008069628, 0.0008582433, 0.00081077305, 0.0008379095, 0.00080553483, 0.0008202693, 0.0008335152, 0.00086256466, 0.000832337, 0.00085205137], 'best_epoch': 24}, {'params': {'vectorization': 'cbow', 'criterion': 'BCEWithLogitsLoss', 'optimizer': 'Adam', 'batch_size': 500, 'num_workers': 2, 'lr': 0.001, 'weight_decay': 0.0001, 'num_epochs': 500, 'tolerance': 0.0003, 'patience': 25}, 'train_losses': [0.033406347, 0.0016211761, 0.00072870014, 0.00038377626, 0.00024065842, 0.00017616396, 0.00014104693, 0.000120853554, 0.00010720582, 9.831847e-05, 9.3119554e-05, 9.0538895e-05, 8.962144e-05, 8.879382e-05, 8.904467e-05, 8.917193e-05, 8.8706984e-05, 8.890033e-05, 8.8886365e-05, 8.88546e-05, 8.8898654e-05, 8.892723e-05, 8.903026e-05, 8.888928e-05, 8.903317e-05, 8.890599e-05, 8.884723e-05, 8.903788e-05], 'test_losses': [0.0024499686, 0.0010098526, 0.00049569784, 0.0002879086, 0.00019908643, 0.00015210612, 0.00012887549, 0.00011154623, 0.000102440965, 9.455586e-05, 9.095151e-05, 8.707704e-05, 8.872655e-05, 9.225593e-05, 8.793603e-05, 8.1158694e-05, 8.837499e-05, 8.816541e-05, 9.188178e-05, 8.850776e-05, 8.945861e-05, 8.677092e-05, 8.4362895e-05, 8.615626e-05, 8.312866e-05, 8.5884625e-05, 8.862999e-05, 8.48957e-05], 'best_epoch': 15}, {'params': {'vectorization': 'cbow', 'criterion': 'BCEWithLogitsLoss', 'optimizer': 'Adam', 'batch_size': 500, 'num_workers': 2, 'lr': 0.001, 'weight_decay': 0.001, 'num_epochs': 500, 'tolerance': 0.0003, 'patience': 25}, 'train_losses': [0.04232648, 0.0033549774, 0.0018340285, 0.0013104378, 0.0010818931, 0.00095852534, 0.0008987958, 0.0008709732, 0.0008611708, 0.000858901, 0.0008577033, 0.0008571185, 0.00085606077, 0.00085623114, 0.0008551504, 0.00085691584, 0.0008549489, 0.0008558365, 0.00085446716, 0.00085373246, 0.0008551309, 0.00085495645, 0.00085372844, 0.0008531641, 0.0008544479, 0.0008531108, 0.00085434964, 0.00085287966, 0.00085336954], 'test_losses': [0.0048629944, 0.0022738194, 0.0014630356, 0.0011580524, 0.0009942877, 0.0009194287, 0.0008749284, 0.0008383191, 0.00084591, 0.0008614554, 0.0008314839, 0.00083605794, 0.0008350049, 0.00084275694, 0.0008533515, 0.00081780745, 0.00083394296, 0.0008446361, 0.00083918177, 0.0008791885, 0.00084072497, 0.0008613671, 0.000848652, 0.0008835948, 0.0008418558, 0.0008657396, 0.0008037902, 0.0008314959, 0.0008200362], 'best_epoch': 26}, {'params': {'vectorization': 'sg', 'criterion': 'BCEWithLogitsLoss', 'optimizer': 'Adam', 'batch_size': 500, 'num_workers': 2, 'lr': 0.0001, 'weight_decay': 0.0001, 'num_epochs': 500, 'tolerance': 0.0003, 'patience': 25}, 'train_losses': [0.2834194, 0.028866062, 0.010412968, 0.0060939905, 0.0044097244, 0.0035368917, 0.0029289227, 0.0023859001, 0.0019221007, 0.0015259567, 0.0011721702, 0.00087022607, 0.00062980247, 0.00045258776, 0.00032666733, 0.000239668, 0.0001804457, 0.00014094645, 0.000115201394, 9.8816636e-05, 8.876652e-05, 8.294417e-05, 8.0184676e-05, 7.900268e-05, 7.8114885e-05, 7.790944e-05, 7.786465e-05, 7.783542e-05, 7.7507226e-05, 7.734721e-05, 7.764203e-05, 7.728484e-05, 7.711778e-05, 7.7399185e-05, 7.700024e-05, 7.719079e-05], 'test_losses': [0.057202805, 0.014791755, 0.007439706, 0.0049810456, 0.0038565418, 0.0031645424, 0.0026032324, 0.0021110703, 0.0016870339, 0.0013156052, 0.0009929991, 0.00072637794, 0.00052239705, 0.00037655042, 0.00027408343, 0.00020345514, 0.00015616346, 0.00012540839, 0.00010484728, 9.184234e-05, 8.453374e-05, 8.120215e-05, 7.902495e-05, 7.763217e-05, 7.726211e-05, 7.717499e-05, 7.731293e-05, 7.683095e-05, 7.732047e-05, 7.745608e-05, 7.6228396e-05, 7.672796e-05, 7.731629e-05, 7.657686e-05, 7.7671546e-05, 7.739336e-05], 'best_epoch': 30}, {'params': {'vectorization': 'sg', 'criterion': 'BCEWithLogitsLoss', 'optimizer': 'Adam', 'batch_size': 500, 'num_workers': 2, 'lr': 0.0001, 'weight_decay': 0.001, 'num_epochs': 500, 'tolerance': 0.0003, 'patience': 25}, 'train_losses': [0.33414012, 0.038183738, 0.013176616, 0.008394835, 0.0065425034, 0.0054493197, 0.00460194, 0.0038628175, 0.0031985696, 0.0026027593, 0.00209592, 0.001685611, 0.001368385, 0.0011340384, 0.00096943456, 0.0008586502, 0.0007886956, 0.0007462503, 0.0007189227, 0.00070709205, 0.0007020587, 0.0007000754, 0.0006992581, 0.00069758797, 0.0006974646, 0.00069733936, 0.00069605303, 0.000696093, 0.0006965808, 0.0006952932, 0.0006958314, 0.00069575495, 0.0006961, 0.0006961699, 0.0006953027, 0.00069633994, 0.00069609657], 'test_losses': [0.081910774, 0.018343136, 0.009853469, 0.007207535, 0.0058776527, 0.0049582953, 0.004185818, 0.0034834584, 0.0028618413, 0.0023173974, 0.0018608097, 0.0015037678, 0.0012309948, 0.0010368143, 0.0009002203, 0.0008159043, 0.0007593797, 0.00072556356, 0.00071105093, 0.0007037399, 0.00069630425, 0.00069450925, 0.0006929193, 0.00069684524, 0.00069967465, 0.0006917849, 0.0006935663, 0.0006924601, 0.0006919026, 0.0006922993, 0.00069487805, 0.00069550116, 0.0006930831, 0.00069581036, 0.00069672463, 0.00069401396, 0.00069180125], 'best_epoch': 25}, {'params': {'vectorization': 'sg', 'criterion': 'BCEWithLogitsLoss', 'optimizer': 'Adam', 'batch_size': 500, 'num_workers': 2, 'lr': 0.0005, 'weight_decay': 0.0001, 'num_epochs': 500, 'tolerance': 0.0003, 'patience': 25}, 'train_losses': [0.07072851, 0.00376224, 0.0025728669, 0.001924535, 0.0012951817, 0.00069980824, 0.00037108554, 0.00022260418, 0.00015287798, 0.00011705108, 9.798897e-05, 8.7784974e-05, 8.28511e-05, 8.023987e-05, 7.9066565e-05, 7.9246005e-05, 7.8168756e-05, 7.810864e-05, 7.757119e-05, 7.7490084e-05, 7.727666e-05, 7.734771e-05, 7.718336e-05, 7.711051e-05, 7.716116e-05, 7.726042e-05, 7.71775e-05, 7.7393874e-05, 7.7144934e-05, 7.7217905e-05, 7.718737e-05], 'test_losses': [0.0050475392, 0.002926866, 0.0021885552, 0.0015918132, 0.0009440688, 0.00048500652, 0.0002729179, 0.00017751461, 0.0001294503, 0.000104416344, 9.126238e-05, 8.4327155e-05, 8.0438636e-05, 7.936782e-05, 7.896219e-05, 7.6077755e-05, 7.634353e-05, 7.570486e-05, 7.74092e-05, 7.683913e-05, 7.743162e-05, 7.564025e-05, 7.590809e-05, 7.726516e-05, 7.787234e-05, 7.748016e-05, 7.7700446e-05, 7.669394e-05, 7.670398e-05, 7.556021e-05, 7.6775104e-05], 'best_epoch': 29}, {'params': {'vectorization': 'sg', 'criterion': 'BCEWithLogitsLoss', 'optimizer': 'Adam', 'batch_size': 500, 'num_workers': 2, 'lr': 0.0005, 'weight_decay': 0.001, 'num_epochs': 500, 'tolerance': 0.0003, 'patience': 25}, 'train_losses': [0.062092382, 0.0033966983, 0.0019447188, 0.001296066, 0.00099168, 0.00084261043, 0.00076483993, 0.00072760193, 0.0007132617, 0.0007067612, 0.0007052159, 0.0007028718, 0.00070013374, 0.000699104, 0.0006975586, 0.0006962669, 0.000695949, 0.0006963103, 0.00069546956, 0.0006963451, 0.00069556903, 0.00069660816, 0.00069562293, 0.0006958955, 0.00069549045, 0.0006966261, 0.0006959871, 0.0006961677, 0.00069596287], 'test_losses': [0.004682421, 0.0024490354, 0.0015261504, 0.0010975315, 0.0008948525, 0.00078741804, 0.00074140704, 0.0007136289, 0.00070027204, 0.0007081425, 0.0006981723, 0.00069988787, 0.0007051847, 0.000697327, 0.000686022, 0.00069165387, 0.00069757475, 0.0006849066, 0.0006941777, 0.0006890892, 0.00069345214, 0.000688288, 0.0006949506, 0.0006904732, 0.0007035219, 0.0006845067, 0.0006843845, 0.00068596064, 0.00068311294], 'best_epoch': 28}, {'params': {'vectorization': 'sg', 'criterion': 'BCEWithLogitsLoss', 'optimizer': 'Adam', 'batch_size': 500, 'num_workers': 2, 'lr': 0.001, 'weight_decay': 0.0001, 'num_epochs': 500, 'tolerance': 0.0003, 'patience': 25}, 'train_losses': [0.0311885, 0.00195575, 0.0011919584, 0.0006954264, 0.00040759114, 0.00025631642, 0.00012867151, 8.344971e-05, 7.897577e-05, 7.851879e-05, 7.8295045e-05, 7.865106e-05, 7.812711e-05, 7.8130375e-05, 7.7959914e-05, 7.761913e-05, 7.752129e-05, 7.750862e-05, 7.704645e-05, 7.713258e-05, 7.730003e-05, 7.728517e-05, 7.72673e-05, 7.712306e-05, 7.725592e-05, 7.711362e-05, 7.7333774e-05, 7.7032106e-05, 7.733313e-05], 'test_losses': [0.0024614127, 0.0014995206, 0.0008874177, 0.0005148471, 0.00031102222, 0.00020522639, 8.969722e-05, 7.996491e-05, 7.81984e-05, 7.828641e-05, 7.966619e-05, 7.7497876e-05, 7.8810015e-05, 7.8030294e-05, 7.697605e-05, 7.77681e-05, 7.7627206e-05, 7.4506104e-05, 7.84194e-05, 7.878942e-05, 7.767919e-05, 7.627546e-05, 7.472059e-05, 7.69196e-05, 7.49905e-05, 7.644836e-05, 7.4512405e-05, 7.946279e-05, 7.550144e-05], 'best_epoch': 17}, {'params': {'vectorization': 'sg', 'criterion': 'BCEWithLogitsLoss', 'optimizer': 'Adam', 'batch_size': 500, 'num_workers': 2, 'lr': 0.001, 'weight_decay': 0.001, 'num_epochs': 500, 'tolerance': 0.0003, 'patience': 25}, 'train_losses': [0.030266467, 0.0025242306, 0.0012936395, 0.0008578898, 0.00074141973, 0.00071615237, 0.0007098729, 0.00070584787, 0.00070444134, 0.000702681, 0.0006993704, 0.0006980843, 0.00069657405, 0.00069677667, 0.00069537817, 0.00069573167, 0.00069662736, 0.00069561787, 0.00069617154, 0.00069566345, 0.0006964678, 0.0006961167, 0.0006956911, 0.0006958733, 0.00069624756, 0.0006960425, 0.000695824, 0.00069599715], 'test_losses': [0.0034966383, 0.0017369853, 0.0009797605, 0.00076659163, 0.00072450505, 0.0007065694, 0.0006987456, 0.0007034564, 0.00070892443, 0.0006917528, 0.0006938073, 0.00069221505, 0.00069951755, 0.0006820914, 0.00068818557, 0.00071241346, 0.00069116807, 0.0006988639, 0.00069347856, 0.0006969161, 0.0006851163, 0.00069515995, 0.0006983377, 0.0006916458, 0.0007011588, 0.0006879333, 0.00069360173, 0.00069576927], 'best_epoch': 13}]\n"
          ]
        }
      ]
    },
    {
      "cell_type": "markdown",
      "source": [
        "## Mlflow Experiment Retrieval and Data Preview"
      ],
      "metadata": {
        "id": "o0YCoI-03Ivw"
      }
    },
    {
      "cell_type": "code",
      "source": [
        "# Function to retrieve experiment data from MLflow and format it into a DataFrame\n",
        "def retrieve_experiments(id):\n",
        "    # Fetch all runs for the given experiment ID and convert it to a DataFrame\n",
        "    df = pd.DataFrame(mlflow.search_runs(experiment_ids=[id]))\n",
        "\n",
        "    # Select and rename the columns of interest\n",
        "    df = df[['run_id', 'params.vectorization', 'params.lr', 'params.tolerance', 'params.patience','params.weight_decay']]\n",
        "    df = df.rename(columns={\n",
        "        'run_id': 'Run ID', 'params.vectorization': 'Vectorization',\n",
        "        'params.lr': 'LR', 'params.tolerance': 'Tolerance', 'params.patience': 'Patience', 'params.weight_decay': 'Weight Decay'})\n",
        "    return df\n",
        "\n",
        "# Retrieve and display the experiment data, sorted by 'Best Loss'\n",
        "df_basic = retrieve_experiments(experiment_id)\n",
        "display(df_basic.sort_values(by='Best Loss', ascending=True))"
      ],
      "metadata": {
        "colab": {
          "base_uri": "https://localhost:8080/",
          "height": 339
        },
        "id": "ilUfSYbj16fe",
        "outputId": "d9618bfb-68f8-4b2b-b292-d5c73c72678a"
      },
      "execution_count": 39,
      "outputs": [
        {
          "output_type": "error",
          "ename": "KeyError",
          "evalue": "'Best Loss'",
          "traceback": [
            "\u001b[0;31m---------------------------------------------------------------------------\u001b[0m",
            "\u001b[0;31mKeyError\u001b[0m                                  Traceback (most recent call last)",
            "\u001b[0;32m<ipython-input-39-23e8ae7eb0c6>\u001b[0m in \u001b[0;36m<cell line: 0>\u001b[0;34m()\u001b[0m\n\u001b[1;32m     13\u001b[0m \u001b[0;31m# Retrieve and display the experiment data, sorted by 'Best Loss'\u001b[0m\u001b[0;34m\u001b[0m\u001b[0;34m\u001b[0m\u001b[0m\n\u001b[1;32m     14\u001b[0m \u001b[0mdf_basic\u001b[0m \u001b[0;34m=\u001b[0m \u001b[0mretrieve_experiments\u001b[0m\u001b[0;34m(\u001b[0m\u001b[0mexperiment_id\u001b[0m\u001b[0;34m)\u001b[0m\u001b[0;34m\u001b[0m\u001b[0;34m\u001b[0m\u001b[0m\n\u001b[0;32m---> 15\u001b[0;31m \u001b[0mdisplay\u001b[0m\u001b[0;34m(\u001b[0m\u001b[0mdf_basic\u001b[0m\u001b[0;34m.\u001b[0m\u001b[0msort_values\u001b[0m\u001b[0;34m(\u001b[0m\u001b[0mby\u001b[0m\u001b[0;34m=\u001b[0m\u001b[0;34m'Best Loss'\u001b[0m\u001b[0;34m,\u001b[0m \u001b[0mascending\u001b[0m\u001b[0;34m=\u001b[0m\u001b[0;32mTrue\u001b[0m\u001b[0;34m)\u001b[0m\u001b[0;34m)\u001b[0m\u001b[0;34m\u001b[0m\u001b[0;34m\u001b[0m\u001b[0m\n\u001b[0m",
            "\u001b[0;32m/usr/local/lib/python3.11/dist-packages/pandas/util/_decorators.py\u001b[0m in \u001b[0;36mwrapper\u001b[0;34m(*args, **kwargs)\u001b[0m\n\u001b[1;32m    329\u001b[0m                     \u001b[0mstacklevel\u001b[0m\u001b[0;34m=\u001b[0m\u001b[0mfind_stack_level\u001b[0m\u001b[0;34m(\u001b[0m\u001b[0;34m)\u001b[0m\u001b[0;34m,\u001b[0m\u001b[0;34m\u001b[0m\u001b[0;34m\u001b[0m\u001b[0m\n\u001b[1;32m    330\u001b[0m                 )\n\u001b[0;32m--> 331\u001b[0;31m             \u001b[0;32mreturn\u001b[0m \u001b[0mfunc\u001b[0m\u001b[0;34m(\u001b[0m\u001b[0;34m*\u001b[0m\u001b[0margs\u001b[0m\u001b[0;34m,\u001b[0m \u001b[0;34m**\u001b[0m\u001b[0mkwargs\u001b[0m\u001b[0;34m)\u001b[0m\u001b[0;34m\u001b[0m\u001b[0;34m\u001b[0m\u001b[0m\n\u001b[0m\u001b[1;32m    332\u001b[0m \u001b[0;34m\u001b[0m\u001b[0m\n\u001b[1;32m    333\u001b[0m         \u001b[0;31m# error: \"Callable[[VarArg(Any), KwArg(Any)], Any]\" has no\u001b[0m\u001b[0;34m\u001b[0m\u001b[0;34m\u001b[0m\u001b[0m\n",
            "\u001b[0;32m/usr/local/lib/python3.11/dist-packages/pandas/core/frame.py\u001b[0m in \u001b[0;36msort_values\u001b[0;34m(self, by, axis, ascending, inplace, kind, na_position, ignore_index, key)\u001b[0m\n\u001b[1;32m   6910\u001b[0m \u001b[0;34m\u001b[0m\u001b[0m\n\u001b[1;32m   6911\u001b[0m             \u001b[0mby\u001b[0m \u001b[0;34m=\u001b[0m \u001b[0mby\u001b[0m\u001b[0;34m[\u001b[0m\u001b[0;36m0\u001b[0m\u001b[0;34m]\u001b[0m\u001b[0;34m\u001b[0m\u001b[0;34m\u001b[0m\u001b[0m\n\u001b[0;32m-> 6912\u001b[0;31m             \u001b[0mk\u001b[0m \u001b[0;34m=\u001b[0m \u001b[0mself\u001b[0m\u001b[0;34m.\u001b[0m\u001b[0m_get_label_or_level_values\u001b[0m\u001b[0;34m(\u001b[0m\u001b[0mby\u001b[0m\u001b[0;34m,\u001b[0m \u001b[0maxis\u001b[0m\u001b[0;34m=\u001b[0m\u001b[0maxis\u001b[0m\u001b[0;34m)\u001b[0m\u001b[0;34m\u001b[0m\u001b[0;34m\u001b[0m\u001b[0m\n\u001b[0m\u001b[1;32m   6913\u001b[0m \u001b[0;34m\u001b[0m\u001b[0m\n\u001b[1;32m   6914\u001b[0m             \u001b[0;31m# need to rewrap column in Series to apply key function\u001b[0m\u001b[0;34m\u001b[0m\u001b[0;34m\u001b[0m\u001b[0m\n",
            "\u001b[0;32m/usr/local/lib/python3.11/dist-packages/pandas/core/generic.py\u001b[0m in \u001b[0;36m_get_label_or_level_values\u001b[0;34m(self, key, axis)\u001b[0m\n\u001b[1;32m   1848\u001b[0m             )\n\u001b[1;32m   1849\u001b[0m         \u001b[0;32melse\u001b[0m\u001b[0;34m:\u001b[0m\u001b[0;34m\u001b[0m\u001b[0;34m\u001b[0m\u001b[0m\n\u001b[0;32m-> 1850\u001b[0;31m             \u001b[0;32mraise\u001b[0m \u001b[0mKeyError\u001b[0m\u001b[0;34m(\u001b[0m\u001b[0mkey\u001b[0m\u001b[0;34m)\u001b[0m\u001b[0;34m\u001b[0m\u001b[0;34m\u001b[0m\u001b[0m\n\u001b[0m\u001b[1;32m   1851\u001b[0m \u001b[0;34m\u001b[0m\u001b[0m\n\u001b[1;32m   1852\u001b[0m         \u001b[0;31m# Check for duplicates\u001b[0m\u001b[0;34m\u001b[0m\u001b[0;34m\u001b[0m\u001b[0m\n",
            "\u001b[0;31mKeyError\u001b[0m: 'Best Loss'"
          ]
        }
      ]
    },
    {
      "cell_type": "code",
      "source": [],
      "metadata": {
        "id": "VhzoWAqg3QGZ"
      },
      "execution_count": null,
      "outputs": []
    }
  ]
}