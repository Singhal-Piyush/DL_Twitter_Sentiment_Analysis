{
 "cells": [
  {
   "cell_type": "markdown",
   "metadata": {
    "id": "Vd5B4aA2NSmP"
   },
   "source": [
    "# Twitter Sentiment Analysis\n",
    "\n",
    "## Notebook 3 : Deep Learning comparison of model ANN, LSTM and BERT"
   ]
  },
  {
   "cell_type": "code",
   "execution_count": null,
   "metadata": {
    "colab": {
     "base_uri": "https://localhost:8080/"
    },
    "id": "jlPBBpnePUxW",
    "outputId": "97ea92d3-1b65-4ba4-96dd-12b529206d62"
   },
   "outputs": [
    {
     "name": "stdout",
     "output_type": "stream",
     "text": [
      "\u001b[2K   \u001b[90m━━━━━━━━━━━━━━━━━━━━━━━━━━━━━━━━━━━━━━━━\u001b[0m \u001b[32m28.4/28.4 MB\u001b[0m \u001b[31m33.5 MB/s\u001b[0m eta \u001b[36m0:00:00\u001b[0m\n",
      "\u001b[2K   \u001b[90m━━━━━━━━━━━━━━━━━━━━━━━━━━━━━━━━━━━━━━━━\u001b[0m \u001b[32m6.0/6.0 MB\u001b[0m \u001b[31m55.6 MB/s\u001b[0m eta \u001b[36m0:00:00\u001b[0m\n",
      "\u001b[2K   \u001b[90m━━━━━━━━━━━━━━━━━━━━━━━━━━━━━━━━━━━━━━━━\u001b[0m \u001b[32m233.6/233.6 kB\u001b[0m \u001b[31m12.8 MB/s\u001b[0m eta \u001b[36m0:00:00\u001b[0m\n",
      "\u001b[2K   \u001b[90m━━━━━━━━━━━━━━━━━━━━━━━━━━━━━━━━━━━━━━━━\u001b[0m \u001b[32m147.8/147.8 kB\u001b[0m \u001b[31m5.1 MB/s\u001b[0m eta \u001b[36m0:00:00\u001b[0m\n",
      "\u001b[2K   \u001b[90m━━━━━━━━━━━━━━━━━━━━━━━━━━━━━━━━━━━━━━━━\u001b[0m \u001b[32m114.9/114.9 kB\u001b[0m \u001b[31m4.8 MB/s\u001b[0m eta \u001b[36m0:00:00\u001b[0m\n",
      "\u001b[2K   \u001b[90m━━━━━━━━━━━━━━━━━━━━━━━━━━━━━━━━━━━━━━━━\u001b[0m \u001b[32m85.0/85.0 kB\u001b[0m \u001b[31m5.2 MB/s\u001b[0m eta \u001b[36m0:00:00\u001b[0m\n",
      "\u001b[2K   \u001b[90m━━━━━━━━━━━━━━━━━━━━━━━━━━━━━━━━━━━━━━━━\u001b[0m \u001b[32m648.7/648.7 kB\u001b[0m \u001b[31m22.3 MB/s\u001b[0m eta \u001b[36m0:00:00\u001b[0m\n",
      "\u001b[2K   \u001b[90m━━━━━━━━━━━━━━━━━━━━━━━━━━━━━━━━━━━━━━━━\u001b[0m \u001b[32m203.4/203.4 kB\u001b[0m \u001b[31m8.8 MB/s\u001b[0m eta \u001b[36m0:00:00\u001b[0m\n",
      "\u001b[2K   \u001b[90m━━━━━━━━━━━━━━━━━━━━━━━━━━━━━━━━━━━━━━━━\u001b[0m \u001b[32m78.5/78.5 kB\u001b[0m \u001b[31m4.8 MB/s\u001b[0m eta \u001b[36m0:00:00\u001b[0m\n",
      "\u001b[?25h"
     ]
    }
   ],
   "source": [
    "# new library download\n",
    "\n",
    "# !pip install torch==2.0.0 --quiet\n",
    "# !pip install pytorch_lightning==2.2.0 --quiet\n",
    "# !pip install torchtext==0.15.1 --quiet\n",
    "# !pip install mlflow==2.9.0 --quiet\n",
    "# !pip install gensim==4.3.0 --quiet\n",
    "\n",
    "!pip install mlflow --quiet"
   ]
  },
  {
   "cell_type": "code",
   "execution_count": null,
   "metadata": {
    "id": "gnsSI7g1NLYp"
   },
   "outputs": [],
   "source": [
    "# Importing libraires for file and time operations\n",
    "import os\n",
    "import time\n",
    "import warnings\n",
    "warnings.filterwarnings('ignore', category=UserWarning, module=\"mlflow\")\n",
    "\n",
    "# Libraries for random number generation\n",
    "import random\n",
    "\n",
    "\n",
    "# Basic libraries\n",
    "import pandas as pd\n",
    "import numpy as np\n",
    "import seaborn as sns\n",
    "import matplotlib.pyplot as plt\n",
    "import matplotlib.ticker as ticker\n",
    "%matplotlib inline\n",
    "\n",
    "\n",
    "from itertools import product\n",
    "\n",
    "# library for experiment tracking\n",
    "import mlflow\n",
    "\n",
    "# Library for splitting data\n",
    "from sklearn.model_selection import train_test_split\n",
    "from sklearn.metrics import accuracy_score, precision_score, recall_score, f1_score, classification_report\n",
    "\n",
    "# libraries for Word2Vec\n",
    "# import gensim\n",
    "from gensim.models import Word2Vec\n",
    "\n",
    "# libraries for nltk\n",
    "# import nltk\n",
    "from nltk import tokenize\n",
    "from nltk.tokenize import WhitespaceTokenizer\n",
    "\n",
    "# Libraries for Deep Learning with PyTorch\n",
    "import torch\n",
    "from torch import nn, optim\n",
    "from torch.utils.data import Dataset, DataLoader, TensorDataset\n",
    "\n",
    "\n",
    "# Libraries for model evaluation metrics\n",
    "from sklearn.metrics import accuracy_score, precision_score, recall_score, f1_score\n",
    "\n",
    "# Library for clearing Jupyter Notebook cell output\n",
    "from IPython.display import clear_output"
   ]
  },
  {
   "cell_type": "markdown",
   "metadata": {
    "id": "gm2G1p1yUsJt"
   },
   "source": [
    "## Loading dataset"
   ]
  },
  {
   "cell_type": "code",
   "execution_count": null,
   "metadata": {
    "colab": {
     "base_uri": "https://localhost:8080/"
    },
    "id": "v-DyUEkpikw0",
    "outputId": "5fcb70fa-7400-4bb6-9733-e6b628587b58"
   },
   "outputs": [
    {
     "name": "stdout",
     "output_type": "stream",
     "text": [
      "Mounted at /content/drive\n"
     ]
    }
   ],
   "source": [
    "from google.colab import drive\n",
    "drive.mount('/content/drive')"
   ]
  },
  {
   "cell_type": "code",
   "execution_count": null,
   "metadata": {
    "id": "ysVvlgMJUrUs"
   },
   "outputs": [],
   "source": [
    "# copy files from google drive to google colab content\n",
    "\n",
    "# !cp '/content/drive/MyDrive/Twitter_Sentiment_Analysis_1/training_processed_data.csv' '/content/'\n",
    "# !cp '/content/drive/MyDrive/Twitter_Sentiment_Analysis_1/SKIP_Word2Vec.model' '/content/'\n",
    "# !cp '/content/drive/MyDrive/Twitter_Sentiment_Analysis_2/CBOW_Word2Vec.model' '/content/'"
   ]
  },
  {
   "cell_type": "code",
   "execution_count": null,
   "metadata": {
    "id": "GoAfZofKrwnT"
   },
   "outputs": [],
   "source": [
    "!cp \"/content/drive/MyDrive/Twitter_Sentiment_Analysis_21_02/CBOW_Word2Vec.model\" \"/content\"\n",
    "!cp \"/content/drive/MyDrive/Twitter_Sentiment_Analysis_21_02/training_processed_data_final_notebook1.csv\" \"/content/\""
   ]
  },
  {
   "cell_type": "code",
   "execution_count": null,
   "metadata": {
    "colab": {
     "base_uri": "https://localhost:8080/",
     "height": 206
    },
    "id": "2XHCqbzHVfPT",
    "outputId": "79082718-82be-430e-e097-8175b7886979"
   },
   "outputs": [
    {
     "data": {
      "application/vnd.google.colaboratory.intrinsic+json": {
       "summary": "{\n  \"name\": \"dataset\",\n  \"rows\": 5,\n  \"fields\": [\n    {\n      \"column\": \"target\",\n      \"properties\": {\n        \"dtype\": \"number\",\n        \"std\": 0,\n        \"min\": 0,\n        \"max\": 1,\n        \"num_unique_values\": 2,\n        \"samples\": [\n          1,\n          0\n        ],\n        \"semantic_type\": \"\",\n        \"description\": \"\"\n      }\n    },\n    {\n      \"column\": \"text\",\n      \"properties\": {\n        \"dtype\": \"string\",\n        \"num_unique_values\": 5,\n        \"samples\": [\n          \"manage unfollow block ppl block not disappear\",\n          \"fun miley let know like film song\"\n        ],\n        \"semantic_type\": \"\",\n        \"description\": \"\"\n      }\n    }\n  ]\n}",
       "type": "dataframe"
      },
      "text/html": [
       "\n",
       "  <div id=\"df-1cc94fdf-51f3-40ef-b32b-efee3ff04dec\" class=\"colab-df-container\">\n",
       "    <div>\n",
       "<style scoped>\n",
       "    .dataframe tbody tr th:only-of-type {\n",
       "        vertical-align: middle;\n",
       "    }\n",
       "\n",
       "    .dataframe tbody tr th {\n",
       "        vertical-align: top;\n",
       "    }\n",
       "\n",
       "    .dataframe thead th {\n",
       "        text-align: right;\n",
       "    }\n",
       "</style>\n",
       "<table border=\"1\" class=\"dataframe\">\n",
       "  <thead>\n",
       "    <tr style=\"text-align: right;\">\n",
       "      <th></th>\n",
       "      <th>target</th>\n",
       "      <th>text</th>\n",
       "    </tr>\n",
       "  </thead>\n",
       "  <tbody>\n",
       "    <tr>\n",
       "      <th>179669</th>\n",
       "      <td>0</td>\n",
       "      <td>try mechduel login work</td>\n",
       "    </tr>\n",
       "    <tr>\n",
       "      <th>742421</th>\n",
       "      <td>0</td>\n",
       "      <td>manage unfollow block ppl block not disappear</td>\n",
       "    </tr>\n",
       "    <tr>\n",
       "      <th>1072188</th>\n",
       "      <td>1</td>\n",
       "      <td>yay check music demand everyday check today go...</td>\n",
       "    </tr>\n",
       "    <tr>\n",
       "      <th>416892</th>\n",
       "      <td>0</td>\n",
       "      <td>yeah salt water pool think lost cause</td>\n",
       "    </tr>\n",
       "    <tr>\n",
       "      <th>1464699</th>\n",
       "      <td>1</td>\n",
       "      <td>fun miley let know like film song</td>\n",
       "    </tr>\n",
       "  </tbody>\n",
       "</table>\n",
       "</div>\n",
       "    <div class=\"colab-df-buttons\">\n",
       "\n",
       "  <div class=\"colab-df-container\">\n",
       "    <button class=\"colab-df-convert\" onclick=\"convertToInteractive('df-1cc94fdf-51f3-40ef-b32b-efee3ff04dec')\"\n",
       "            title=\"Convert this dataframe to an interactive table.\"\n",
       "            style=\"display:none;\">\n",
       "\n",
       "  <svg xmlns=\"http://www.w3.org/2000/svg\" height=\"24px\" viewBox=\"0 -960 960 960\">\n",
       "    <path d=\"M120-120v-720h720v720H120Zm60-500h600v-160H180v160Zm220 220h160v-160H400v160Zm0 220h160v-160H400v160ZM180-400h160v-160H180v160Zm440 0h160v-160H620v160ZM180-180h160v-160H180v160Zm440 0h160v-160H620v160Z\"/>\n",
       "  </svg>\n",
       "    </button>\n",
       "\n",
       "  <style>\n",
       "    .colab-df-container {\n",
       "      display:flex;\n",
       "      gap: 12px;\n",
       "    }\n",
       "\n",
       "    .colab-df-convert {\n",
       "      background-color: #E8F0FE;\n",
       "      border: none;\n",
       "      border-radius: 50%;\n",
       "      cursor: pointer;\n",
       "      display: none;\n",
       "      fill: #1967D2;\n",
       "      height: 32px;\n",
       "      padding: 0 0 0 0;\n",
       "      width: 32px;\n",
       "    }\n",
       "\n",
       "    .colab-df-convert:hover {\n",
       "      background-color: #E2EBFA;\n",
       "      box-shadow: 0px 1px 2px rgba(60, 64, 67, 0.3), 0px 1px 3px 1px rgba(60, 64, 67, 0.15);\n",
       "      fill: #174EA6;\n",
       "    }\n",
       "\n",
       "    .colab-df-buttons div {\n",
       "      margin-bottom: 4px;\n",
       "    }\n",
       "\n",
       "    [theme=dark] .colab-df-convert {\n",
       "      background-color: #3B4455;\n",
       "      fill: #D2E3FC;\n",
       "    }\n",
       "\n",
       "    [theme=dark] .colab-df-convert:hover {\n",
       "      background-color: #434B5C;\n",
       "      box-shadow: 0px 1px 3px 1px rgba(0, 0, 0, 0.15);\n",
       "      filter: drop-shadow(0px 1px 2px rgba(0, 0, 0, 0.3));\n",
       "      fill: #FFFFFF;\n",
       "    }\n",
       "  </style>\n",
       "\n",
       "    <script>\n",
       "      const buttonEl =\n",
       "        document.querySelector('#df-1cc94fdf-51f3-40ef-b32b-efee3ff04dec button.colab-df-convert');\n",
       "      buttonEl.style.display =\n",
       "        google.colab.kernel.accessAllowed ? 'block' : 'none';\n",
       "\n",
       "      async function convertToInteractive(key) {\n",
       "        const element = document.querySelector('#df-1cc94fdf-51f3-40ef-b32b-efee3ff04dec');\n",
       "        const dataTable =\n",
       "          await google.colab.kernel.invokeFunction('convertToInteractive',\n",
       "                                                    [key], {});\n",
       "        if (!dataTable) return;\n",
       "\n",
       "        const docLinkHtml = 'Like what you see? Visit the ' +\n",
       "          '<a target=\"_blank\" href=https://colab.research.google.com/notebooks/data_table.ipynb>data table notebook</a>'\n",
       "          + ' to learn more about interactive tables.';\n",
       "        element.innerHTML = '';\n",
       "        dataTable['output_type'] = 'display_data';\n",
       "        await google.colab.output.renderOutput(dataTable, element);\n",
       "        const docLink = document.createElement('div');\n",
       "        docLink.innerHTML = docLinkHtml;\n",
       "        element.appendChild(docLink);\n",
       "      }\n",
       "    </script>\n",
       "  </div>\n",
       "\n",
       "\n",
       "<div id=\"df-b4cf23e3-8e88-4071-9ee7-d3306d7a2bb0\">\n",
       "  <button class=\"colab-df-quickchart\" onclick=\"quickchart('df-b4cf23e3-8e88-4071-9ee7-d3306d7a2bb0')\"\n",
       "            title=\"Suggest charts\"\n",
       "            style=\"display:none;\">\n",
       "\n",
       "<svg xmlns=\"http://www.w3.org/2000/svg\" height=\"24px\"viewBox=\"0 0 24 24\"\n",
       "     width=\"24px\">\n",
       "    <g>\n",
       "        <path d=\"M19 3H5c-1.1 0-2 .9-2 2v14c0 1.1.9 2 2 2h14c1.1 0 2-.9 2-2V5c0-1.1-.9-2-2-2zM9 17H7v-7h2v7zm4 0h-2V7h2v10zm4 0h-2v-4h2v4z\"/>\n",
       "    </g>\n",
       "</svg>\n",
       "  </button>\n",
       "\n",
       "<style>\n",
       "  .colab-df-quickchart {\n",
       "      --bg-color: #E8F0FE;\n",
       "      --fill-color: #1967D2;\n",
       "      --hover-bg-color: #E2EBFA;\n",
       "      --hover-fill-color: #174EA6;\n",
       "      --disabled-fill-color: #AAA;\n",
       "      --disabled-bg-color: #DDD;\n",
       "  }\n",
       "\n",
       "  [theme=dark] .colab-df-quickchart {\n",
       "      --bg-color: #3B4455;\n",
       "      --fill-color: #D2E3FC;\n",
       "      --hover-bg-color: #434B5C;\n",
       "      --hover-fill-color: #FFFFFF;\n",
       "      --disabled-bg-color: #3B4455;\n",
       "      --disabled-fill-color: #666;\n",
       "  }\n",
       "\n",
       "  .colab-df-quickchart {\n",
       "    background-color: var(--bg-color);\n",
       "    border: none;\n",
       "    border-radius: 50%;\n",
       "    cursor: pointer;\n",
       "    display: none;\n",
       "    fill: var(--fill-color);\n",
       "    height: 32px;\n",
       "    padding: 0;\n",
       "    width: 32px;\n",
       "  }\n",
       "\n",
       "  .colab-df-quickchart:hover {\n",
       "    background-color: var(--hover-bg-color);\n",
       "    box-shadow: 0 1px 2px rgba(60, 64, 67, 0.3), 0 1px 3px 1px rgba(60, 64, 67, 0.15);\n",
       "    fill: var(--button-hover-fill-color);\n",
       "  }\n",
       "\n",
       "  .colab-df-quickchart-complete:disabled,\n",
       "  .colab-df-quickchart-complete:disabled:hover {\n",
       "    background-color: var(--disabled-bg-color);\n",
       "    fill: var(--disabled-fill-color);\n",
       "    box-shadow: none;\n",
       "  }\n",
       "\n",
       "  .colab-df-spinner {\n",
       "    border: 2px solid var(--fill-color);\n",
       "    border-color: transparent;\n",
       "    border-bottom-color: var(--fill-color);\n",
       "    animation:\n",
       "      spin 1s steps(1) infinite;\n",
       "  }\n",
       "\n",
       "  @keyframes spin {\n",
       "    0% {\n",
       "      border-color: transparent;\n",
       "      border-bottom-color: var(--fill-color);\n",
       "      border-left-color: var(--fill-color);\n",
       "    }\n",
       "    20% {\n",
       "      border-color: transparent;\n",
       "      border-left-color: var(--fill-color);\n",
       "      border-top-color: var(--fill-color);\n",
       "    }\n",
       "    30% {\n",
       "      border-color: transparent;\n",
       "      border-left-color: var(--fill-color);\n",
       "      border-top-color: var(--fill-color);\n",
       "      border-right-color: var(--fill-color);\n",
       "    }\n",
       "    40% {\n",
       "      border-color: transparent;\n",
       "      border-right-color: var(--fill-color);\n",
       "      border-top-color: var(--fill-color);\n",
       "    }\n",
       "    60% {\n",
       "      border-color: transparent;\n",
       "      border-right-color: var(--fill-color);\n",
       "    }\n",
       "    80% {\n",
       "      border-color: transparent;\n",
       "      border-right-color: var(--fill-color);\n",
       "      border-bottom-color: var(--fill-color);\n",
       "    }\n",
       "    90% {\n",
       "      border-color: transparent;\n",
       "      border-bottom-color: var(--fill-color);\n",
       "    }\n",
       "  }\n",
       "</style>\n",
       "\n",
       "  <script>\n",
       "    async function quickchart(key) {\n",
       "      const quickchartButtonEl =\n",
       "        document.querySelector('#' + key + ' button');\n",
       "      quickchartButtonEl.disabled = true;  // To prevent multiple clicks.\n",
       "      quickchartButtonEl.classList.add('colab-df-spinner');\n",
       "      try {\n",
       "        const charts = await google.colab.kernel.invokeFunction(\n",
       "            'suggestCharts', [key], {});\n",
       "      } catch (error) {\n",
       "        console.error('Error during call to suggestCharts:', error);\n",
       "      }\n",
       "      quickchartButtonEl.classList.remove('colab-df-spinner');\n",
       "      quickchartButtonEl.classList.add('colab-df-quickchart-complete');\n",
       "    }\n",
       "    (() => {\n",
       "      let quickchartButtonEl =\n",
       "        document.querySelector('#df-b4cf23e3-8e88-4071-9ee7-d3306d7a2bb0 button');\n",
       "      quickchartButtonEl.style.display =\n",
       "        google.colab.kernel.accessAllowed ? 'block' : 'none';\n",
       "    })();\n",
       "  </script>\n",
       "</div>\n",
       "\n",
       "    </div>\n",
       "  </div>\n"
      ],
      "text/plain": [
       "         target                                               text\n",
       "179669        0                            try mechduel login work\n",
       "742421        0      manage unfollow block ppl block not disappear\n",
       "1072188       1  yay check music demand everyday check today go...\n",
       "416892        0              yeah salt water pool think lost cause\n",
       "1464699       1                  fun miley let know like film song"
      ]
     },
     "execution_count": 11,
     "metadata": {},
     "output_type": "execute_result"
    }
   ],
   "source": [
    "# Load the dataset\n",
    "\n",
    "dataset_1 = pd.read_csv('training_processed_data_final_notebook1.csv')\n",
    "dataset = dataset_1.sample(500000)\n",
    "dataset.sample(5)"
   ]
  },
  {
   "cell_type": "code",
   "execution_count": null,
   "metadata": {
    "colab": {
     "base_uri": "https://localhost:8080/",
     "height": 178
    },
    "id": "DEbcBA2fbLUW",
    "outputId": "01a630c9-6b2d-4bda-ac21-b418d2f47503"
   },
   "outputs": [
    {
     "data": {
      "text/html": [
       "<div>\n",
       "<style scoped>\n",
       "    .dataframe tbody tr th:only-of-type {\n",
       "        vertical-align: middle;\n",
       "    }\n",
       "\n",
       "    .dataframe tbody tr th {\n",
       "        vertical-align: top;\n",
       "    }\n",
       "\n",
       "    .dataframe thead th {\n",
       "        text-align: right;\n",
       "    }\n",
       "</style>\n",
       "<table border=\"1\" class=\"dataframe\">\n",
       "  <thead>\n",
       "    <tr style=\"text-align: right;\">\n",
       "      <th></th>\n",
       "      <th>count</th>\n",
       "    </tr>\n",
       "    <tr>\n",
       "      <th>target</th>\n",
       "      <th></th>\n",
       "    </tr>\n",
       "  </thead>\n",
       "  <tbody>\n",
       "    <tr>\n",
       "      <th>1</th>\n",
       "      <td>100313</td>\n",
       "    </tr>\n",
       "    <tr>\n",
       "      <th>0</th>\n",
       "      <td>99687</td>\n",
       "    </tr>\n",
       "  </tbody>\n",
       "</table>\n",
       "</div><br><label><b>dtype:</b> int64</label>"
      ],
      "text/plain": [
       "target\n",
       "1    100313\n",
       "0     99687\n",
       "Name: count, dtype: int64"
      ]
     },
     "execution_count": 12,
     "metadata": {},
     "output_type": "execute_result"
    }
   ],
   "source": [
    "dataset.target.value_counts()"
   ]
  },
  {
   "cell_type": "code",
   "execution_count": null,
   "metadata": {
    "colab": {
     "base_uri": "https://localhost:8080/",
     "height": 147
    },
    "id": "gmPTqWP2lh9g",
    "outputId": "ffaeec4d-466b-4891-db08-ffd32291bb98"
   },
   "outputs": [
    {
     "data": {
      "text/html": [
       "<div>\n",
       "<style scoped>\n",
       "    .dataframe tbody tr th:only-of-type {\n",
       "        vertical-align: middle;\n",
       "    }\n",
       "\n",
       "    .dataframe tbody tr th {\n",
       "        vertical-align: top;\n",
       "    }\n",
       "\n",
       "    .dataframe thead th {\n",
       "        text-align: right;\n",
       "    }\n",
       "</style>\n",
       "<table border=\"1\" class=\"dataframe\">\n",
       "  <thead>\n",
       "    <tr style=\"text-align: right;\">\n",
       "      <th></th>\n",
       "      <th>0</th>\n",
       "    </tr>\n",
       "  </thead>\n",
       "  <tbody>\n",
       "    <tr>\n",
       "      <th>target</th>\n",
       "      <td>0</td>\n",
       "    </tr>\n",
       "    <tr>\n",
       "      <th>text</th>\n",
       "      <td>0</td>\n",
       "    </tr>\n",
       "  </tbody>\n",
       "</table>\n",
       "</div><br><label><b>dtype:</b> int64</label>"
      ],
      "text/plain": [
       "target    0\n",
       "text      0\n",
       "dtype: int64"
      ]
     },
     "execution_count": 13,
     "metadata": {},
     "output_type": "execute_result"
    }
   ],
   "source": [
    "dataset.dropna(axis = 0, how = \"any\", inplace = True)\n",
    "dataset.isnull().sum()"
   ]
  },
  {
   "cell_type": "code",
   "execution_count": null,
   "metadata": {
    "colab": {
     "base_uri": "https://localhost:8080/"
    },
    "id": "6et7z9JVQKRH",
    "outputId": "ae81eee4-50ca-4609-9d18-b1f6f5db2c65"
   },
   "outputs": [
    {
     "name": "stdout",
     "output_type": "stream",
     "text": [
      "<class 'pandas.core.frame.DataFrame'>\n",
      "Index: 200000 entries, 495382 to 1463466\n",
      "Data columns (total 2 columns):\n",
      " #   Column  Non-Null Count   Dtype \n",
      "---  ------  --------------   ----- \n",
      " 0   target  200000 non-null  int64 \n",
      " 1   text    200000 non-null  object\n",
      "dtypes: int64(1), object(1)\n",
      "memory usage: 20.7 MB\n"
     ]
    }
   ],
   "source": [
    "dataset.info(memory_usage = 'deep')"
   ]
  },
  {
   "cell_type": "code",
   "execution_count": null,
   "metadata": {
    "colab": {
     "base_uri": "https://localhost:8080/",
     "height": 178
    },
    "id": "70dC4FfeJtq6",
    "outputId": "2b01ce0e-96b9-4577-e143-4b9f7d0b741d"
   },
   "outputs": [
    {
     "data": {
      "text/html": [
       "<div>\n",
       "<style scoped>\n",
       "    .dataframe tbody tr th:only-of-type {\n",
       "        vertical-align: middle;\n",
       "    }\n",
       "\n",
       "    .dataframe tbody tr th {\n",
       "        vertical-align: top;\n",
       "    }\n",
       "\n",
       "    .dataframe thead th {\n",
       "        text-align: right;\n",
       "    }\n",
       "</style>\n",
       "<table border=\"1\" class=\"dataframe\">\n",
       "  <thead>\n",
       "    <tr style=\"text-align: right;\">\n",
       "      <th></th>\n",
       "      <th>count</th>\n",
       "    </tr>\n",
       "    <tr>\n",
       "      <th>target</th>\n",
       "      <th></th>\n",
       "    </tr>\n",
       "  </thead>\n",
       "  <tbody>\n",
       "    <tr>\n",
       "      <th>1</th>\n",
       "      <td>100313</td>\n",
       "    </tr>\n",
       "    <tr>\n",
       "      <th>0</th>\n",
       "      <td>99687</td>\n",
       "    </tr>\n",
       "  </tbody>\n",
       "</table>\n",
       "</div><br><label><b>dtype:</b> int64</label>"
      ],
      "text/plain": [
       "target\n",
       "1    100313\n",
       "0     99687\n",
       "Name: count, dtype: int64"
      ]
     },
     "execution_count": 15,
     "metadata": {},
     "output_type": "execute_result"
    }
   ],
   "source": [
    "dataset['target'].value_counts()"
   ]
  },
  {
   "cell_type": "markdown",
   "metadata": {
    "id": "ggisHkxhlAwh"
   },
   "source": [
    "## Load Pretrained Models"
   ]
  },
  {
   "cell_type": "code",
   "execution_count": null,
   "metadata": {
    "id": "FxvzxCI7k93e"
   },
   "outputs": [],
   "source": [
    "# Define the path to the pre-trained Word2Vec models\n",
    "cbow_path = '/content/CBOW_Word2Vec.model'\n",
    "# sg_path = '/content/SKIP_Word2Vec.model'\n",
    "\n",
    "# Load the models in the memory\n",
    "cbow = Word2Vec.load(cbow_path)\n",
    "# sg = Word2Vec.load(sg_path)"
   ]
  },
  {
   "cell_type": "markdown",
   "metadata": {
    "id": "GG9hc94mh77X"
   },
   "source": [
    "## Setting the seed for reproducibility"
   ]
  },
  {
   "cell_type": "code",
   "execution_count": null,
   "metadata": {
    "id": "_wALs6gmh_ZK"
   },
   "outputs": [],
   "source": [
    "def set_seed(seed_value):\n",
    "  # set python's random seed\n",
    "  random.seed(seed_value)\n",
    "\n",
    "  # set numpy's random seed\n",
    "  np.random.seed(seed_value)\n",
    "\n",
    "  os.environ['PYTHONHASHSEED'] = str(seed_value)\n",
    "  # set Pytorch;s CPU seed\n",
    "  torch.manual_seed(seed_value)\n",
    "  # Set CuDNN deterministic mode (for further reproducibility)\n",
    "  torch.backends.cudnn.deterministic = True\n",
    "  torch.backends.cudnn.benchmark = False\n",
    "\n",
    "  # Set generator for torch\n",
    "  generator = torch.Generator().manual_seed(seed_value)\n",
    "  # Set PyTorch's GPU seed (if available)\n",
    "  if torch.cuda.is_available():\n",
    "    torch.cuda.manual_seed(seed_value)\n",
    "    torch.cuda.manual_seed_all(seed_value)\n",
    "\n",
    "set_seed(42)"
   ]
  },
  {
   "cell_type": "markdown",
   "metadata": {
    "id": "97rglpu8iydO"
   },
   "source": [
    "## Setting up the computational Device"
   ]
  },
  {
   "cell_type": "code",
   "execution_count": null,
   "metadata": {
    "colab": {
     "base_uri": "https://localhost:8080/"
    },
    "id": "l8E6DGz3i1TZ",
    "outputId": "55daa1e7-a4cf-4a2c-8548-e56b4d83bc4b"
   },
   "outputs": [
    {
     "name": "stdout",
     "output_type": "stream",
     "text": [
      "No GPU available, using the CPU instead.\n"
     ]
    }
   ],
   "source": [
    "# Choose GPU if available, otherwise use CPU and print the device being used\n",
    "if torch.cuda.is_available():\n",
    "    device = torch.device(\"cuda\")     # Use GPU\n",
    "    print(f'There are {torch.cuda.device_count()} GPUs available.')\n",
    "    print(f\"Device select for training : {torch.cuda.get_device_name(0)}\")\n",
    "else:\n",
    "    device = torch.device(\"cpu\")      # Use CPU\n",
    "    print(\"No GPU available, using the CPU instead.\")"
   ]
  },
  {
   "cell_type": "markdown",
   "metadata": {
    "id": "nXs9AF8-mSNT"
   },
   "source": [
    "## Make Custom Pytorch Dataset"
   ]
  },
  {
   "cell_type": "code",
   "execution_count": null,
   "metadata": {
    "id": "0JtSa-gzxWq-"
   },
   "outputs": [],
   "source": [
    "# import library\n",
    "\n",
    "# from torchtext.data.utils import get_tokenizer\n",
    "\n",
    "# initiate the torctext tokenizer\n",
    "tokenizer = WhitespaceTokenizer()"
   ]
  },
  {
   "cell_type": "code",
   "execution_count": null,
   "metadata": {
    "id": "mp-ZVxmVn7r8"
   },
   "outputs": [],
   "source": [
    "# make a custom pytorch dataset\n",
    "class TwitterDataset(Dataset):\n",
    "  def __init__(self, df,word2vec_model, is_test = False):\n",
    "    self.df = df\n",
    "    self.is_test = is_test\n",
    "    self.word2vec_model = word2vec_model\n",
    "\n",
    "  def __getitem__(self, index):\n",
    "    tweet_text = self.df.iloc[index]['text']\n",
    "    tweet_tokens = tokenizer.tokenize(tweet_text)\n",
    "\n",
    "    word_vectors =[self.word2vec_model.wv[word] for word in tweet_tokens if word in self.word2vec_model.wv]\n",
    "\n",
    "    if len(word_vectors) == 0:\n",
    "      input = torch.zeros(200)\n",
    "    else:\n",
    "      input = torch.tensor(np.mean(word_vectors, axis =0), dtype = torch.float32)\n",
    "\n",
    "\n",
    "    # if self.is_test:\n",
    "    #   target = torch.tensor([0], dtype = torch.float32)\n",
    "    # else:\n",
    "    target = torch.tensor([self.df.iloc[index]['target']], dtype = torch.float32)\n",
    "\n",
    "    return input, target\n",
    "\n",
    "  def __len__(self):\n",
    "    return len(self.df)"
   ]
  },
  {
   "cell_type": "code",
   "execution_count": null,
   "metadata": {
    "colab": {
     "base_uri": "https://localhost:8080/"
    },
    "id": "8ljg4Bi1SYfr",
    "outputId": "bcc9fb42-e8fa-498f-abd1-1a28e234ac49"
   },
   "outputs": [
    {
     "name": "stdout",
     "output_type": "stream",
     "text": [
      "(tensor([ 0.1510,  0.2706, -0.3286, -0.7194, -0.1016,  0.1943,  1.1487,  0.2002,\n",
      "        -0.1133,  0.3143, -0.2446,  0.3675, -0.1181, -0.1555,  0.1643,  0.5242,\n",
      "        -0.0223, -0.3667, -0.1079, -0.5060, -0.2498, -0.8101,  0.4925, -0.1537,\n",
      "        -0.1921,  0.0192,  0.2448, -0.4701, -0.5714, -0.1860, -0.1345, -0.0324,\n",
      "         0.1451,  0.0474, -0.3891, -0.2404,  0.5103,  0.4034, -0.0331, -0.0614,\n",
      "         0.1175,  0.4099, -0.1469,  0.3396,  0.0602, -0.0482,  0.1601, -0.2641,\n",
      "         0.2016,  0.0584, -0.4639, -0.0509,  0.8684, -0.3144,  0.3643, -0.5611,\n",
      "         0.8167, -0.1006, -0.6634,  0.4602,  0.8861, -0.4066,  0.9251,  0.5964,\n",
      "         0.3996,  0.4635,  0.4551, -0.4037, -0.0280, -0.2076, -0.3669, -0.4207,\n",
      "         0.3066,  0.0619, -0.3195, -0.5156, -0.2353, -0.1007, -1.0384, -0.4465,\n",
      "        -0.2622, -0.0974, -0.0077, -0.8847, -0.4561,  0.1720,  0.2126, -0.6543,\n",
      "        -0.3456, -0.2588,  0.3787, -0.3825,  0.4006,  0.5429,  0.0013, -0.1688,\n",
      "        -0.4389,  0.1415, -0.3408, -0.3209, -0.3068,  0.3583,  0.0406,  0.3067,\n",
      "         0.3718, -0.3544, -0.2030,  0.3904, -0.0176, -0.3063, -0.0452, -0.1149,\n",
      "        -0.6774, -0.5316, -0.8495,  0.1095, -0.2325, -0.2358, -0.0777, -0.4447,\n",
      "         0.0043, -0.2432,  0.1784,  0.6401,  0.2864, -0.2279, -0.6415, -0.5787,\n",
      "        -0.1917,  0.5258, -0.6702, -0.1867, -0.3072, -0.2909, -0.4150, -0.0107,\n",
      "         0.6167,  0.0273,  0.4234, -0.4785, -0.3435, -0.4024,  0.8388, -0.1227,\n",
      "         1.1690,  0.0263,  0.1485,  0.4267,  0.0668,  0.4118,  0.1387, -0.3635,\n",
      "        -0.6457,  0.2357, -0.0828, -0.2810, -0.5196,  0.0559,  0.7474, -0.6773,\n",
      "         0.0013, -0.6368,  0.3234, -0.0353, -0.4623, -0.7795,  0.0142, -0.3415,\n",
      "         0.3667, -0.4447,  0.1039, -0.7925, -0.3170, -0.5183,  0.2203, -0.5359,\n",
      "        -0.0439, -0.6290, -0.6758, -0.0749, -0.5316, -0.0988,  0.1457,  0.2354,\n",
      "         0.4673, -0.1675,  0.2297, -0.0230, -0.1768,  0.0035,  0.0433, -0.3796,\n",
      "        -0.1228,  0.5941, -0.3176,  0.4265,  0.4863,  0.2115, -0.8959,  0.3907]), tensor([1.]))\n"
     ]
    }
   ],
   "source": [
    "#Experiment\n",
    "\n",
    "\n",
    "temp_1 = dataset[:5]\n",
    "\n",
    "temp_2 = TwitterDataset(temp_1, word2vec_model = cbow,is_test = False)\n",
    "print(temp_2[3])"
   ]
  },
  {
   "cell_type": "markdown",
   "metadata": {
    "id": "U8UUeUCxVqxk"
   },
   "source": [
    "## Splitting the data into Train and Test data"
   ]
  },
  {
   "cell_type": "code",
   "execution_count": null,
   "metadata": {
    "id": "3K_E4PIwYJVA"
   },
   "outputs": [],
   "source": [
    "# import random split from pytorch\n",
    "from torch.utils.data import DataLoader\n",
    "from sklearn.model_selection import train_test_split"
   ]
  },
  {
   "cell_type": "code",
   "execution_count": null,
   "metadata": {
    "id": "SCJ4wEBfDqcd"
   },
   "outputs": [],
   "source": []
  },
  {
   "cell_type": "code",
   "execution_count": null,
   "metadata": {
    "colab": {
     "base_uri": "https://localhost:8080/"
    },
    "id": "QLG6hq5BYVxg",
    "outputId": "abd41975-a9a9-4e1a-e443-ee2efbb740ee"
   },
   "outputs": [
    {
     "name": "stdout",
     "output_type": "stream",
     "text": [
      "140000 40000 20000\n"
     ]
    }
   ],
   "source": [
    "# Length of the split\n",
    "TRAIN_SIZE = int(0.7*len(dataset))\n",
    "VAL_SIZE = int(0.2*len(dataset))\n",
    "TEST_SIZE = len(dataset)-TRAIN_SIZE-VAL_SIZE\n",
    "\n",
    "print(TRAIN_SIZE,VAL_SIZE,TEST_SIZE)"
   ]
  },
  {
   "cell_type": "code",
   "execution_count": null,
   "metadata": {
    "colab": {
     "base_uri": "https://localhost:8080/"
    },
    "id": "suMdUirSDwJ3",
    "outputId": "0534913e-5563-40a8-93dd-7956eaf1b6d3"
   },
   "outputs": [
    {
     "name": "stdout",
     "output_type": "stream",
     "text": [
      "140000 40000 20000\n"
     ]
    }
   ],
   "source": [
    "# Step 1: Split into train and temp (val + test)\n",
    "train_dataset_split, temp_df = train_test_split(dataset, test_size=(VAL_SIZE + TEST_SIZE), random_state=42, shuffle=True)\n",
    "\n",
    "# Step 2: Split temp into validation and test\n",
    "val_dataset_split, test_dataset_split = train_test_split(temp_df, test_size=(TEST_SIZE / (VAL_SIZE + TEST_SIZE)), random_state=42, shuffle=True)\n",
    "\n",
    "# split the dataset into train, validation and testing data\n",
    "print(len(train_dataset_split), len(val_dataset_split),len(test_dataset_split))"
   ]
  },
  {
   "cell_type": "code",
   "execution_count": null,
   "metadata": {
    "id": "pOOwLTajZJfv"
   },
   "outputs": [],
   "source": [
    "# Pytorch Dataset instances\n",
    "train_dataset = TwitterDataset(train_dataset_split, word2vec_model = cbow, is_test = False)\n",
    "val_dataset = TwitterDataset(val_dataset_split, word2vec_model = cbow, is_test = True)\n",
    "test_dataset = TwitterDataset(test_dataset_split, word2vec_model = cbow, is_test = True)"
   ]
  },
  {
   "cell_type": "code",
   "execution_count": null,
   "metadata": {
    "id": "th9Ml4p4Zr6N"
   },
   "outputs": [],
   "source": [
    "# BATCH_SIZE\n",
    "BATCH_SIZE = 64\n",
    "\n",
    "train_loader = DataLoader(train_dataset, batch_size  = BATCH_SIZE,  num_workers = 2)\n",
    "val_loader = DataLoader(val_dataset, batch_size  = BATCH_SIZE,  num_workers = 2)\n",
    "test_loader = DataLoader(test_dataset, batch_size  = BATCH_SIZE,  num_workers = 2)"
   ]
  },
  {
   "cell_type": "code",
   "execution_count": null,
   "metadata": {
    "colab": {
     "base_uri": "https://localhost:8080/"
    },
    "id": "11DdNYbedJ56",
    "outputId": "505551b4-3f7e-4d91-e280-f020d64f45d1"
   },
   "outputs": [
    {
     "name": "stdout",
     "output_type": "stream",
     "text": [
      "size of input torch.Size([64, 200]) and target is torch.Size([64, 1])\n",
      "size of input torch.Size([64, 200]) and target is torch.Size([64, 1])\n",
      "size of input torch.Size([64, 200]) and target is torch.Size([64, 1])\n"
     ]
    }
   ],
   "source": [
    "# Experiment\n",
    "for inputs, targets in train_loader:\n",
    "  print(f\"size of input {inputs.shape} and target is {targets.shape}\")\n",
    "  break\n",
    "\n",
    "for inputs, targets in val_loader:\n",
    "  print(f\"size of input {inputs.shape} and target is {targets.shape}\")\n",
    "  break\n",
    "\n",
    "for inputs, targets in test_loader:\n",
    "  print(f\"size of input {inputs.shape} and target is {targets.shape}\")\n",
    "  break"
   ]
  },
  {
   "cell_type": "markdown",
   "metadata": {
    "id": "4gOzqamBmhbK"
   },
   "source": [
    "## Build Nerual Network"
   ]
  },
  {
   "cell_type": "code",
   "execution_count": null,
   "metadata": {
    "id": "U_uzOrz44jvp"
   },
   "outputs": [],
   "source": [
    "from tqdm import tnrange,tqdm\n",
    "\n",
    "import torch\n",
    "import torch.nn as nn\n",
    "import torch.nn.functional as F"
   ]
  },
  {
   "cell_type": "code",
   "execution_count": null,
   "metadata": {
    "id": "BMJyAh4Kmgwl"
   },
   "outputs": [],
   "source": [
    "\n",
    "class Classifier(nn.Module):\n",
    "    def __init__(self, input_size = 200, hidden_size_1=128, hidden_size_2 = 64, out_size=1, dropout_prob=0.3):\n",
    "        super(Classifier, self).__init__()\n",
    "\n",
    "        self.features = nn.Sequential(\n",
    "\n",
    "            # Hidden Layer 1\n",
    "            nn.Linear(input_size, hidden_size_1),\n",
    "            nn.BatchNorm1d(hidden_size_1),\n",
    "            nn.ReLU(),\n",
    "            nn.Dropout(dropout_prob),\n",
    "\n",
    "            # Hidden Layer 2\n",
    "            nn.Linear(hidden_size_1, hidden_size_2),\n",
    "            nn.BatchNorm1d(hidden_size_2),\n",
    "            nn.ReLU(),\n",
    "            nn.Dropout(dropout_prob),\n",
    "        )\n",
    "\n",
    "        # Ouptut Layer\n",
    "        self.out = nn.Linear(hidden_size_2, out_size)\n",
    "\n",
    "    def forward(self, X):\n",
    "        feature = self.features(X)\n",
    "        output = self.out(feature)\n",
    "        return output"
   ]
  },
  {
   "cell_type": "code",
   "execution_count": null,
   "metadata": {
    "id": "Imsd85F84NsS"
   },
   "outputs": [],
   "source": [
    "def train(train_loader, net, epoch, criterion, optimizer):\n",
    "\n",
    "  # set the network to training mode\n",
    "  net.train()\n",
    "\n",
    "  # Initialize list to store batch loss\n",
    "  epoch_loss = []\n",
    "\n",
    "  # Iterate through each batch in the training data loader\n",
    "  for batch_idx, batch in enumerate(tqdm(train_loader)):\n",
    "    data, target = batch\n",
    "    # print(f\"Before transfer: data={data.device}, target={target.device}\")  # Debugging line\n",
    "\n",
    "    # Move the data and labels to the chosen device\n",
    "    data , target = data.to(device,non_blocking=True), target.to(device,non_blocking=True)\n",
    "    # print(f\"After transfer: data={data.device}, target={target.device}\")  # Debugging line\n",
    "\n",
    "    # Forward pass: commute predictions and loss\n",
    "    pred = net(data)\n",
    "    loss = criterion(pred,target.float())\n",
    "    epoch_loss.append(loss.item())\n",
    "\n",
    "    # Backward pass and optimization\n",
    "    optimizer.zero_grad()\n",
    "    loss.backward()\n",
    "    optimizer.step()\n",
    "\n",
    "  # Convert epoch loss to numpy array and compute mean\n",
    "  epoch_loss = np.array(epoch_loss)\n",
    "  epoch_loss_avg = epoch_loss.mean()\n",
    "\n",
    "  print(f\"Epoch {epoch}: Average train Loss: {epoch_loss_avg:.4f}\")\n",
    "\n",
    "  return epoch_loss_avg"
   ]
  },
  {
   "cell_type": "code",
   "execution_count": null,
   "metadata": {
    "id": "URQCQUsF-7UW"
   },
   "outputs": [],
   "source": [
    "def test(test_loader, net, epoch, criterion):\n",
    "  # set the network for evaluation mode\n",
    "  net.eval()\n",
    "\n",
    "  # Disable gradient calculation for performance calculation\n",
    "  with torch.no_grad():\n",
    "    # Initiate loss list to store the loss\n",
    "    epoch_val_loss = []\n",
    "\n",
    "    # Iterate through each batch in the test data loader\n",
    "    for batch_idx, batch in enumerate(tqdm(val_loader)):\n",
    "      data,target = batch\n",
    "\n",
    "      # Move data and target to the chosen device\n",
    "      data, target = data.to(device), target.to(device)\n",
    "\n",
    "      # Forward pass: compute predictoins and loss\n",
    "      pred = net(data)\n",
    "      loss = criterion(pred, target.float())\n",
    "      epoch_val_loss.append(loss.item())\n",
    "\n",
    "    #Convcer the epoch loss to numpy array and compute the mean\n",
    "    epoch_val_loss = np.asarray(epoch_val_loss)\n",
    "    epoch_val_loss_avg = epoch_val_loss.mean()\n",
    "\n",
    "    print(f\"Epoch {epoch}: Average test Loss: {epoch_val_loss_avg:.4f}\")\n",
    "\n",
    "    return epoch_val_loss_avg"
   ]
  },
  {
   "cell_type": "code",
   "execution_count": null,
   "metadata": {
    "id": "q1jMfJPjAt3N"
   },
   "outputs": [],
   "source": [
    "# Main function to train the neural network\n",
    "def train_nn( args, hidden_size_1 = 128, hidden_size_2 = 64, input_size = 200, output_size = 1):\n",
    "\n",
    "    # Start MLflow run for experiment tracking\n",
    "    with mlflow.start_run(experiment_id=experiment_id):\n",
    "        # Log hyperparameters\n",
    "        for key, value in args.items():\n",
    "            mlflow.log_param(key, value)\n",
    "\n",
    "        # Log neural network architecture details\n",
    "        mlflow.log_param('input_size', input_size)\n",
    "        mlflow.log_param('hidden_size_1', hidden_size_1)\n",
    "        mlflow.log_param('hidden_size_2', hidden_size_2)\n",
    "        mlflow.log_param('output_size', output_size)\n",
    "\n",
    "        # net = Classifier(input_size,hidden_size_1, output_size)\n",
    "        net = Classifier()\n",
    "        net.to(device)\n",
    "\n",
    "        # Defines the loss function\n",
    "        criterion = nn.BCEWithLogitsLoss()\n",
    "\n",
    "        optimizer = optim.AdamW(net.parameters(), lr=args['lr'], weight_decay=args['weight_decay'])\n",
    "\n",
    "        # Initializes variables to keep track of losses and other metrics\n",
    "        train_losses, test_losses = [], []\n",
    "        best_test_loss = float('inf')\n",
    "        best_model_epoch = -1\n",
    "        no_improvement_epochs = 0\n",
    "\n",
    "        # Records the time at which training starts\n",
    "        start_time = time.time()\n",
    "\n",
    "        # Main training loop\n",
    "        for epoch in range(args['num_epochs']):\n",
    "            # Clears the output and prints the current training status\n",
    "            # clear_output(wait=True)\n",
    "\n",
    "            print('Training neural network... Epoch ' + str(epoch) + '/' + str(args['num_epochs']-1))\n",
    "            if best_model_epoch!=-1:\n",
    "                print(\"Best test loss epoch: \" + str(best_model_epoch))\n",
    "\n",
    "            # Trains the network and logs the loss\n",
    "            epoch_train_loss = train(train_loader, net, epoch,criterion, optimizer)\n",
    "            train_losses.append(epoch_train_loss)\n",
    "            mlflow.log_metric(\"epoch_train_loss\", epoch_train_loss, step=epoch)\n",
    "\n",
    "            # Tests the network and logs the loss\n",
    "            epoch_test_loss = test(test_loader, net, epoch, criterion)\n",
    "            test_losses.append(epoch_test_loss)\n",
    "\n",
    "\n",
    "            # Checks for improvements in test loss\n",
    "            dif = best_test_loss - epoch_test_loss\n",
    "            if epoch_test_loss < best_test_loss:\n",
    "                best_test_loss = epoch_test_loss\n",
    "                # Save the state of the best model for future reference\n",
    "                torch.save(net.state_dict(), 'backup_best_model.pth')\n",
    "                mlflow.log_metric(\"best_test_loss_so_far\", best_test_loss, step=epoch)\n",
    "                best_model_epoch = epoch\n",
    "\n",
    "            # Implements early stopping based on a predefined tolerance and patience\n",
    "            if dif > args['tolerance']:\n",
    "                no_improvement_epochs = 0\n",
    "            else:\n",
    "                no_improvement_epochs += 1\n",
    "            if no_improvement_epochs >= args['patience']:\n",
    "                print(\"Early stopping at epoch: \", epoch)\n",
    "                break\n",
    "\n",
    "        # Records the time at which training ends and calculates the duration\n",
    "        end_time = time.time()\n",
    "        duration = end_time - start_time\n",
    "\n",
    "        # Clears the output and prints the final training status\n",
    "        # clear_output(wait=True)\n",
    "        print(\"Neural network training has finished. Elapsed Time: {:.2f} seconds.\".format(duration))\n",
    "        print(\"Best model saved.\")\n",
    "        print(\"Best test loss epoch: \" + str(best_model_epoch))\n",
    "\n",
    "        # Loads the best model\n",
    "        true_test_labels, predicted_test_labels = [], []\n",
    "        net.load_state_dict(torch.load(\"backup_best_model.pth\"))\n",
    "\n",
    "        # Uses the best model to make predictions on the test data\n",
    "        with torch.no_grad():\n",
    "          for batch in test_loader:\n",
    "            dado, rotulo = batch\n",
    "            dado, rotulo = dado.to(device), rotulo.to(device)\n",
    "            pred = net(dado)\n",
    "            true_test_labels.extend(rotulo.detach().cpu().numpy())\n",
    "            predicted_test_labels.extend((torch.sigmoid(pred) > 0.5).detach().cpu().numpy())\n",
    "\n",
    "          # Calculates performance metrics and logs them using MLflow\n",
    "          test_accuracy = accuracy_score(true_test_labels, predicted_test_labels)\n",
    "          test_precision = precision_score(true_test_labels, predicted_test_labels)\n",
    "          test_recall = recall_score(true_test_labels, predicted_test_labels)\n",
    "          test_f1 = f1_score(true_test_labels, predicted_test_labels)\n",
    "          mlflow.pytorch.log_model(net, \"models\")\n",
    "          mlflow.log_metric(\"test_accuracy\", test_accuracy)\n",
    "          mlflow.log_metric(\"test_precision\", test_precision)\n",
    "          mlflow.log_metric(\"test_recall\", test_recall)\n",
    "          mlflow.log_metric(\"test_f1\", test_f1)\n",
    "          mlflow.log_metric(\"duration\", duration)\n",
    "\n",
    "          # Prints the performance metrics of the best model\n",
    "          print(\"Best model metrics:\")\n",
    "          print('Accuracy: {:.4f}, Precision: {:.4f}, Recall: {:.4f}, F1: {:.4f}'.format(test_accuracy, test_precision, test_recall, test_f1))\n",
    "\n",
    "    return(train_losses, test_losses, best_model_epoch)"
   ]
  },
  {
   "cell_type": "code",
   "execution_count": null,
   "metadata": {
    "id": "UNtcK3QsDl8J"
   },
   "outputs": [],
   "source": [
    "# Set experiment name for MLflow tracking\n",
    "experiment_name = \"BASIC_NN\"\n",
    "\n",
    "# Check if experiment exists; create it if not\n",
    "if mlflow.get_experiment_by_name(experiment_name) is None:\n",
    "    experiment_id = mlflow.create_experiment(experiment_name)\n",
    "else:\n",
    "    # Get existing experiment ID\n",
    "    experiment_id = mlflow.get_experiment_by_name(experiment_name).experiment_id"
   ]
  },
  {
   "cell_type": "code",
   "execution_count": null,
   "metadata": {
    "id": "9SbS4uECDoRy"
   },
   "outputs": [],
   "source": [
    "# Define the parameter grid for hyperparameter tuning\n",
    "param_grid = {\n",
    "    'vectorization': ['cbow'],\n",
    "    'criterion': ['BCEWithLogitsLoss'],\n",
    "    'optimizer': ['Adam'],\n",
    "    'batch_size': [128],\n",
    "    'num_workers': [8],\n",
    "    'lr': [0.0001,0.0005,0.001],  #\n",
    "    'weight_decay': [0.0005,0.0001, 0.001 ], #\n",
    "    'num_epochs': [500],\n",
    "    'tolerance': [0.0003],\n",
    "    'patience': [5]\n",
    "}\n",
    "\n",
    "# Generate all combinations of hyperparameters for grid search\n",
    "all_combinations = [dict(zip(param_grid, v)) for v in product(*param_grid.values())]"
   ]
  },
  {
   "cell_type": "code",
   "execution_count": null,
   "metadata": {
    "id": "34NbEt3k_e_u"
   },
   "outputs": [],
   "source": [
    "# all_combinations"
   ]
  },
  {
   "cell_type": "code",
   "execution_count": null,
   "metadata": {
    "colab": {
     "base_uri": "https://localhost:8080/"
    },
    "id": "Mp41iFODwTTg",
    "outputId": "2807a241-89fe-4a27-9591-778cabbcae56"
   },
   "outputs": [
    {
     "name": "stdout",
     "output_type": "stream",
     "text": [
      "There are 1 combinations left to train.\n"
     ]
    }
   ],
   "source": [
    "# Function to remove already trained combinations from the list\n",
    "def remove_trained(combinations, experiment_id):\n",
    "    # Fetch all runs from MLflow for the given experiment ID\n",
    "    runs = pd.DataFrame(mlflow.search_runs(experiment_id))\n",
    "\n",
    "    trained_lst = []\n",
    "    not_trained_lst = []\n",
    "\n",
    "    # Loop through all runs to gather parameters of trained models\n",
    "    for i in range(runs.shape[0]):\n",
    "        run = runs.iloc[i]\n",
    "        params = {\n",
    "            'vectorization': run['params.vectorization'],\n",
    "            'criterion': run['params.criterion'],\n",
    "            'optimizer': run['params.optimizer'],\n",
    "            'batch_size': int(run['params.batch_size']),\n",
    "            'num_workers': int(run['params.num_workers']),\n",
    "            'lr': float(run['params.lr']),\n",
    "            # 'weight_decay': float(run['params.weight_decay']),\n",
    "            'num_epochs': int(run['params.num_epochs']),\n",
    "            'tolerance': float(run['params.tolerance']),\n",
    "            'patience': int(run['params.patience'])\n",
    "        }\n",
    "\n",
    "        trained_lst.append(params)\n",
    "\n",
    "    # Check which combinations are not yet trained\n",
    "    for i in range(len(combinations)):\n",
    "        already_trained = False\n",
    "\n",
    "        for j in range(len(trained_lst)):\n",
    "            if combinations[i] == trained_lst[j]:\n",
    "                already_trained = True\n",
    "\n",
    "        if not already_trained:\n",
    "            not_trained_lst.append(combinations[i])\n",
    "\n",
    "    return(not_trained_lst)\n",
    "\n",
    "# Remove already trained combinations from the list\n",
    "not_trained_lst = remove_trained(all_combinations,experiment_id)\n",
    "\n",
    "# Check if any combinations are left to train\n",
    "if len(not_trained_lst)>0:\n",
    "    print('There are {} combinations left to train.'.format(len(not_trained_lst)))\n",
    "else:\n",
    "    print('All models have already been trained.')"
   ]
  },
  {
   "cell_type": "code",
   "execution_count": null,
   "metadata": {
    "colab": {
     "base_uri": "https://localhost:8080/"
    },
    "id": "rASto8umu5kN",
    "outputId": "540e99e2-e0ae-431c-f109-d85b8ad0f6ab"
   },
   "outputs": [
    {
     "name": "stdout",
     "output_type": "stream",
     "text": [
      "Training neural network... Epoch 0/499\n"
     ]
    },
    {
     "name": "stderr",
     "output_type": "stream",
     "text": [
      "100%|██████████| 2188/2188 [00:44<00:00, 49.27it/s]\n"
     ]
    },
    {
     "name": "stdout",
     "output_type": "stream",
     "text": [
      "Epoch 0: Average train Loss: 0.5591\n"
     ]
    },
    {
     "name": "stderr",
     "output_type": "stream",
     "text": [
      "100%|██████████| 625/625 [00:11<00:00, 53.98it/s]\n"
     ]
    },
    {
     "name": "stdout",
     "output_type": "stream",
     "text": [
      "Epoch 0: Average test Loss: 0.5086\n",
      "Training neural network... Epoch 1/499\n",
      "Best test loss epoch: 0\n"
     ]
    },
    {
     "name": "stderr",
     "output_type": "stream",
     "text": [
      "100%|██████████| 2188/2188 [00:46<00:00, 46.92it/s]\n"
     ]
    },
    {
     "name": "stdout",
     "output_type": "stream",
     "text": [
      "Epoch 1: Average train Loss: 0.5207\n"
     ]
    },
    {
     "name": "stderr",
     "output_type": "stream",
     "text": [
      "100%|██████████| 625/625 [00:11<00:00, 52.53it/s]\n"
     ]
    },
    {
     "name": "stdout",
     "output_type": "stream",
     "text": [
      "Epoch 1: Average test Loss: 0.4986\n",
      "Training neural network... Epoch 2/499\n",
      "Best test loss epoch: 1\n"
     ]
    },
    {
     "name": "stderr",
     "output_type": "stream",
     "text": [
      "100%|██████████| 2188/2188 [00:44<00:00, 48.79it/s]\n"
     ]
    },
    {
     "name": "stdout",
     "output_type": "stream",
     "text": [
      "Epoch 2: Average train Loss: 0.5097\n"
     ]
    },
    {
     "name": "stderr",
     "output_type": "stream",
     "text": [
      "100%|██████████| 625/625 [00:11<00:00, 54.03it/s]\n"
     ]
    },
    {
     "name": "stdout",
     "output_type": "stream",
     "text": [
      "Epoch 2: Average test Loss: 0.4938\n",
      "Training neural network... Epoch 3/499\n",
      "Best test loss epoch: 2\n"
     ]
    },
    {
     "name": "stderr",
     "output_type": "stream",
     "text": [
      "100%|██████████| 2188/2188 [00:44<00:00, 49.15it/s]\n"
     ]
    },
    {
     "name": "stdout",
     "output_type": "stream",
     "text": [
      "Epoch 3: Average train Loss: 0.5050\n"
     ]
    },
    {
     "name": "stderr",
     "output_type": "stream",
     "text": [
      "100%|██████████| 625/625 [00:11<00:00, 54.37it/s]\n"
     ]
    },
    {
     "name": "stdout",
     "output_type": "stream",
     "text": [
      "Epoch 3: Average test Loss: 0.4918\n",
      "Training neural network... Epoch 4/499\n",
      "Best test loss epoch: 3\n"
     ]
    },
    {
     "name": "stderr",
     "output_type": "stream",
     "text": [
      "100%|██████████| 2188/2188 [00:44<00:00, 49.47it/s]\n"
     ]
    },
    {
     "name": "stdout",
     "output_type": "stream",
     "text": [
      "Epoch 4: Average train Loss: 0.5016\n"
     ]
    },
    {
     "name": "stderr",
     "output_type": "stream",
     "text": [
      "100%|██████████| 625/625 [00:10<00:00, 61.21it/s]\n"
     ]
    },
    {
     "name": "stdout",
     "output_type": "stream",
     "text": [
      "Epoch 4: Average test Loss: 0.4899\n",
      "Training neural network... Epoch 5/499\n",
      "Best test loss epoch: 4\n"
     ]
    },
    {
     "name": "stderr",
     "output_type": "stream",
     "text": [
      "100%|██████████| 2188/2188 [00:49<00:00, 44.54it/s]\n"
     ]
    },
    {
     "name": "stdout",
     "output_type": "stream",
     "text": [
      "Epoch 5: Average train Loss: 0.4982\n"
     ]
    },
    {
     "name": "stderr",
     "output_type": "stream",
     "text": [
      "100%|██████████| 625/625 [00:10<00:00, 58.21it/s]\n"
     ]
    },
    {
     "name": "stdout",
     "output_type": "stream",
     "text": [
      "Epoch 5: Average test Loss: 0.4884\n",
      "Training neural network... Epoch 6/499\n",
      "Best test loss epoch: 5\n"
     ]
    },
    {
     "name": "stderr",
     "output_type": "stream",
     "text": [
      "100%|██████████| 2188/2188 [00:46<00:00, 47.40it/s]\n"
     ]
    },
    {
     "name": "stdout",
     "output_type": "stream",
     "text": [
      "Epoch 6: Average train Loss: 0.4957\n"
     ]
    },
    {
     "name": "stderr",
     "output_type": "stream",
     "text": [
      "100%|██████████| 625/625 [00:10<00:00, 60.11it/s]"
     ]
    },
    {
     "name": "stdout",
     "output_type": "stream",
     "text": [
      "Epoch 6: Average test Loss: 0.4875\n",
      "Early stopping at epoch:  6\n",
      "Neural network training has finished. Elapsed Time: 397.93 seconds.\n",
      "Best model saved.\n",
      "Best test loss epoch: 6\n"
     ]
    },
    {
     "name": "stderr",
     "output_type": "stream",
     "text": [
      "\n",
      "<ipython-input-32-28b580c2e55c>:83: FutureWarning: You are using `torch.load` with `weights_only=False` (the current default value), which uses the default pickle module implicitly. It is possible to construct malicious pickle data which will execute arbitrary code during unpickling (See https://github.com/pytorch/pytorch/blob/main/SECURITY.md#untrusted-models for more details). In a future release, the default value for `weights_only` will be flipped to `True`. This limits the functions that could be executed during unpickling. Arbitrary objects will no longer be allowed to be loaded via this mode unless they are explicitly allowlisted by the user via `torch.serialization.add_safe_globals`. We recommend you start setting `weights_only=True` for any use case where you don't have full control of the loaded file. Please open an issue on GitHub for any issues related to this experimental feature.\n",
      "  net.load_state_dict(torch.load(\"backup_best_model.pth\"))\n",
      "2025/02/23 06:30:14 WARNING mlflow.utils.requirements_utils: Found torch version (2.5.1+cu124) contains a local version label (+cu124). MLflow logged a pip requirement for this package as 'torch==2.5.1' without the local version label to make it installable from PyPI. To specify pip requirements containing local version labels, please use `conda_env` or `pip_requirements`.\n",
      "2025/02/23 06:30:26 WARNING mlflow.utils.requirements_utils: Found torch version (2.5.1+cu124) contains a local version label (+cu124). MLflow logged a pip requirement for this package as 'torch==2.5.1' without the local version label to make it installable from PyPI. To specify pip requirements containing local version labels, please use `conda_env` or `pip_requirements`.\n",
      "\u001b[31m2025/02/23 06:30:26 WARNING mlflow.models.model: Model logged without a signature and input example. Please set `input_example` parameter when logging the model to auto infer the model signature.\u001b[0m\n"
     ]
    },
    {
     "name": "stdout",
     "output_type": "stream",
     "text": [
      "Best model metrics:\n",
      "Accuracy: 0.7630, Precision: 0.7692, Recall: 0.7569, F1: 0.7630\n",
      "\n",
      "\n",
      "Models are trained on all the input parameters.......... Elapsed Time is 423.06715846061707\n"
     ]
    }
   ],
   "source": [
    "# Initialize an empty list to store the results\n",
    "results = []\n",
    "\n",
    "# Record the start time for the training process\n",
    "start_time = time.time()\n",
    "\n",
    "# Loop through each combination of hyperparameters that have not yet been trained\n",
    "for params in all_combinations:\n",
    "  # Train the neural network with the given parameters\n",
    "  # train_losses, test_losses, best_epoch = train_nn(params,hidden_size_1 = 128,hidden_size_2=64,input_size = 200, output_size = 1)\n",
    "  train_losses, test_losses, best_epoch = train_nn(params)\n",
    "\n",
    "  # Append the training results to the results list\n",
    "  results.append({\n",
    "      'params': params,\n",
    "      'train_losses': train_losses,\n",
    "      'test_losses': test_losses,\n",
    "      'best_epoch': best_epoch\n",
    "    })\n",
    "\n",
    "# Record the end time and calculate the total duration\n",
    "print(\"\\n\")\n",
    "print(f\"Models are trained on all the input parameters.......... Elapsed Time is {time.time()-start_time}\")"
   ]
  },
  {
   "cell_type": "code",
   "execution_count": null,
   "metadata": {
    "id": "shhoNNKNuj9O"
   },
   "outputs": [],
   "source": [
    "!cp \"/content/mlruns\" -r \"/content/drive/MyDrive/Twitter_Sentiment_Analysis_21_02/ANN\""
   ]
  },
  {
   "cell_type": "markdown",
   "metadata": {
    "id": "LJoVSthCu7nL"
   },
   "source": []
  },
  {
   "cell_type": "code",
   "execution_count": null,
   "metadata": {
    "colab": {
     "base_uri": "https://localhost:8080/",
     "height": 81
    },
    "id": "46qZC79EygJ8",
    "outputId": "62da4a8d-a70d-4170-f70f-74b535602545"
   },
   "outputs": [
    {
     "data": {
      "application/vnd.google.colaboratory.intrinsic+json": {
       "summary": "{\n  \"name\": \"display(df_basic\",\n  \"rows\": 1,\n  \"fields\": [\n    {\n      \"column\": \"Run ID\",\n      \"properties\": {\n        \"dtype\": \"string\",\n        \"num_unique_values\": 1,\n        \"samples\": [\n          \"0ca0907dec154b57bbcde4be43b8f3bd\"\n        ],\n        \"semantic_type\": \"\",\n        \"description\": \"\"\n      }\n    },\n    {\n      \"column\": \"Best Loss\",\n      \"properties\": {\n        \"dtype\": \"number\",\n        \"std\": null,\n        \"min\": 0.4875312379837036,\n        \"max\": 0.4875312379837036,\n        \"num_unique_values\": 1,\n        \"samples\": [\n          0.4875312379837036\n        ],\n        \"semantic_type\": \"\",\n        \"description\": \"\"\n      }\n    },\n    {\n      \"column\": \"Accuracy\",\n      \"properties\": {\n        \"dtype\": \"number\",\n        \"std\": null,\n        \"min\": 0.76295,\n        \"max\": 0.76295,\n        \"num_unique_values\": 1,\n        \"samples\": [\n          0.76295\n        ],\n        \"semantic_type\": \"\",\n        \"description\": \"\"\n      }\n    },\n    {\n      \"column\": \"F1\",\n      \"properties\": {\n        \"dtype\": \"number\",\n        \"std\": null,\n        \"min\": 0.7629618519074046,\n        \"max\": 0.7629618519074046,\n        \"num_unique_values\": 1,\n        \"samples\": [\n          0.7629618519074046\n        ],\n        \"semantic_type\": \"\",\n        \"description\": \"\"\n      }\n    },\n    {\n      \"column\": \"Recall\",\n      \"properties\": {\n        \"dtype\": \"number\",\n        \"std\": null,\n        \"min\": 0.7568693581985914,\n        \"max\": 0.7568693581985914,\n        \"num_unique_values\": 1,\n        \"samples\": [\n          0.7568693581985914\n        ],\n        \"semantic_type\": \"\",\n        \"description\": \"\"\n      }\n    },\n    {\n      \"column\": \"Precision\",\n      \"properties\": {\n        \"dtype\": \"number\",\n        \"std\": null,\n        \"min\": 0.7691532258064516,\n        \"max\": 0.7691532258064516,\n        \"num_unique_values\": 1,\n        \"samples\": [\n          0.7691532258064516\n        ],\n        \"semantic_type\": \"\",\n        \"description\": \"\"\n      }\n    },\n    {\n      \"column\": \"Duration\",\n      \"properties\": {\n        \"dtype\": \"number\",\n        \"std\": null,\n        \"min\": 397.93194222450256,\n        \"max\": 397.93194222450256,\n        \"num_unique_values\": 1,\n        \"samples\": [\n          397.93194222450256\n        ],\n        \"semantic_type\": \"\",\n        \"description\": \"\"\n      }\n    },\n    {\n      \"column\": \"Vectorization\",\n      \"properties\": {\n        \"dtype\": \"string\",\n        \"num_unique_values\": 1,\n        \"samples\": [\n          \"cbow\"\n        ],\n        \"semantic_type\": \"\",\n        \"description\": \"\"\n      }\n    },\n    {\n      \"column\": \"LR\",\n      \"properties\": {\n        \"dtype\": \"string\",\n        \"num_unique_values\": 1,\n        \"samples\": [\n          \"0.0001\"\n        ],\n        \"semantic_type\": \"\",\n        \"description\": \"\"\n      }\n    },\n    {\n      \"column\": \"Tolerance\",\n      \"properties\": {\n        \"dtype\": \"string\",\n        \"num_unique_values\": 1,\n        \"samples\": [\n          \"0.005\"\n        ],\n        \"semantic_type\": \"\",\n        \"description\": \"\"\n      }\n    },\n    {\n      \"column\": \"Patience\",\n      \"properties\": {\n        \"dtype\": \"string\",\n        \"num_unique_values\": 1,\n        \"samples\": [\n          \"5\"\n        ],\n        \"semantic_type\": \"\",\n        \"description\": \"\"\n      }\n    },\n    {\n      \"column\": \"Weight Decay\",\n      \"properties\": {\n        \"dtype\": \"string\",\n        \"num_unique_values\": 1,\n        \"samples\": [\n          \"0.0005\"\n        ],\n        \"semantic_type\": \"\",\n        \"description\": \"\"\n      }\n    }\n  ]\n}",
       "type": "dataframe"
      },
      "text/html": [
       "\n",
       "  <div id=\"df-d92f9241-dc6d-4f0c-86e7-5d6c39a88d8d\" class=\"colab-df-container\">\n",
       "    <div>\n",
       "<style scoped>\n",
       "    .dataframe tbody tr th:only-of-type {\n",
       "        vertical-align: middle;\n",
       "    }\n",
       "\n",
       "    .dataframe tbody tr th {\n",
       "        vertical-align: top;\n",
       "    }\n",
       "\n",
       "    .dataframe thead th {\n",
       "        text-align: right;\n",
       "    }\n",
       "</style>\n",
       "<table border=\"1\" class=\"dataframe\">\n",
       "  <thead>\n",
       "    <tr style=\"text-align: right;\">\n",
       "      <th></th>\n",
       "      <th>Run ID</th>\n",
       "      <th>Best Loss</th>\n",
       "      <th>Accuracy</th>\n",
       "      <th>F1</th>\n",
       "      <th>Recall</th>\n",
       "      <th>Precision</th>\n",
       "      <th>Duration</th>\n",
       "      <th>Vectorization</th>\n",
       "      <th>LR</th>\n",
       "      <th>Tolerance</th>\n",
       "      <th>Patience</th>\n",
       "      <th>Weight Decay</th>\n",
       "    </tr>\n",
       "  </thead>\n",
       "  <tbody>\n",
       "    <tr>\n",
       "      <th>0</th>\n",
       "      <td>0ca0907dec154b57bbcde4be43b8f3bd</td>\n",
       "      <td>0.487531</td>\n",
       "      <td>0.76295</td>\n",
       "      <td>0.762962</td>\n",
       "      <td>0.756869</td>\n",
       "      <td>0.769153</td>\n",
       "      <td>397.931942</td>\n",
       "      <td>cbow</td>\n",
       "      <td>0.0001</td>\n",
       "      <td>0.005</td>\n",
       "      <td>5</td>\n",
       "      <td>0.0005</td>\n",
       "    </tr>\n",
       "  </tbody>\n",
       "</table>\n",
       "</div>\n",
       "    <div class=\"colab-df-buttons\">\n",
       "\n",
       "  <div class=\"colab-df-container\">\n",
       "    <button class=\"colab-df-convert\" onclick=\"convertToInteractive('df-d92f9241-dc6d-4f0c-86e7-5d6c39a88d8d')\"\n",
       "            title=\"Convert this dataframe to an interactive table.\"\n",
       "            style=\"display:none;\">\n",
       "\n",
       "  <svg xmlns=\"http://www.w3.org/2000/svg\" height=\"24px\" viewBox=\"0 -960 960 960\">\n",
       "    <path d=\"M120-120v-720h720v720H120Zm60-500h600v-160H180v160Zm220 220h160v-160H400v160Zm0 220h160v-160H400v160ZM180-400h160v-160H180v160Zm440 0h160v-160H620v160ZM180-180h160v-160H180v160Zm440 0h160v-160H620v160Z\"/>\n",
       "  </svg>\n",
       "    </button>\n",
       "\n",
       "  <style>\n",
       "    .colab-df-container {\n",
       "      display:flex;\n",
       "      gap: 12px;\n",
       "    }\n",
       "\n",
       "    .colab-df-convert {\n",
       "      background-color: #E8F0FE;\n",
       "      border: none;\n",
       "      border-radius: 50%;\n",
       "      cursor: pointer;\n",
       "      display: none;\n",
       "      fill: #1967D2;\n",
       "      height: 32px;\n",
       "      padding: 0 0 0 0;\n",
       "      width: 32px;\n",
       "    }\n",
       "\n",
       "    .colab-df-convert:hover {\n",
       "      background-color: #E2EBFA;\n",
       "      box-shadow: 0px 1px 2px rgba(60, 64, 67, 0.3), 0px 1px 3px 1px rgba(60, 64, 67, 0.15);\n",
       "      fill: #174EA6;\n",
       "    }\n",
       "\n",
       "    .colab-df-buttons div {\n",
       "      margin-bottom: 4px;\n",
       "    }\n",
       "\n",
       "    [theme=dark] .colab-df-convert {\n",
       "      background-color: #3B4455;\n",
       "      fill: #D2E3FC;\n",
       "    }\n",
       "\n",
       "    [theme=dark] .colab-df-convert:hover {\n",
       "      background-color: #434B5C;\n",
       "      box-shadow: 0px 1px 3px 1px rgba(0, 0, 0, 0.15);\n",
       "      filter: drop-shadow(0px 1px 2px rgba(0, 0, 0, 0.3));\n",
       "      fill: #FFFFFF;\n",
       "    }\n",
       "  </style>\n",
       "\n",
       "    <script>\n",
       "      const buttonEl =\n",
       "        document.querySelector('#df-d92f9241-dc6d-4f0c-86e7-5d6c39a88d8d button.colab-df-convert');\n",
       "      buttonEl.style.display =\n",
       "        google.colab.kernel.accessAllowed ? 'block' : 'none';\n",
       "\n",
       "      async function convertToInteractive(key) {\n",
       "        const element = document.querySelector('#df-d92f9241-dc6d-4f0c-86e7-5d6c39a88d8d');\n",
       "        const dataTable =\n",
       "          await google.colab.kernel.invokeFunction('convertToInteractive',\n",
       "                                                    [key], {});\n",
       "        if (!dataTable) return;\n",
       "\n",
       "        const docLinkHtml = 'Like what you see? Visit the ' +\n",
       "          '<a target=\"_blank\" href=https://colab.research.google.com/notebooks/data_table.ipynb>data table notebook</a>'\n",
       "          + ' to learn more about interactive tables.';\n",
       "        element.innerHTML = '';\n",
       "        dataTable['output_type'] = 'display_data';\n",
       "        await google.colab.output.renderOutput(dataTable, element);\n",
       "        const docLink = document.createElement('div');\n",
       "        docLink.innerHTML = docLinkHtml;\n",
       "        element.appendChild(docLink);\n",
       "      }\n",
       "    </script>\n",
       "  </div>\n",
       "\n",
       "\n",
       "    </div>\n",
       "  </div>\n"
      ],
      "text/plain": [
       "                             Run ID  Best Loss  Accuracy        F1    Recall  \\\n",
       "0  0ca0907dec154b57bbcde4be43b8f3bd   0.487531   0.76295  0.762962  0.756869   \n",
       "\n",
       "   Precision    Duration Vectorization      LR Tolerance Patience Weight Decay  \n",
       "0   0.769153  397.931942          cbow  0.0001     0.005        5       0.0005  "
      ]
     },
     "metadata": {},
     "output_type": "display_data"
    }
   ],
   "source": [
    "# Function to retrieve experiment data from MLflow and format it into a DataFrame\n",
    "def retrieve_experiments(id):\n",
    "    # Fetch all runs for the given experiment ID and convert it to a DataFrame\n",
    "    df = pd.DataFrame(mlflow.search_runs(experiment_ids=[id]))\n",
    "\n",
    "    # Select and rename the columns of interest\n",
    "    df = df[['run_id', 'metrics.best_test_loss_so_far', 'metrics.test_accuracy','metrics.test_f1','metrics.test_recall', 'metrics.test_precision',\n",
    "          'metrics.duration', 'params.vectorization', 'params.lr', 'params.tolerance', 'params.patience','params.weight_decay']]\n",
    "    df = df.rename(columns={\n",
    "        'run_id': 'Run ID', 'metrics.best_test_loss_so_far': 'Best Loss', 'metrics.test_accuracy': 'Accuracy', 'metrics.test_f1': 'F1',\n",
    "        'metrics.test_recall': 'Recall', 'metrics.test_precision': 'Precision', 'metrics.duration': 'Duration', 'params.vectorization': 'Vectorization',\n",
    "        'params.lr': 'LR', 'params.tolerance': 'Tolerance', 'params.patience': 'Patience', 'params.weight_decay': 'Weight Decay'})\n",
    "    return df\n",
    "\n",
    "# Retrieve and display the experiment data, sorted by 'Best Loss'\n",
    "\n",
    "\n",
    "df_basic = retrieve_experiments(experiment_id)\n",
    "display(df_basic.sort_values(by='Best Loss', ascending=True))"
   ]
  },
  {
   "cell_type": "code",
   "execution_count": null,
   "metadata": {
    "colab": {
     "base_uri": "https://localhost:8080/",
     "height": 35
    },
    "id": "fQzE7hk3vGth",
    "outputId": "1265ba03-64c2-4802-e196-73a1be9735c5"
   },
   "outputs": [
    {
     "data": {
      "application/vnd.google.colaboratory.intrinsic+json": {
       "type": "string"
      },
      "text/plain": [
       "'d92ee578cd83469ab7175005f4de69a0'"
      ]
     },
     "execution_count": 43,
     "metadata": {},
     "output_type": "execute_result"
    }
   ],
   "source": [
    "df_basic['Run ID'][0]"
   ]
  },
  {
   "cell_type": "code",
   "execution_count": null,
   "metadata": {
    "id": "pHAdLB3iJFFw"
   },
   "outputs": [],
   "source": [
    "from sklearn.metrics import classification_report"
   ]
  },
  {
   "cell_type": "code",
   "execution_count": null,
   "metadata": {
    "colab": {
     "base_uri": "https://localhost:8080/"
    },
    "id": "2KvzbU5MvaGV",
    "outputId": "5bc469e0-7683-45e5-c407-5fd5ac0c3371"
   },
   "outputs": [
    {
     "name": "stdout",
     "output_type": "stream",
     "text": [
      "MLflow experiment ID is 235970565703592068\n"
     ]
    }
   ],
   "source": [
    "print(f\"MLflow experiment ID is {experiment_id}\")"
   ]
  },
  {
   "cell_type": "code",
   "execution_count": null,
   "metadata": {
    "colab": {
     "base_uri": "https://localhost:8080/"
    },
    "id": "VBy1J0r3SJO0",
    "outputId": "441c5aec-9ca4-4f08-e3d1-c259ea377534"
   },
   "outputs": [
    {
     "name": "stdout",
     "output_type": "stream",
     "text": [
      "Best Model ID is d92ee578cd83469ab7175005f4de69a0\n"
     ]
    },
    {
     "data": {
      "text/plain": [
       "Classifier(\n",
       "  (features): Sequential(\n",
       "    (0): Linear(in_features=200, out_features=128, bias=True)\n",
       "    (1): BatchNorm1d(128, eps=1e-05, momentum=0.1, affine=True, track_running_stats=True)\n",
       "    (2): ReLU()\n",
       "    (3): Dropout(p=0.3, inplace=False)\n",
       "    (4): Linear(in_features=128, out_features=64, bias=True)\n",
       "    (5): BatchNorm1d(64, eps=1e-05, momentum=0.1, affine=True, track_running_stats=True)\n",
       "    (6): ReLU()\n",
       "    (7): Dropout(p=0.3, inplace=False)\n",
       "  )\n",
       "  (out): Linear(in_features=64, out_features=1, bias=True)\n",
       ")"
      ]
     },
     "execution_count": 46,
     "metadata": {},
     "output_type": "execute_result"
    }
   ],
   "source": [
    "# import mlflow\n",
    "import mlflow.pytorch  # Use mlflow.tensorflow or mlflow.sklearn if needed\n",
    "print(f\"Best Model ID is {df_basic['Run ID'][0]}\")\n",
    "\n",
    "best_run_id = df_basic['Run ID'][0]\n",
    "model_path = f\"mlruns/{experiment_id}/{best_run_id}/artifacts/models\"\n",
    "model = mlflow.pytorch.load_model(model_path)\n",
    "model.eval()  # Set model to evaluation mode"
   ]
  },
  {
   "cell_type": "code",
   "execution_count": null,
   "metadata": {
    "colab": {
     "base_uri": "https://localhost:8080/"
    },
    "id": "Wl_6ua5n2IQs",
    "outputId": "a7302200-be8d-494e-d482-3f48fea255f5"
   },
   "outputs": [
    {
     "name": "stdout",
     "output_type": "stream",
     "text": [
      "              precision    recall  f1-score   support\n",
      "\n",
      "         0.0       0.75      0.75      0.75      2479\n",
      "         1.0       0.75      0.75      0.75      2522\n",
      "\n",
      "    accuracy                           0.75      5001\n",
      "   macro avg       0.75      0.75      0.75      5001\n",
      "weighted avg       0.75      0.75      0.75      5001\n",
      "\n"
     ]
    }
   ],
   "source": [
    " # Loads the best model\n",
    "true_test_labels, predicted_test_labels = [], []\n",
    "# input_size = 200  # Adjust if necessary\n",
    "# hidden_size_1 = 128  # Adjust if necessary\n",
    "# output_size = 1   # Adjust if necessary\n",
    "# net = Classifier()\n",
    "model.to(device)\n",
    "\n",
    "# .load_state_dict(torch.load(\"backup_best_model.pth\"))\n",
    "\n",
    "# Uses the best model to make predictions on the test data\n",
    "with torch.no_grad():\n",
    "  for batch in test_loader:\n",
    "    dado, rotulo = batch\n",
    "    dado, rotulo = dado.to(device), rotulo.to(device)\n",
    "    pred = model(dado)\n",
    "    true_test_labels.extend(rotulo.detach().cpu().numpy())\n",
    "    predicted_test_labels.extend((torch.sigmoid(pred) > 0.5).detach().cpu().numpy())\n",
    "\n",
    "# Calculates performance metrics and logs them using MLflow\n",
    "test_accuracy = classification_report(true_test_labels, predicted_test_labels)\n",
    "print(test_accuracy)"
   ]
  },
  {
   "cell_type": "code",
   "execution_count": null,
   "metadata": {
    "colab": {
     "base_uri": "https://localhost:8080/",
     "height": 497
    },
    "id": "2w_r-7NYfCNq",
    "outputId": "c6c6df13-6ff1-42f7-b8dc-6afc3301581a"
   },
   "outputs": [
    {
     "name": "stdout",
     "output_type": "stream",
     "text": [
      "\n",
      "Confusion Matrix:\n",
      "          Negative  Positive\n",
      "Negative      1859       620\n",
      "Positive       626      1896\n"
     ]
    },
    {
     "data": {
      "image/png": "[encoded data removed]",
      "text/plain": [
       "<Figure size 600x400 with 1 Axes>"
      ]
     },
     "metadata": {},
     "output_type": "display_data"
    }
   ],
   "source": [
    "from sklearn.metrics import confusion_matrix\n",
    "import seaborn as sns\n",
    "import matplotlib.pyplot as plt\n",
    "\n",
    "cm = confusion_matrix(true_test_labels, predicted_test_labels)\n",
    "\n",
    "labels = [\"Negative\", \"Positive\"]\n",
    "cm_df = pd.DataFrame(cm, index=labels, columns=labels)\n",
    "\n",
    "print(\"\\nConfusion Matrix:\")\n",
    "print(cm_df)\n",
    "\n",
    "# Plot confusion matrix\n",
    "plt.figure(figsize=(6, 4))\n",
    "sns.heatmap(cm, annot=True, fmt=\"d\", cmap=\"Blues\", xticklabels=[\"Negative\", \"Positive\"], yticklabels=[\"Negative\", \"Positive\"], cbar = False)\n",
    "plt.xlabel(\"Predicted Label\")\n",
    "plt.ylabel(\"True Label\")\n",
    "plt.title(\"Confusion Matrix\")\n",
    "plt.show()"
   ]
  },
  {
   "cell_type": "code",
   "execution_count": null,
   "metadata": {
    "colab": {
     "base_uri": "https://localhost:8080/",
     "height": 410
    },
    "id": "zdUfla4rTWur",
    "outputId": "46f9b408-8de7-4acb-995d-b2601901195e"
   },
   "outputs": [
    {
     "data": {
      "image/png": "[encoded data removed]",
      "text/plain": [
       "<Figure size 600x400 with 1 Axes>"
      ]
     },
     "metadata": {},
     "output_type": "display_data"
    }
   ],
   "source": [
    "import torch\n",
    "import numpy as np\n",
    "import matplotlib.pyplot as plt\n",
    "from sklearn.metrics import roc_curve, auc\n",
    "\n",
    "# Ensure model is in evaluation mode\n",
    "model.eval()\n",
    "\n",
    "# Lists to store true labels and predicted probabilities\n",
    "y_true = []\n",
    "y_probs = []  # Probabilities instead of binary predictions\n",
    "\n",
    "for inputs, labels in test_loader:  # Assuming test_loader is defined\n",
    "    inputs = inputs.to(device)\n",
    "    labels = labels.to(device)\n",
    "\n",
    "    with torch.no_grad():\n",
    "        outputs = model(inputs)\n",
    "        probs = torch.sigmoid(outputs)  # Get probabilities from logits\n",
    "\n",
    "    y_true.extend(labels.cpu().numpy())\n",
    "    y_probs.extend(probs.cpu().numpy())\n",
    "\n",
    "# Compute ROC curve\n",
    "fpr, tpr, _ = roc_curve(y_true, y_probs)\n",
    "roc_auc = auc(fpr, tpr)  # Compute AUC (Area Under the Curve)\n",
    "\n",
    "# Plot ROC Curve\n",
    "plt.figure(figsize=(6, 4))\n",
    "plt.plot(fpr, tpr, color='blue', lw=2, label=f'ROC Curve (AUC = {roc_auc:.2f})')\n",
    "plt.plot([0, 1], [0, 1], color='gray', linestyle='--')  # Random guess line\n",
    "plt.xlabel(\"False Positive Rate\")\n",
    "plt.ylabel(\"True Positive Rate\")\n",
    "plt.title(\"Receiver Operating Characteristic (ROC) Curve\")\n",
    "plt.legend(loc=\"lower right\")\n",
    "plt.grid()\n",
    "plt.show()"
   ]
  },
  {
   "cell_type": "code",
   "execution_count": null,
   "metadata": {
    "id": "RcRbF4Kek0bM"
   },
   "outputs": [],
   "source": []
  }
 ],
 "metadata": {
  "colab": {
   "provenance": []
  },
  "kernelspec": {
   "display_name": "Python 3 (ipykernel)",
   "language": "python",
   "name": "python3"
  },
  "language_info": {
   "codemirror_mode": {
    "name": "ipython",
    "version": 3
   },
   "file_extension": ".py",
   "mimetype": "text/x-python",
   "name": "python",
   "nbconvert_exporter": "python",
   "pygments_lexer": "ipython3",
   "version": "3.10.9"
  }
 },
 "nbformat": 4,
 "nbformat_minor": 1
}
